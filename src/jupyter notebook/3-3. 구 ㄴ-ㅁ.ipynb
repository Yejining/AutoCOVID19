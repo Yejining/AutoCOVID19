{
 "cells": [
  {
   "cell_type": "markdown",
   "metadata": {},
   "source": [
    "## 노원-마포"
   ]
  },
  {
   "cell_type": "code",
   "execution_count": 1,
   "metadata": {},
   "outputs": [],
   "source": [
    "import sys\n",
    "import os\n",
    "from pathlib import Path\n",
    "from os import listdir\n",
    "from os.path import isfile, join\n",
    "\n",
    "root = Path(os.getcwd()).parent\n",
    "sys.path.append(str(Path(os.getcwd()).parent))"
   ]
  },
  {
   "cell_type": "code",
   "execution_count": 2,
   "metadata": {},
   "outputs": [],
   "source": [
    "from bs4 import BeautifulSoup\n",
    "from src.parser import NowonParser1\n",
    "from src.parser import DobongParser1\n",
    "from src.parser import DongdaemoonParser1, DongdaemoonParser2\n",
    "from src.parser import DongjakParser1\n",
    "from src.parser import MapoParser1, MapoParser2\n",
    "import requests\n",
    "import pandas as pd"
   ]
  },
  {
   "cell_type": "markdown",
   "metadata": {},
   "source": [
    "### 노원\n",
    "html 전부 노원구 홈페이지"
   ]
  },
  {
   "cell_type": "code",
   "execution_count": 3,
   "metadata": {},
   "outputs": [
    {
     "data": {
      "text/plain": [
       "\"\\nurl = ''\\n\\nfiles1 = ['0827노원1.html', '0827노원10.html', '0827노원11.html', '0827노원12.html', '0827노원13.html',\\n        '0827노원14.html', '0827노원2.html', '0827노원3.html', '0827노원4.html', '0827노원5.html',\\n        '0827노원6.html', '0827노원7.html', '0827노원8.html', '0827노원9.html', '0831노원1.html',\\n        '0831노원2.html', '0831노원3.html', '0831노원4.html', '0831노원5.html', '0831노원6.html',\\n        '0831노원7.html', '0831노원8.html', '0831노원9.html', '0903노원1.html', '0903노원2.html',\\n        '0903노원3.html', '0903노원4.html', '0903노원5.html', '0903노원6.html']\\n\\nnowon_path1 = join(root, 'new_dataset', 'nowon')\\n\\nsaving_path1 = join(root, 'new_dataset', 'extracted', 'nowon1.csv')\\n\\nnowon_parser1 = NowonParser1(url, 'corona-tab-con01')\\n\\nnowon_parser1.parse_and_save(files1, nowon_path1, saving_path1)\\n\""
      ]
     },
     "execution_count": 3,
     "metadata": {},
     "output_type": "execute_result"
    }
   ],
   "source": [
    "'''\n",
    "url = ''\n",
    "\n",
    "files1 = ['0827노원1.html', '0827노원10.html', '0827노원11.html', '0827노원12.html', '0827노원13.html',\n",
    "        '0827노원14.html', '0827노원2.html', '0827노원3.html', '0827노원4.html', '0827노원5.html',\n",
    "        '0827노원6.html', '0827노원7.html', '0827노원8.html', '0827노원9.html', '0831노원1.html',\n",
    "        '0831노원2.html', '0831노원3.html', '0831노원4.html', '0831노원5.html', '0831노원6.html',\n",
    "        '0831노원7.html', '0831노원8.html', '0831노원9.html', '0903노원1.html', '0903노원2.html',\n",
    "        '0903노원3.html', '0903노원4.html', '0903노원5.html', '0903노원6.html']\n",
    "\n",
    "nowon_path1 = join(root, 'new_dataset', 'nowon')\n",
    "\n",
    "saving_path1 = join(root, 'new_dataset', 'extracted', 'nowon1.csv')\n",
    "\n",
    "nowon_parser1 = NowonParser1(url, 'corona-tab-con01')\n",
    "\n",
    "nowon_parser1.parse_and_save(files1, nowon_path1, saving_path1)\n",
    "'''"
   ]
  },
  {
   "cell_type": "markdown",
   "metadata": {},
   "source": [
    "### 도봉\n",
    "html 전부 도봉구 홈페이지"
   ]
  },
  {
   "cell_type": "code",
   "execution_count": 4,
   "metadata": {},
   "outputs": [
    {
     "data": {
      "text/plain": [
       "\"\\nurl = ''\\n\\nfiles1 = ['0831도봉.html', '0831도봉타지역.html', '0903도봉.html', '0903도봉타지역.html']\\n\\ndobong_path1 = join(root, 'new_dataset', 'dobong')\\n\\nsaving_path1 = join(root, 'new_dataset', 'extracted', 'dobong1.csv')\\n\\ndobong_parser1 = DobongParser1(url, 'corona_table')\\n\\ndobong_parser1.parse_and_save(files1, dobong_path1, saving_path1)\\n\""
      ]
     },
     "execution_count": 4,
     "metadata": {},
     "output_type": "execute_result"
    }
   ],
   "source": [
    "'''\n",
    "url = ''\n",
    "\n",
    "files1 = ['0831도봉.html', '0831도봉타지역.html', '0903도봉.html', '0903도봉타지역.html']\n",
    "\n",
    "dobong_path1 = join(root, 'new_dataset', 'dobong')\n",
    "\n",
    "saving_path1 = join(root, 'new_dataset', 'extracted', 'dobong1.csv')\n",
    "\n",
    "dobong_parser1 = DobongParser1(url, 'corona_table')\n",
    "\n",
    "dobong_parser1.parse_and_save(files1, dobong_path1, saving_path1)\n",
    "'''"
   ]
  },
  {
   "cell_type": "markdown",
   "metadata": {},
   "source": [
    "### 동대문\n",
    "html끼리 같은 양식, xhtml끼리 같은 양식"
   ]
  },
  {
   "cell_type": "code",
   "execution_count": 9,
   "metadata": {
    "scrolled": false
   },
   "outputs": [
    {
     "name": "stdout",
     "output_type": "stream",
     "text": [
      "0827동대문100번.xhtml\n",
      "0827동대문101번.xhtml\n",
      "0827동대문102번.xhtml\n",
      "0827동대문103번.xhtml\n",
      "0827동대문104번.xhtml\n",
      "0827동대문105번.xhtml\n",
      "0827동대문106번.xhtml\n",
      "0827동대문107번.xhtml\n",
      "0827동대문108번.xhtml\n",
      "0827동대문48번.xhtml\n",
      "0827동대문49번.xhtml\n",
      "0827동대문50번.xhtml\n",
      "0827동대문51번.xhtml\n",
      "0827동대문52번.xhtml\n",
      "0827동대문53번.xhtml\n",
      "0827동대문54번.xhtml\n",
      "0827동대문55번.xhtml\n",
      "0827동대문56번.xhtml\n",
      "0827동대문57번.xhtml\n",
      "0827동대문58번.xhtml\n",
      "0827동대문59번.xhtml\n",
      "0827동대문60번.xhtml\n",
      "0827동대문61번.xhtml\n",
      "0827동대문62번.xhtml\n",
      "0827동대문63번.xhtml\n",
      "0827동대문64번.xhtml\n",
      "0827동대문65번.xhtml\n",
      "0827동대문66번.xhtml\n",
      "0827동대문67번.xhtml\n",
      "0827동대문68번.xhtml\n",
      "0827동대문69번.xhtml\n",
      "0827동대문70번.xhtml\n",
      "0827동대문71번.xhtml\n",
      "0827동대문72번.xhtml\n",
      "0827동대문73번.xhtml\n",
      "0827동대문74번.xhtml\n",
      "0827동대문75번.xhtml\n",
      "0827동대문76번.xhtml\n",
      "0827동대문77번.xhtml\n",
      "0827동대문78번.xhtml\n",
      "0827동대문79번.xhtml\n",
      "0827동대문80번.xhtml\n",
      "0827동대문81번.xhtml\n",
      "0827동대문82번.xhtml\n",
      "0827동대문83번.xhtml\n",
      "0827동대문84번.xhtml\n",
      "0827동대문85번.xhtml\n",
      "0827동대문86번.xhtml\n",
      "0827동대문87번.xhtml\n",
      "0827동대문88번.xhtml\n",
      "0827동대문89번.xhtml\n",
      "0827동대문90번.xhtml\n",
      "0827동대문91번.xhtml\n",
      "0827동대문92번.xhtml\n",
      "0827동대문93번.xhtml\n",
      "0827동대문94번.xhtml\n",
      "0827동대문95번.xhtml\n",
      "0827동대문96번.xhtml\n",
      "0827동대문97번.xhtml\n",
      "0827동대문98번.xhtml\n",
      "0827동대문99번.xhtml\n"
     ]
    }
   ],
   "source": [
    "'''\n",
    "url = ''\n",
    "\n",
    "files1 = ['0827동대문.html', '0831동대문.html', '0831동대문108번~117번.html', '0903동대문118번~127번.html']\n",
    "files2 = ['0827동대문100번.xhtml', '0827동대문101번.xhtml', '0827동대문102번.xhtml', '0827동대문103번.xhtml', \n",
    "          '0827동대문104번.xhtml', '0827동대문105번.xhtml', '0827동대문106번.xhtml', '0827동대문107번.xhtml', \n",
    "          '0827동대문108번.xhtml', '0827동대문48번.xhtml', '0827동대문49번.xhtml', '0827동대문50번.xhtml', \n",
    "          '0827동대문51번.xhtml', '0827동대문52번.xhtml', '0827동대문53번.xhtml', '0827동대문54번.xhtml', \n",
    "          '0827동대문55번.xhtml', '0827동대문56번.xhtml', '0827동대문57번.xhtml', '0827동대문58번.xhtml', \n",
    "          '0827동대문59번.xhtml', '0827동대문60번.xhtml', '0827동대문61번.xhtml', '0827동대문62번.xhtml', \n",
    "          '0827동대문63번.xhtml', '0827동대문64번.xhtml', '0827동대문65번.xhtml', '0827동대문66번.xhtml', \n",
    "          '0827동대문67번.xhtml', '0827동대문68번.xhtml', '0827동대문69번.xhtml', '0827동대문70번.xhtml', \n",
    "          '0827동대문71번.xhtml', '0827동대문72번.xhtml', '0827동대문73번.xhtml', '0827동대문74번.xhtml', \n",
    "          '0827동대문75번.xhtml', '0827동대문76번.xhtml', '0827동대문77번.xhtml', '0827동대문78번.xhtml', \n",
    "          '0827동대문79번.xhtml', '0827동대문80번.xhtml', '0827동대문81번.xhtml', '0827동대문82번.xhtml', \n",
    "          '0827동대문83번.xhtml', '0827동대문84번.xhtml', '0827동대문85번.xhtml', '0827동대문86번.xhtml', \n",
    "          '0827동대문87번.xhtml', '0827동대문88번.xhtml', '0827동대문89번.xhtml', '0827동대문90번.xhtml', \n",
    "          '0827동대문91번.xhtml', '0827동대문92번.xhtml', '0827동대문93번.xhtml', '0827동대문94번.xhtml', \n",
    "          '0827동대문95번.xhtml', '0827동대문96번.xhtml', '0827동대문97번.xhtml', '0827동대문98번.xhtml', \n",
    "          '0827동대문99번.xhtml']\n",
    "\n",
    "dongdaemoon_path1 = join(root, 'new_dataset', 'dongdaemoon')\n",
    "\n",
    "saving_path1 = join(root, 'new_dataset', 'extracted', 'dongdaemoon1.csv')\n",
    "saving_path2 = join(root, 'new_dataset', 'extracted', 'dongdaemoon2.csv')\n",
    "\n",
    "dongdaemoon_parser1 = DongdaemoonParser1(url, 'tbl-wrap tabvw tabshow')\n",
    "dongdaemoon_parser2 = DongdaemoonParser2(url, 'rightWrap')\n",
    "\n",
    "dongdaemoon_parser1.parse_and_save(files1, dongdaemoon_path1, saving_path1)\n",
    "dongdaemoon_parser2.parse_and_save(files2, dongdaemoon_path1, saving_path2)\n",
    "'''"
   ]
  },
  {
   "cell_type": "markdown",
   "metadata": {},
   "source": [
    "### 동작\n",
    "- html 3개"
   ]
  },
  {
   "cell_type": "code",
   "execution_count": 6,
   "metadata": {
    "scrolled": false
   },
   "outputs": [
    {
     "data": {
      "text/plain": [
       "\"\\nurl = ''\\n\\nfiles1 = ['0827동작.html', '0831동작.html', '0903동작.html']\\n\\ndongjak_path1 = join(root, 'new_dataset', 'dongjak')\\n\\nsaving_path1 = join(root, 'new_dataset', 'extracted', 'dongjak1.csv')\\n\\ndongjak_parser1 = DongjakParser1(url, '')\\n\\ndongjak_parser1.parse_and_save(files1, dongjak_path1, saving_path1)\\n\""
      ]
     },
     "execution_count": 6,
     "metadata": {},
     "output_type": "execute_result"
    }
   ],
   "source": [
    "'''\n",
    "url = ''\n",
    "\n",
    "files1 = ['0827동작.html', '0831동작.html', '0903동작.html']\n",
    "\n",
    "dongjak_path1 = join(root, 'new_dataset', 'dongjak')\n",
    "\n",
    "saving_path1 = join(root, 'new_dataset', 'extracted', 'dongjak1.csv')\n",
    "\n",
    "dongjak_parser1 = DongjakParser1(url, '')\n",
    "\n",
    "dongjak_parser1.parse_and_save(files1, dongjak_path1, saving_path1)\n",
    "'''"
   ]
  },
  {
   "cell_type": "markdown",
   "metadata": {},
   "source": [
    "### 마포\n",
    "html 전부 마포구 홈페이지"
   ]
  },
  {
   "cell_type": "code",
   "execution_count": 7,
   "metadata": {
    "scrolled": false
   },
   "outputs": [
    {
     "data": {
      "text/plain": [
       "\"\\nurl = ''\\n\\nfiles1 = ['0827마포.html', '0831마포.html', '0903마포.html',]\\nfiles2 = ['0827마포타지역.html', '0831마포타지역.html']\\n\\nmapo_path1 = join(root, 'new_dataset', 'mapo')\\n\\nsaving_path1 = join(root, 'new_dataset', 'extracted', 'mapo1.csv')\\nsaving_path2 = join(root, 'new_dataset', 'extracted', 'mapo2.csv')\\n\\nmapo_parser1 = MapoParser1(url, 'contents')\\nmapo_parser2 = MapoParser2(url, 'contents')\\n\\nmapo_parser1.parse_and_save(files1, mapo_path1, saving_path1)\\nmapo_parser2.parse_and_save(files2, mapo_path1, saving_path2)\\n\""
      ]
     },
     "execution_count": 7,
     "metadata": {},
     "output_type": "execute_result"
    }
   ],
   "source": [
    "'''\n",
    "url = ''\n",
    "\n",
    "files1 = ['0827마포.html', '0831마포.html', '0903마포.html',]\n",
    "files2 = ['0827마포타지역.html', '0831마포타지역.html']\n",
    "\n",
    "mapo_path1 = join(root, 'new_dataset', 'mapo')\n",
    "\n",
    "saving_path1 = join(root, 'new_dataset', 'extracted', 'mapo1.csv')\n",
    "saving_path2 = join(root, 'new_dataset', 'extracted', 'mapo2.csv')\n",
    "\n",
    "mapo_parser1 = MapoParser1(url, 'contents')\n",
    "mapo_parser2 = MapoParser2(url, 'contents')\n",
    "\n",
    "mapo_parser1.parse_and_save(files1, mapo_path1, saving_path1)\n",
    "mapo_parser2.parse_and_save(files2, mapo_path1, saving_path2)\n",
    "'''"
   ]
  }
 ],
 "metadata": {
  "kernelspec": {
   "display_name": "Python 3",
   "language": "python",
   "name": "python3"
  },
  "language_info": {
   "codemirror_mode": {
    "name": "ipython",
    "version": 3
   },
   "file_extension": ".py",
   "mimetype": "text/x-python",
   "name": "python",
   "nbconvert_exporter": "python",
   "pygments_lexer": "ipython3",
   "version": "3.7.4"
  }
 },
 "nbformat": 4,
 "nbformat_minor": 2
}
