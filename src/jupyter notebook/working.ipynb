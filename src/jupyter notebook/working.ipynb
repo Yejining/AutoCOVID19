{
 "cells": [
  {
   "cell_type": "code",
   "execution_count": 1,
   "metadata": {},
   "outputs": [
    {
     "name": "stdout",
     "output_type": "stream",
     "text": [
      "                            id  learning_rate  batch_size  \\\n",
      "0                    all_cases       0.004238           1   \n",
      "1          developmental_stage       0.000590           2   \n",
      "2                   remove_age       0.000406           2   \n",
      "3                remove_gender       0.000205           1   \n",
      "4  merge_three_infection_cases       0.001471           1   \n",
      "5       remove_infection_cases       0.003317           4   \n",
      "6           hopital_facilities       0.000971           2   \n",
      "7    transportation_facilities       0.000902           1   \n",
      "8            food_and_beverage       0.004853           4   \n",
      "9            remove_visit_type       0.001988           1   \n",
      "\n",
      "   num_convlstm_layers  num_filters_1  num_filters_2  num_filters_3  \\\n",
      "0                    1              1            NaN            NaN   \n",
      "1                    3              4           15.0            1.0   \n",
      "2                    3             19            4.0            1.0   \n",
      "3                    2             17            1.0            NaN   \n",
      "4                    1              1            NaN            NaN   \n",
      "5                    2             11            1.0            NaN   \n",
      "6                    1              1            NaN            NaN   \n",
      "7                    3              3            4.0            1.0   \n",
      "8                    1              1            NaN            NaN   \n",
      "9                    2              7            1.0            NaN   \n",
      "\n",
      "   kernel_size_1  kernel_size_2  kernel_size_3  kernel_size_4  kernel_size_5  \n",
      "0              1            NaN            NaN            NaN              9  \n",
      "1              7            1.0            3.0            NaN              5  \n",
      "2              3            9.0            7.0            NaN              5  \n",
      "3              7            1.0            NaN            NaN              7  \n",
      "4              1            NaN            NaN            NaN              7  \n",
      "5              7            7.0            NaN            NaN              9  \n",
      "6              5            NaN            NaN            NaN              5  \n",
      "7              3            5.0            1.0            NaN              9  \n",
      "8              3            NaN            NaN            NaN              5  \n",
      "9              9            7.0            NaN            NaN              1  \n"
     ]
    }
   ],
   "source": [
    "import pandas\n",
    "df = pandas.read_csv('hpo.csv')\n",
    "print(df)"
   ]
  },
  {
   "cell_type": "code",
   "execution_count": 10,
   "metadata": {
    "pycharm": {
     "name": "#%%\n"
    }
   },
   "outputs": [
    {
     "name": "stdout",
     "output_type": "stream",
     "text": [
      "0\n",
      "<class 'pandas.core.series.Series'>\n"
     ]
    }
   ],
   "source": [
    "abc = df.iloc[0:1]\n",
    "print(abc['id'].index.values[0])\n",
    "print(type(abc['learning_rate']))"
   ]
  },
  {
   "cell_type": "code",
   "execution_count": 3,
   "metadata": {},
   "outputs": [
    {
     "data": {
      "text/plain": [
       "10"
      ]
     },
     "execution_count": 3,
     "metadata": {},
     "output_type": "execute_result"
    }
   ],
   "source": []
  },
  {
   "cell_type": "code",
   "execution_count": null,
   "metadata": {},
   "outputs": [],
   "source": []
  }
 ],
 "metadata": {
  "kernelspec": {
   "display_name": "Python 3",
   "language": "python",
   "name": "python3"
  },
  "language_info": {
   "codemirror_mode": {
    "name": "ipython",
    "version": 3
   },
   "file_extension": ".py",
   "mimetype": "text/x-python",
   "name": "python",
   "nbconvert_exporter": "python",
   "pygments_lexer": "ipython3",
   "version": "3.7.7"
  }
 },
 "nbformat": 4,
 "nbformat_minor": 4
}