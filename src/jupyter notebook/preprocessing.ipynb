{
 "cells": [
  {
   "cell_type": "code",
   "execution_count": 1,
   "metadata": {},
   "outputs": [],
   "source": [
    "import pandas as pd"
   ]
  },
  {
   "cell_type": "code",
   "execution_count": 2,
   "metadata": {},
   "outputs": [],
   "source": [
    "def toGrid(lat, lon):\n",
    "    row = 256\n",
    "    column = 256\n",
    "    seoul_start_lat = 37.698098\n",
    "    seoul_start_lon = 126.799791\n",
    "    seoul_end_lat = 37.472494\n",
    "    seoul_end_lon = 127.142928\n",
    "    lat_distance = seoul_end_lat - seoul_start_lat \n",
    "    lon_distance = seoul_end_lon - seoul_start_lon\n",
    "\n",
    "    if seoul_end_lat > lat or lat > seoul_start_lat:\n",
    "        return -1, -1\n",
    "    if seoul_start_lon > lon or lon > seoul_end_lon:\n",
    "        return -1, -1\n",
    "\n",
    "    lat_distance2= lat - seoul_start_lat\n",
    "    lon_distance2 = lon - seoul_start_lon\n",
    "    row = (lat_distance2 * 255) / lat_distance\n",
    "    col = (lon_distance2 * 255) / lon_distance\n",
    "\n",
    "    return int(row), int(col)"
   ]
  },
  {
   "cell_type": "code",
   "execution_count": 3,
   "metadata": {},
   "outputs": [],
   "source": [
    "# 환자 경로 파일, 환자 정보 병합 후 파일로 저장\n",
    "patient_route = pd.read_csv('covid19/PatientRoute.csv')\n",
    "patient_info = pd.read_csv('covid19/PatientInfo.csv')\n",
    "patient_info = patient_info[[\"patient_id\",\"global_num\",\"sex\",\"age\",\"infection_case\"]]\n",
    "\n",
    "# sex, age 없는 경우 삭제\n",
    "merged_route = pd.merge(patient_info, patient_route)\n",
    "merged_route = merged_route[pd.notnull(merged_route['sex'])]\n",
    "merged_route = merged_route[pd.notnull(merged_route['age'])]\n",
    "\n",
    "# latitude, longitude → grid 정보\n",
    "merged_route[\"row\"] = \"\"\n",
    "merged_route[\"col\"] = \"\"\n",
    "\n",
    "for i in range(len(merged_route)):\n",
    "    latitude = merged_route['latitude'].values[i]\n",
    "    longitude = merged_route['longitude'].values[i]\n",
    "    row, col = toGrid(latitude, longitude)\n",
    "    merged_route.iloc[i, merged_route.columns.get_loc('row')] = row\n",
    "    merged_route.iloc[i, merged_route.columns.get_loc('col')] = col\n",
    "    \n",
    "# 서울 아닌 확진자 방문지 제거, 필요 없는 columns 제거\n",
    "merged_route = merged_route.loc[merged_route['row'] != -1]\n",
    "merged_route = merged_route[['patient_id', 'sex', 'age', 'infection_case', 'date', 'type', 'latitude', 'longitude', 'row', 'col']]\n",
    "\n",
    "# 집단감염 value 수정\n",
    "causes = merged_route['infection_case']\n",
    "causes = causes.drop_duplicates(keep='last')\n",
    "causes = causes.dropna()\n",
    "causes = causes.tolist()\n",
    "causes_stay = [\"contact with patient\", \"overseas inflow\", \"etc\"]\n",
    "\n",
    "for i in range(len(merged_route)):\n",
    "    cause = merged_route.iloc[i, merged_route.columns.get_loc('infection_case')]\n",
    "    if cause in causes_stay: continue\n",
    "    merged_route.iloc[i, merged_route.columns.get_loc('infection_case')] = \"community infection\"\n",
    "\n",
    "# 파일로 저장\n",
    "merged_route.to_csv(\"covid19/MergedRoute.csv\", mode='w')"
   ]
  }
 ],
 "metadata": {
  "kernelspec": {
   "display_name": "Python 3",
   "language": "python",
   "name": "python3"
  },
  "language_info": {
   "codemirror_mode": {
    "name": "ipython",
    "version": 3
   },
   "file_extension": ".py",
   "mimetype": "text/x-python",
   "name": "python",
   "nbconvert_exporter": "python",
   "pygments_lexer": "ipython3",
   "version": "3.6.10"
  }
 },
 "nbformat": 4,
 "nbformat_minor": 4
}
