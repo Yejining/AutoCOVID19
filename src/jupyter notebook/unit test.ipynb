{
 "cells": [
  {
   "cell_type": "code",
   "execution_count": 1,
   "metadata": {},
   "outputs": [],
   "source": [
    "import pandas as pd\n",
    "import numpy as np\n",
    "import math\n",
    "from PIL import Image\n",
    "from pathlib import Path\n",
    "from datetime import datetime, timedelta"
   ]
  },
  {
   "cell_type": "code",
   "execution_count": 2,
   "metadata": {},
   "outputs": [],
   "source": [
    "def unique_value(array, property):\n",
    "    array = array[property]\n",
    "    array = array.drop_duplicates(keep='last')\n",
    "    array = array.tolist()\n",
    "    array.sort()\n",
    "    return array\n",
    "\n",
    "routes = pd.read_csv('../covid_dataset/raw/Figure.csv')\n",
    "dates = unique_value(routes, 'date')\n",
    "patients = unique_value(routes, 'patient_id')"
   ]
  },
  {
   "cell_type": "code",
   "execution_count": 3,
   "metadata": {},
   "outputs": [],
   "source": [
    "size = 256\n",
    "kernel_size = 3\n",
    "weight = 10"
   ]
  },
  {
   "cell_type": "code",
   "execution_count": 4,
   "metadata": {},
   "outputs": [],
   "source": [
    "names = ['age', 'sex', 'infection_case', 'type', 'date']\n",
    "counts = [11, 2, 4, 21, 7]\n",
    "visit_types = ['karaoke', 'gas_station', 'gym', 'bakery', 'pc_cafe',\n",
    "              'beauty_salon', 'school', 'church', 'bank', 'cafe',\n",
    "              'bar', 'post_office', 'real_estate_agency', 'lodging',\n",
    "              'public_transportation', 'restaurant', 'etc', 'store',\n",
    "              'hospital', 'pharmacy', 'airport']\n",
    "causes = ['community infection', 'etc', 'contact with patient', 'overseas inflow']"
   ]
  },
  {
   "cell_type": "code",
   "execution_count": 5,
   "metadata": {},
   "outputs": [],
   "source": [
    "class Patient:\n",
    "    def age_category(age):\n",
    "        age = int(age[:-1])\n",
    "        if age == 0: return 0\n",
    "        elif age == 100: return 10\n",
    "        return age // 10\n",
    "            \n",
    "    def sex_category(sex):\n",
    "        if sex == 'male': return 0\n",
    "        return 1\n",
    "\n",
    "    def infection_case_category(infection_case, causes):\n",
    "        return causes.index(infection_case)\n",
    "    \n",
    "    def type_category(visit_type, move_types):\n",
    "        return move_types.index(visit_type)\n",
    "\n",
    "    def day_category(day):\n",
    "        day = datetime.strptime(day, \"%Y-%m-%d\")\n",
    "        return day.weekday()"
   ]
  },
  {
   "cell_type": "code",
   "execution_count": 6,
   "metadata": {},
   "outputs": [],
   "source": [
    "def put_triangular_kernel(array, row, col, value):\n",
    "    stride = int((kernel_size - 1) / 2)\n",
    "    ratio = 1 / (stride + 1)\n",
    "    \n",
    "    for i in range(row - stride, row + stride + 1):\n",
    "        if i < 0 or i >= array.shape[0]: continue\n",
    "        for j in range(col - stride, col + stride + 1):\n",
    "            if j < 0 or j >= array.shape[1]: continue\n",
    "            distance = math.sqrt((row - i)**2 + (col - j)**2)\n",
    "            new_value = value * (1 - (distance * ratio))\n",
    "            if new_value < 0: new_value = 0\n",
    "            array[i][j] = new_value\n",
    "        \n",
    "    array[row][col] = value\n",
    "    return array"
   ]
  },
  {
   "cell_type": "code",
   "execution_count": 7,
   "metadata": {},
   "outputs": [],
   "source": [
    "def overlay_kernel(array):\n",
    "#     new_image = np.full((array.shape[0],array.shape[1]), 255.0)\n",
    "    new_image = np.zeros((array.shape[0],array.shape[1]))\n",
    "    for row in range(array.shape[0]):\n",
    "        for col in range(array.shape[1]):\n",
    "            if array[row][col] == 0: continue\n",
    "            new_image += put_triangular_kernel(np.zeros((array.shape[0], array.shape[1])), row, col, array[row][col])\n",
    "#     image_array = new_image\n",
    "    return new_image\n",
    "\n",
    "# def put_triangular_kernel(array, row, col, value):\n",
    "#     stride_origin = int((kernel_size - 1) / 2)\n",
    "#     stride = int((kernel_size + 1) / 2)\n",
    "#     stride_1 = int((kernel_size + 1) / 2)\n",
    "#     stride_distance = math.sqrt(2 * (stride_1**2))\n",
    "    \n",
    "#     for i in range(row - stride + 1, row + stride):\n",
    "#         if i < 0 or i >= array.shape[0]: continue\n",
    "#         for j in range(col - stride +1, col + stride):\n",
    "#             if j < 0 or j >= array.shape[1]: continue\n",
    "#             distance = math.sqrt((row - i)**2 + (col - j)**2)\n",
    "#             new_value = -1 * (distance / stride_distance) + value\n",
    "#             array[i][j] = new_value\n",
    "            \n",
    "#     array[row][col] = value\n",
    "    \n",
    "#     return array\n",
    "\n",
    "def indices_save_image(path, place_indices):\n",
    "    all_counts = sum(count for count in counts)\n",
    "    visit_grid = np.zeros((all_counts, size, size))\n",
    "    \n",
    "    for index in place_indices:\n",
    "        row = index[5]\n",
    "        col = index[6]\n",
    "        for feature in range(5):\n",
    "            visit_grid[index[feature]][row][col] += weight\n",
    "    \n",
    "    for channel in range(visit_grid.shape[0]):\n",
    "        save_grid(path + str(channel) + \".png\", visit_grid[channel])\n",
    "    \n",
    "def save_grid(path, grid):\n",
    "    grid = overlay_kernel(grid)\n",
    "    img = Image.fromarray(grid.astype('uint8'), 'L')\n",
    "    img.save(path)\n",
    "    \n",
    "def save_patient_route(path, patient, routes):\n",
    "    patient_places = routes[routes['patient_id']==patient]\n",
    "    patient_dates = unique_value(patient_places, 'date')\n",
    "    first_day = datetime.strptime(patient_dates[0], \"%Y-%m-%d\")\n",
    "    last_day = datetime.strptime(patient_dates[-1], \"%Y-%m-%d\") # + timedelta(days=3)\n",
    "    delta = last_day - first_day\n",
    "    duration = delta.days + 1\n",
    "\n",
    "    # 저장\n",
    "    patient_path = path + str(patient)\n",
    "    Path(patient_path).mkdir(parents=True, exist_ok=True)\n",
    "\n",
    "    today = first_day\n",
    "    while(True):\n",
    "        today_str = datetime.strftime(today, \"%Y-%m-%d\")\n",
    "        patient_day_places = patient_places[patient_places['date']==today_str]\n",
    "        places_indices = combine_places(patient_day_places, counts, causes, visit_types)\n",
    "        patient_date_path = patient_path + \"/\" + today_str + '/'\n",
    "        Path(patient_date_path).mkdir(parents=True, exist_ok=True)\n",
    "        indices_save_image(patient_date_path, places_indices)\n",
    "        if today == last_day: break\n",
    "        today += timedelta(days=1)\n",
    "        \n",
    "def combine_places(places, counts, causes, visit_types):\n",
    "    indices = []\n",
    "    for i in range(len(places)):\n",
    "        one_visit = places.iloc[i]\n",
    "        indices.append(df_to_grid_index(one_visit, counts, causes, visit_types))\n",
    "    return indices\n",
    "\n",
    "def df_to_grid_index(one_visit, counts, causes, visit_types):\n",
    "    index = 0\n",
    "    p_age = Patient.age_category(one_visit['age'])\n",
    "    index += counts[0]\n",
    "    p_sex = Patient.sex_category(one_visit['sex']) + index\n",
    "    index += counts[1]\n",
    "    p_infection_case = Patient.infection_case_category(one_visit['infection_case'], causes) + index\n",
    "    index += counts[2]\n",
    "    p_type = Patient.type_category(one_visit['type'], visit_types) + index\n",
    "    index += counts[3]\n",
    "    p_date = Patient.day_category(one_visit['date']) + index\n",
    "    row = one_visit['row']\n",
    "    col = one_visit['col']\n",
    "    \n",
    "    return [p_age, p_sex, p_infection_case, p_type, p_date, row, col]"
   ]
  },
  {
   "cell_type": "markdown",
   "metadata": {},
   "source": [
    "path = '../patient_test/'\n",
    "for patient in patients:\n",
    "    save_patient_route(path, patient, routes)"
   ]
  },
  {
   "cell_type": "code",
   "execution_count": 8,
   "metadata": {},
   "outputs": [],
   "source": [
    "def accumulate_two_days(day1, day2):\n",
    "    day2[1].extend(day1[1])\n",
    "    return day2\n",
    "    \n",
    "def accumulate_patient(patient, routes):\n",
    "    patient_route = get_patient_route(patient, routes)\n",
    "    patient_days = len(patient_route)\n",
    "\n",
    "    second = patient_days - 1\n",
    "    first = second - 1\n",
    "    for i in range(2 * patient_days - 3):\n",
    "        patient_route[second] = accumulate_two_days(patient_route[first], patient_route[second])\n",
    "        if second - first == 2: second -=1\n",
    "        else: first -= 1\n",
    "    \n",
    "    return patient_route\n",
    "\n",
    "def save_patient_routes(path, patient, patient_routes):\n",
    "    path += str(patient) + '/'\n",
    "    Path(path).mkdir(parents=True, exist_ok=True)\n",
    "    for routes in patient_routes:\n",
    "        patient_date_path = path + routes[0] + '/'\n",
    "        Path(patient_date_path).mkdir(parents=True, exist_ok=True)\n",
    "        indices_save_image(patient_date_path, routes[1])\n",
    "        \n",
    "def get_patient_route(patient, routes):\n",
    "    patient_places = routes[routes['patient_id']==patient]\n",
    "    patient_dates = unique_value(patient_places, 'date')\n",
    "    first_day = datetime.strptime(patient_dates[0], \"%Y-%m-%d\")\n",
    "    last_day = datetime.strptime(patient_dates[-1], \"%Y-%m-%d\") # + timedelta(days=3)\n",
    "    delta = last_day - first_day\n",
    "    duration = delta.days + 1\n",
    "\n",
    "    patient_routes = []\n",
    "    today = first_day\n",
    "    while(True):\n",
    "        today_str = datetime.strftime(today, \"%Y-%m-%d\")\n",
    "        patient_day_places = patient_places[patient_places['date']==today_str]\n",
    "        places_indices = combine_places(patient_day_places, counts, causes, visit_types)\n",
    "        patient_routes.append([today_str, places_indices]) \n",
    "\n",
    "        if today == last_day: break\n",
    "        today += timedelta(days=1)\n",
    "        \n",
    "    return patient_routes"
   ]
  },
  {
   "cell_type": "markdown",
   "metadata": {},
   "source": [
    "path = '../accumulated_test/'\n",
    "for patient in patients:\n",
    "    accumulated_routes = accumulate_patient(patient, routes)\n",
    "    save_patient_routes(path, patient, accumulated_routes)"
   ]
  },
  {
   "cell_type": "code",
   "execution_count": 9,
   "metadata": {},
   "outputs": [],
   "source": [
    "def get_complete_routes(routes, dates, patients):\n",
    "    first_day = datetime.strptime(dates[0], \"%Y-%m-%d\")\n",
    "    last_day = datetime.strptime(dates[-1], \"%Y-%m-%d\") # + timedelta(days=3)\n",
    "\n",
    "    # 날짜별 경로 배열 생성\n",
    "    today = first_day\n",
    "    complete_routes = []\n",
    "    while(True):\n",
    "        today_str = datetime.strftime(today, \"%Y-%m-%d\")\n",
    "        places = []\n",
    "        complete_routes.append([today_str, places])\n",
    "\n",
    "        if today == last_day: break\n",
    "        today += timedelta(days=1)\n",
    "\n",
    "    # 환자 경로 가져온 다음 날짜대로 배치\n",
    "    for patient in patients:\n",
    "        accumulated_routes = accumulate_patient(patient, routes)\n",
    "        for each_route in accumulated_routes:\n",
    "            route_day = datetime.strptime(each_route[0], \"%Y-%m-%d\")\n",
    "            route_places = each_route[1]\n",
    "            index = (route_day - first_day).days\n",
    "            complete_routes[index][1].extend(route_places)\n",
    "    return complete_routes"
   ]
  },
  {
   "cell_type": "code",
   "execution_count": 11,
   "metadata": {},
   "outputs": [
    {
     "name": "stdout",
     "output_type": "stream",
     "text": [
      "[[3, 11, 13, 33, 44, 170, 100], [3, 11, 13, 33, 44, 229, 65], [2, 12, 15, 33, 44, 139, 178], [2, 12, 15, 33, 44, 139, 178], [2, 12, 15, 33, 43, 139, 178], [2, 12, 15, 33, 42, 139, 178], [2, 12, 15, 33, 42, 139, 178]]\n"
     ]
    }
   ],
   "source": [
    "complete_routes = get_complete_routes(routes, dates, patients)\n",
    "\n",
    "path = '../complete_test/'\n",
    "Path(path).mkdir(parents=True, exist_ok=True)\n",
    "\n",
    "\n",
    "aaa = complete_routes[10][1]    \n",
    "print(aaa)\n",
    "\n",
    "visit_grid = np.zeros((256, 256))\n",
    "\n",
    "for index in aaa:\n",
    "    row = index[5]\n",
    "    col = index[6]\n",
    "    for feature in range(5):\n",
    "        visit_grid[row][col] += weight\n",
    "\n",
    "kernel_size = 120\n",
    "aaa = np.asarray(aaa)\n",
    "aaa = overlay_kernel(aaa)\n",
    "    \n",
    "save_grid(\"../aaa.png\", visit_grid)"
   ]
  },
  {
   "cell_type": "code",
   "execution_count": 10,
   "metadata": {},
   "outputs": [],
   "source": [
    "import numpy as np\n",
    "from itertools import chain\n",
    "from numpy import maximum, minimum\n",
    "\n",
    "a = [[0, 0, 0, 0, 0, 0, 0],\n",
    "    [0, 10, 0, 0, 10, 0, 0],\n",
    "    [0, 10, 0, 0, 0, 0, 0],\n",
    "    [0, 0, 0, 0, 0, 0, 0],\n",
    "    [0, 0, 0, 0, 0, 0, 0],\n",
    "    [0, 0, 0, 0, 0, 10, 0],\n",
    "    [0, 0, 0, 0, 0, 0, 0]]\n",
    "\n",
    "b = [[0, 70, 0, 0, 0, 0, 0],\n",
    "    [0, 70, 0, 0, 70, 0, 0],\n",
    "    [0, 0, 70, 0, 0, 0, 0],\n",
    "    [0, 0, 0, 70, 0, 0, 0],\n",
    "    [0, 0, 0, 0, 0, 0, 0],\n",
    "    [0, 0, 0, 0, 0, 70, 0],\n",
    "    [0, 0, 0, 0, 0, 0, 0]]\n",
    "\n",
    "c = [[0, 0, 0, 0, 0, 0, 0],\n",
    "    [0, 0, 0, 0, 0, 0, 0],\n",
    "    [0, 0, 0, 0, 0, 0, 0],\n",
    "    [0, 0, 0, 1, 0, 0, 0],\n",
    "    [0, 0, 0, 0, 0, 0, 0],\n",
    "    [0, 0, 0, 0, 0, 0, 0],\n",
    "    [0, 0, 0, 0, 0, 0, 0]]\n",
    "\n",
    "a = np.asarray(a)\n",
    "b = np.asarray(b)\n",
    "c = np.asarray(c)"
   ]
  },
  {
   "cell_type": "code",
   "execution_count": 15,
   "metadata": {},
   "outputs": [
    {
     "data": {
      "text/plain": [
       "2.0"
      ]
     },
     "execution_count": 15,
     "metadata": {},
     "output_type": "execute_result"
    }
   ],
   "source": [
    "from math import sqrt\n",
    "from sklearn.metrics import mean_squared_error\n",
    "\n",
    "abc = sqrt(mean_squared_error([4], [2]))\n",
    "abc"
   ]
  },
  {
   "cell_type": "code",
   "execution_count": 11,
   "metadata": {},
   "outputs": [
    {
     "data": {
      "text/plain": [
       "array([[ 0,  0,  0,  0,  0,  0,  0],\n",
       "       [ 0, 10,  0,  0, 10,  0,  0],\n",
       "       [ 0,  0,  0,  0,  0,  0,  0],\n",
       "       [ 0,  0,  0,  0,  0,  0,  0],\n",
       "       [ 0,  0,  0,  0,  0,  0,  0],\n",
       "       [ 0,  0,  0,  0,  0, 10,  0],\n",
       "       [ 0,  0,  0,  0,  0,  0,  0]])"
      ]
     },
     "execution_count": 11,
     "metadata": {},
     "output_type": "execute_result"
    }
   ],
   "source": [
    "result_max = maximum(a, b)\n",
    "result_min = minimum(a, b)\n",
    "result_min"
   ]
  },
  {
   "cell_type": "code",
   "execution_count": 15,
   "metadata": {},
   "outputs": [
    {
     "name": "stdout",
     "output_type": "stream",
     "text": [
      "9.500 9.646 9.500 9.500 9.646 9.500 0.000 \n",
      "19.146 19.646 19.146 9.646 10.000 9.646 0.000 \n",
      "19.146 19.646 19.146 9.500 9.646 9.500 0.000 \n",
      "9.500 9.646 9.500 0.000 0.000 0.000 0.000 \n",
      "0.000 0.000 0.000 0.000 9.500 9.646 9.500 \n",
      "0.000 0.000 0.000 0.000 9.646 10.000 9.646 \n",
      "0.000 0.000 0.000 0.000 9.500 9.646 9.500 \n"
     ]
    }
   ],
   "source": [
    "d = overlay_kernel(a)\n",
    "\n",
    "for i in range(d.shape[0]):\n",
    "    for j in range(d.shape[1]):\n",
    "        print(\"%.3f\" % d[i][j], end=' ')\n",
    "    print()"
   ]
  },
  {
   "cell_type": "code",
   "execution_count": null,
   "metadata": {},
   "outputs": [],
   "source": []
  }
 ],
 "metadata": {
  "kernelspec": {
   "display_name": "Python 3",
   "language": "python",
   "name": "python3"
  },
  "language_info": {
   "codemirror_mode": {
    "name": "ipython",
    "version": 3
   },
   "file_extension": ".py",
   "mimetype": "text/x-python",
   "name": "python",
   "nbconvert_exporter": "python",
   "pygments_lexer": "ipython3",
   "version": "3.7.7"
  },
  "pycharm": {
   "stem_cell": {
    "cell_type": "raw",
    "metadata": {
     "collapsed": false
    },
    "source": []
   }
  }
 },
 "nbformat": 4,
 "nbformat_minor": 4
}
