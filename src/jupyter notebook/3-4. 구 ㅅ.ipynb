{
 "cells": [
  {
   "cell_type": "markdown",
   "metadata": {},
   "source": [
    "## 서대문 - 송파"
   ]
  },
  {
   "cell_type": "code",
   "execution_count": 1,
   "metadata": {},
   "outputs": [],
   "source": [
    "import sys\n",
    "import os\n",
    "from pathlib import Path\n",
    "from os import listdir\n",
    "from os.path import isfile, join\n",
    "\n",
    "root = Path(os.getcwd()).parent\n",
    "sys.path.append(str(Path(os.getcwd()).parent))"
   ]
  },
  {
   "cell_type": "code",
   "execution_count": 2,
   "metadata": {},
   "outputs": [],
   "source": [
    "from bs4 import BeautifulSoup\n",
    "from src.parser import SeodaemoonParser1\n",
    "from src.parser import SeochoParser1\n",
    "from src.parser import SeongdongParser1, SeongdongParser2\n",
    "from src.parser import SeongbukParser1\n",
    "from src.parser import SongpaParser1\n",
    "import requests\n",
    "import pandas as pd"
   ]
  },
  {
   "cell_type": "code",
   "execution_count": 3,
   "metadata": {},
   "outputs": [],
   "source": [
    "pd.set_option('display.max_columns', None)\n",
    "pd.set_option('display.width', None)\n",
    "pd.set_option('display.max_colwidth', -1)\n",
    "pd.set_option('display.max_rows', None)"
   ]
  },
  {
   "cell_type": "markdown",
   "metadata": {},
   "source": [
    "### 서대문\n",
    "- html 전부 서대문구 홈페이지"
   ]
  },
  {
   "cell_type": "code",
   "execution_count": 4,
   "metadata": {
    "scrolled": false
   },
   "outputs": [
    {
     "data": {
      "text/plain": [
       "\"\\nurl = ''\\n\\nfiles1 = ['0827서대문.html', '0831서대문.html', '0831서대문타지역.html', '0903서대문.html']\\n\\nseodaemoon_path1 = join(root, 'new_dataset', 'seodaemoon')\\n\\nsaving_path1 = join(root, 'new_dataset', 'extracted', 'seodaemoon1.csv')\\n\\nseodaemoon_parser1 = SeodaemoonParser1(url, 'table_st')\\n\\nseodaemoon_parser1.parse_and_save(files1, seodaemoon_path1, saving_path1)\\n\""
      ]
     },
     "execution_count": 4,
     "metadata": {},
     "output_type": "execute_result"
    }
   ],
   "source": [
    "'''\n",
    "url = ''\n",
    "\n",
    "files1 = ['0827서대문.html', '0831서대문.html', '0831서대문타지역.html', '0903서대문.html']\n",
    "\n",
    "seodaemoon_path1 = join(root, 'new_dataset', 'seodaemoon')\n",
    "\n",
    "saving_path1 = join(root, 'new_dataset', 'extracted', 'seodaemoon1.csv')\n",
    "\n",
    "seodaemoon_parser1 = SeodaemoonParser1(url, 'table_st')\n",
    "\n",
    "seodaemoon_parser1.parse_and_save(files1, seodaemoon_path1, saving_path1)\n",
    "'''"
   ]
  },
  {
   "cell_type": "markdown",
   "metadata": {},
   "source": [
    "### 서초\n",
    "- html 전부 서초구 홈페이지"
   ]
  },
  {
   "cell_type": "code",
   "execution_count": 5,
   "metadata": {},
   "outputs": [
    {
     "data": {
      "text/plain": [
       "\"\\nurl = ''\\n\\nfiles1 = ['0827서초.html', '0831서초.html', '0903서초.html']\\n\\nseocho_path1 = join(root, 'new_dataset', 'seocho')\\n\\nsaving_path1 = join(root, 'new_dataset', 'extracted', 'seocho1.csv')\\n\\nseocho_parser1 = SeochoParser1(url, 'responsiveWrap')\\n\\nseocho_parser1.parse_and_save(files1, seocho_path1, saving_path1)\\n\""
      ]
     },
     "execution_count": 5,
     "metadata": {},
     "output_type": "execute_result"
    }
   ],
   "source": [
    "'''\n",
    "url = ''\n",
    "\n",
    "files1 = ['0827서초.html', '0831서초.html', '0903서초.html']\n",
    "\n",
    "seocho_path1 = join(root, 'new_dataset', 'seocho')\n",
    "\n",
    "saving_path1 = join(root, 'new_dataset', 'extracted', 'seocho1.csv')\n",
    "\n",
    "seocho_parser1 = SeochoParser1(url, 'responsiveWrap')\n",
    "\n",
    "seocho_parser1.parse_and_save(files1, seocho_path1, saving_path1)\n",
    "'''"
   ]
  },
  {
   "cell_type": "markdown",
   "metadata": {},
   "source": [
    "### 성동\n",
    "- html 전부 성동구 홈페이지"
   ]
  },
  {
   "cell_type": "code",
   "execution_count": 6,
   "metadata": {
    "scrolled": true
   },
   "outputs": [
    {
     "data": {
      "text/plain": [
       "\"\\nurl = ''\\n\\nfiles1 = ['0512 성동 17 20 21 22.html']\\nfiles2 = ['0827성동.html', '0831성동.html', '0903성동.html']\\nfiles3 = ['0903성동.html']\\n\\nseongdong_path1 = join(root, 'new_dataset', 'seongdong')\\n\\nsaving_path1 = join(root, 'new_dataset', 'extracted', 'seongdong1.csv')\\nsaving_path2 = join(root, 'new_dataset', 'extracted', 'seongdong2.csv')\\n\\nseongdong_parser1 = SeongdongParser1(url, 'section route type2')\\nseongdong_parser2 = SeongdongParser2(url, 'section route type2')\\n\\nseongdong_parser1.parse_and_save(files1, seongdong_path1, saving_path1)\\nseongdong_parser2.parse_and_save(files2, seongdong_path1, saving_path2)\\n\""
      ]
     },
     "execution_count": 6,
     "metadata": {},
     "output_type": "execute_result"
    }
   ],
   "source": [
    "'''\n",
    "url = ''\n",
    "\n",
    "files1 = ['0512 성동 17 20 21 22.html']\n",
    "files2 = ['0827성동.html', '0831성동.html', '0903성동.html']\n",
    "files3 = ['0903성동.html']\n",
    "\n",
    "seongdong_path1 = join(root, 'new_dataset', 'seongdong')\n",
    "\n",
    "saving_path1 = join(root, 'new_dataset', 'extracted', 'seongdong1.csv')\n",
    "saving_path2 = join(root, 'new_dataset', 'extracted', 'seongdong2.csv')\n",
    "\n",
    "seongdong_parser1 = SeongdongParser1(url, 'section route type2')\n",
    "seongdong_parser2 = SeongdongParser2(url, 'section route type2')\n",
    "\n",
    "seongdong_parser1.parse_and_save(files1, seongdong_path1, saving_path1)\n",
    "seongdong_parser2.parse_and_save(files2, seongdong_path1, saving_path2)\n",
    "'''"
   ]
  },
  {
   "cell_type": "markdown",
   "metadata": {},
   "source": [
    "### 성북\n",
    "- html 전부 성북구 홈페이지"
   ]
  },
  {
   "cell_type": "code",
   "execution_count": 7,
   "metadata": {
    "scrolled": true
   },
   "outputs": [
    {
     "data": {
      "text/plain": [
       "\"\\nurl = ''\\n\\nfiles1 = ['0827성북.html', '0831성북.html', '0903성북.html']\\n\\nseongbuk_path1 = join(root, 'new_dataset', 'seongbuk')\\n\\nsaving_path1 = join(root, 'new_dataset', 'extracted', 'seongbuk1.csv')\\n\\nseongbuk_parser1 = SeongbukParser1(url, '')\\n\\nseongbuk_parser1.parse_and_save(files1, seongbuk_path1, saving_path1)\\n\""
      ]
     },
     "execution_count": 7,
     "metadata": {},
     "output_type": "execute_result"
    }
   ],
   "source": [
    "'''\n",
    "url = ''\n",
    "\n",
    "files1 = ['0827성북.html', '0831성북.html', '0903성북.html']\n",
    "\n",
    "seongbuk_path1 = join(root, 'new_dataset', 'seongbuk')\n",
    "\n",
    "saving_path1 = join(root, 'new_dataset', 'extracted', 'seongbuk1.csv')\n",
    "\n",
    "seongbuk_parser1 = SeongbukParser1(url, '')\n",
    "\n",
    "seongbuk_parser1.parse_and_save(files1, seongbuk_path1, saving_path1)\n",
    "'''"
   ]
  },
  {
   "cell_type": "markdown",
   "metadata": {},
   "source": [
    "### 송파\n",
    "- html 전부 송파구 홈페이지"
   ]
  },
  {
   "cell_type": "code",
   "execution_count": 9,
   "metadata": {
    "scrolled": false
   },
   "outputs": [
    {
     "name": "stdout",
     "output_type": "stream",
     "text": [
      "0827송파.html\n",
      "0831송파.html\n",
      "0903송파.html\n"
     ]
    }
   ],
   "source": [
    "url = ''\n",
    "\n",
    "files1 = ['0827송파.html', '0831송파.html', '0903송파.html']\n",
    "\n",
    "songpa_path1 = join(root, 'new_dataset', 'songpa')\n",
    "\n",
    "saving_path1 = join(root, 'new_dataset', 'extracted', 'songpa1.csv')\n",
    "\n",
    "songpa_parser1 = SongpaParser1(url, '')\n",
    "\n",
    "songpa_parser1.parse_and_save(files1, songpa_path1, saving_path1)"
   ]
  },
  {
   "cell_type": "code",
   "execution_count": null,
   "metadata": {},
   "outputs": [],
   "source": []
  }
 ],
 "metadata": {
  "kernelspec": {
   "display_name": "Python 3",
   "language": "python",
   "name": "python3"
  },
  "language_info": {
   "codemirror_mode": {
    "name": "ipython",
    "version": 3
   },
   "file_extension": ".py",
   "mimetype": "text/x-python",
   "name": "python",
   "nbconvert_exporter": "python",
   "pygments_lexer": "ipython3",
   "version": "3.7.4"
  }
 },
 "nbformat": 4,
 "nbformat_minor": 2
}
