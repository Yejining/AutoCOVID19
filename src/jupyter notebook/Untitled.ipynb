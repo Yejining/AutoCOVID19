{
 "cells": [
  {
   "cell_type": "code",
   "execution_count": null,
   "metadata": {},
   "outputs": [],
   "source": []
  },
  {
   "cell_type": "code",
   "execution_count": null,
   "metadata": {},
   "outputs": [],
   "source": [
    "routes = pd.read_csv('../covid_dataset/raw/MergedRoute.csv')\n",
    "dates = unique_value(routes, 'date')\n",
    "patients = unique_value(routes, 'patient_id')"
   ]
  },
  {
   "cell_type": "code",
   "execution_count": 1,
   "metadata": {},
   "outputs": [],
   "source": [
    "names = ['age', 'sex', 'infection_case', 'type', 'date']\n",
    "counts = [11, 2, 4, 21, 7]\n",
    "visit_types = ['karaoke', 'gas_station', 'gym', 'bakery', 'pc_cafe',\n",
    "              'beauty_salon', 'school', 'church', 'bank', 'cafe',\n",
    "              'bar', 'post_office', 'real_estate_agency', 'lodging',\n",
    "              'public_transportation', 'restaurant', 'etc', 'store',\n",
    "              'hospital', 'pharmacy', 'airport']\n",
    "causes = ['community infection', 'etc', 'contact with patient', 'overseas inflow']"
   ]
  },
  {
   "cell_type": "code",
   "execution_count": 4,
   "metadata": {},
   "outputs": [
    {
     "ename": "ValueError",
     "evalue": "'hospitadddl' is not in list",
     "output_type": "error",
     "traceback": [
      "\u001b[1;31m---------------------------------------------------------------------------\u001b[0m",
      "\u001b[1;31mValueError\u001b[0m                                Traceback (most recent call last)",
      "\u001b[1;32m<ipython-input-4-a52aced1dadc>\u001b[0m in \u001b[0;36m<module>\u001b[1;34m\u001b[0m\n\u001b[1;32m----> 1\u001b[1;33m \u001b[0ma\u001b[0m \u001b[1;33m=\u001b[0m \u001b[0mvisit_types\u001b[0m\u001b[1;33m.\u001b[0m\u001b[0mindex\u001b[0m\u001b[1;33m(\u001b[0m\u001b[1;34m'hospitadddl'\u001b[0m\u001b[1;33m)\u001b[0m\u001b[1;33m\u001b[0m\u001b[1;33m\u001b[0m\u001b[0m\n\u001b[0m\u001b[0;32m      2\u001b[0m \u001b[0mprint\u001b[0m\u001b[1;33m(\u001b[0m\u001b[0ma\u001b[0m\u001b[1;33m)\u001b[0m\u001b[1;33m\u001b[0m\u001b[1;33m\u001b[0m\u001b[0m\n",
      "\u001b[1;31mValueError\u001b[0m: 'hospitadddl' is not in list"
     ]
    }
   ],
   "source": [
    "a = visit_types.index('hospitadddl')\n",
    "print(a)"
   ]
  },
  {
   "cell_type": "code",
   "execution_count": 39,
   "metadata": {},
   "outputs": [],
   "source": [
    "EPSILON = 1e-10\n",
    "\n",
    "def _error(actual: np.ndarray, predicted: np.ndarray):\n",
    "    return actual - predicted\n",
    "\n",
    "def _percentage_error(actual, predicted):\n",
    "    return _error(actual, predicted) / (actual + EPSILON)\n",
    "\n",
    "def mape(actual, predicted):\n",
    "    return np.mean(np.abs(_percentage_error(actual, predicted)))\n",
    "\n",
    "def mae(actual, predicted):\n",
    "    return np.mean(np.abs(_error(actual, predicted)))\n",
    "\n",
    "def mase(actual, predicted, seasonality: int = 1):\n",
    "    return mae(actual, predicted) / mae(actual[seasonality:], _naive_forecasting(actual, seasonality))\n",
    "\n",
    "def _naive_forecasting(actual, seasonality: int = 1):\n",
    "    return actual[:-seasonality]"
   ]
  },
  {
   "cell_type": "code",
   "execution_count": 83,
   "metadata": {},
   "outputs": [],
   "source": [
    "a = [[0, 2, 0],\n",
    "    [0, 1, 0],\n",
    "    [0, 3, 0]]\n",
    "\n",
    "b = [[0, 0, 0],\n",
    "    [0, 0, 0],\n",
    "    [0, 0, 0]]"
   ]
  },
  {
   "cell_type": "markdown",
   "metadata": {},
   "source": [
    "c = np.zeros((2, 3, 3))\n",
    "\n",
    "c[0,:,:] = a - b\n",
    "\n",
    "for i in range(c.shape[0]):\n",
    "    for row in range(c.shape[1]):\n",
    "        for col in range(c.shape[2]):\n",
    "            print(c[i][row][col], end=' ')\n",
    "        print()\n",
    "    print()\n",
    "    "
   ]
  },
  {
   "cell_type": "code",
   "execution_count": 80,
   "metadata": {},
   "outputs": [],
   "source": [
    "import os.path\n",
    "import csv\n",
    "from csv import writer\n",
    "\n",
    "def save_prediction_image():\n",
    "    file_exists = os.path.isfile('accuracy.csv')\n",
    "    print(file_exists)\n",
    "    with open ('accuracy.csv', 'a') as csvfile:\n",
    "        headers = ['date', 'feature', 'mape', 'rmse', 'mase']\n",
    "        writer = csv.DictWriter(csvfile, delimiter=',', lineterminator='\\n',fieldnames=headers)\n",
    "\n",
    "        if not file_exists:\n",
    "            print(\"a\")\n",
    "            writer.writeheader()\n",
    "            \n",
    "def append_list_as_row(file_name, list_of_elem):\n",
    "    with open(file_name, 'a+', newline='') as write_obj:\n",
    "        csv_writer = writer(write_obj)\n",
    "        csv_writer.writerow(list_of_elem)"
   ]
  },
  {
   "cell_type": "code",
   "execution_count": 81,
   "metadata": {},
   "outputs": [
    {
     "name": "stdout",
     "output_type": "stream",
     "text": [
      "True\n"
     ]
    }
   ],
   "source": [
    "save_prediction_image()\n",
    "\n",
    "# List of strings\n",
    "row_contents = [32,'Shaun','Java','Tokyo','Morning']\n",
    "append_list_as_row('accuracy.csv', row_contents)"
   ]
  },
  {
   "cell_type": "code",
   "execution_count": 97,
   "metadata": {},
   "outputs": [
    {
     "name": "stdout",
     "output_type": "stream",
     "text": [
      "[[1 1 1]\n",
      " [1 1 1]\n",
      " [1 1 1]]\n",
      "[[ 1 56  1]\n",
      " [ 1  1  1]\n",
      " [ 1  1  1]]\n",
      "18.333333333333336 6.111111111111111\n"
     ]
    }
   ],
   "source": [
    "from sklearn.metrics import mean_squared_error\n",
    "from math import sqrt\n",
    "\n",
    "import numpy as np\n",
    "\n",
    "def mean_absolute_percentage_error(y_true, y_pred): \n",
    "    y_true, y_pred = np.array(y_true), np.array(y_pred)\n",
    "    return np.mean(np.abs((y_true - y_pred) / y_true)) * 100\n",
    "a = [[0, 0, 0],\n",
    "    [0, 0, 0],\n",
    "    [0, 0, 0]]\n",
    "\n",
    "b = [[0, 55, 0],\n",
    "    [0, 0, 0],\n",
    "    [0, 0, 0]]\n",
    "a = np.asarray(a)\n",
    "b = np.asarray(b)\n",
    "\n",
    "a[a >= 0] += 1\n",
    "b[b >= 0] += 1\n",
    "print(a)\n",
    "print(b)\n",
    "\n",
    "\n",
    "\n",
    "\n",
    "rms2 = sqrt(mean_squared_error(a, b))\n",
    "mape = np.mean(np.abs((a - b) / a))\n",
    "print(rms2, mape)"
   ]
  },
  {
   "cell_type": "code",
   "execution_count": null,
   "metadata": {},
   "outputs": [],
   "source": [
    "\n",
    "# raw_data\n",
    "# 여기서 places_indeices랑 patient_date_path 얻으면 됨\n",
    "def get_patient_route(patient, routes):\n",
    "    patient_places = routes[routes['patient_id']==patient]\n",
    "    patient_dates = unique_value(patient_places, 'date')\n",
    "    f_first_day = datetime.strptime(patient_dates[0], \"%Y-%m-%d\")\n",
    "    f_last_day = datetime.strptime(patient_dates[-1], \"%Y-%m-%d\") + timedelta(days=3)\n",
    "    f_delta = f_last_day - f_first_day\n",
    "    f_duration = f_delta.days + 1\n",
    "\n",
    "    patient_routes = []\n",
    "    today = f_first_day\n",
    "    while(True):\n",
    "        today_str = datetime.strftime(today, \"%Y-%m-%d\")\n",
    "        patient_day_places = patient_places[patient_places['date']==today_str]\n",
    "        places_indices = combine_places(patient_day_places, counts, causes, visit_types)\n",
    "        patient_routes.append([today_str, places_indices]) \n",
    "\n",
    "        if today == f_last_day: break\n",
    "        today += timedelta(days=1)\n",
    "        \n",
    "    return patient_routes\n",
    "        \n",
    "# accumulated_data\n",
    "# accumulated_patient 가져와서 작업하면 됨\n",
    "def get_complete_routes(routes, dates, patients):\n",
    "    f_first_day = datetime.strptime(dates[0], \"%Y-%m-%d\")\n",
    "    f_last_day = datetime.strptime(dates[-1], \"%Y-%m-%d\") + timedelta(days=3)\n",
    "\n",
    "    # 날짜별 경로 배열 생성\n",
    "    today = f_first_day\n",
    "    complete_routes = []\n",
    "    while(True):\n",
    "        today_str = datetime.strftime(today, \"%Y-%m-%d\")\n",
    "        places = []\n",
    "        complete_routes.append([today_str, places])\n",
    "\n",
    "        if today == f_last_day: break\n",
    "        today += timedelta(days=1)\n",
    "\n",
    "    # 환자 경로 가져온 다음 날짜대로 배치\n",
    "    for patient in patients:\n",
    "        accumulated_routes = accumulate_patient(patient, routes)\n",
    "        for each_route in accumulated_routes:\n",
    "            route_day = datetime.strptime(each_route[0], \"%Y-%m-%d\")\n",
    "            route_places = each_route[1]\n",
    "            index = (route_day - f_first_day).days\n",
    "            complete_routes[index][1].extend(route_places)\n",
    "    return complete_routes\n",
    "\n"
   ]
  }
 ],
 "metadata": {
  "kernelspec": {
   "display_name": "Python 3",
   "language": "python",
   "name": "python3"
  },
  "language_info": {
   "codemirror_mode": {
    "name": "ipython",
    "version": 3
   },
   "file_extension": ".py",
   "mimetype": "text/x-python",
   "name": "python",
   "nbconvert_exporter": "python",
   "pygments_lexer": "ipython3",
   "version": "3.7.7"
  }
 },
 "nbformat": 4,
 "nbformat_minor": 4
}
