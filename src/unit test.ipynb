{
 "cells": [
  {
   "cell_type": "code",
   "execution_count": 1,
   "metadata": {},
   "outputs": [],
   "source": [
    "import pandas as pd\n",
    "import scipy.stats as st\n",
    "from datetime import datetime\n",
    "from datetime import timedelta\n",
    "import math\n",
    "import numpy as np\n",
    "from scipy import stats\n",
    "import copy\n",
    "from PIL import Image\n",
    "import imageio"
   ]
  },
  {
   "cell_type": "code",
   "execution_count": 53,
   "metadata": {},
   "outputs": [
    {
     "name": "stdout",
     "output_type": "stream",
     "text": [
      "[[[0. 0. 0. 0. 0. 0. 0.]\n",
      "  [0. 1. 0. 0. 1. 0. 0.]\n",
      "  [0. 0. 0. 0. 0. 0. 0.]\n",
      "  [0. 0. 0. 0. 0. 0. 0.]\n",
      "  [0. 0. 0. 0. 0. 0. 0.]\n",
      "  [0. 0. 0. 0. 0. 1. 0.]\n",
      "  [0. 0. 0. 0. 0. 0. 0.]]\n",
      "\n",
      " [[0. 1. 0. 0. 0. 0. 0.]\n",
      "  [0. 1. 0. 0. 1. 0. 0.]\n",
      "  [0. 0. 1. 0. 0. 0. 0.]\n",
      "  [0. 0. 0. 1. 0. 0. 0.]\n",
      "  [0. 0. 0. 0. 0. 0. 0.]\n",
      "  [0. 0. 0. 0. 0. 1. 0.]\n",
      "  [0. 0. 0. 0. 0. 0. 0.]]]\n",
      "\n",
      "0.00 0.50 0.00 0.00 0.50 0.00 0.00 \n",
      "0.50 1.00 0.50 0.50 1.00 0.50 0.00 \n",
      "0.00 0.50 0.00 0.00 0.50 0.00 0.00 \n",
      "0.00 0.00 0.00 0.00 0.00 0.00 0.00 \n",
      "0.00 0.00 0.00 0.00 0.00 0.50 0.00 \n",
      "0.00 0.00 0.00 0.00 0.50 1.00 0.50 \n",
      "0.00 0.00 0.00 0.00 0.00 0.50 0.00 \n",
      "\n",
      "0.50 1.50 0.50 0.00 0.50 0.00 0.00 \n",
      "0.50 1.50 1.00 0.50 1.00 0.50 0.00 \n",
      "0.00 1.00 1.00 1.00 0.50 0.00 0.00 \n",
      "0.00 0.00 1.00 1.00 0.50 0.00 0.00 \n",
      "0.00 0.00 0.00 0.50 0.00 0.50 0.00 \n",
      "0.00 0.00 0.00 0.00 0.50 1.00 0.50 \n",
      "0.00 0.00 0.00 0.00 0.00 0.50 0.00 \n",
      "\n",
      "generate_imageee method in...\n",
      "이미지 저장 전 구조: (7, 7)\n"
     ]
    }
   ],
   "source": [
    "a = [[0, 0, 0, 0, 0, 0, 0],\n",
    "    [0, 1, 0, 0, 1, 0, 0],\n",
    "    [0, 0, 0, 0, 0, 0, 0],\n",
    "    [0, 0, 0, 0, 0, 0, 0],\n",
    "    [0, 0, 0, 0, 0, 0, 0],\n",
    "    [0, 0, 0, 0, 0, 1, 0],\n",
    "    [0, 0, 0, 0, 0, 0, 0]]\n",
    "\n",
    "b = [[0, 1, 0, 0, 0, 0, 0],\n",
    "    [0, 1, 0, 0, 1, 0, 0],\n",
    "    [0, 0, 1, 0, 0, 0, 0],\n",
    "    [0, 0, 0, 1, 0, 0, 0],\n",
    "    [0, 0, 0, 0, 0, 0, 0],\n",
    "    [0, 0, 0, 0, 0, 1, 0],\n",
    "    [0, 0, 0, 0, 0, 0, 0]]\n",
    "\n",
    "a = np.asarray(a)\n",
    "b = np.asarray(b)\n",
    "\n"
   ]
  }
 ],
 "metadata": {
  "kernelspec": {
   "display_name": "Python 3",
   "language": "python",
   "name": "python3"
  },
  "language_info": {
   "codemirror_mode": {
    "name": "ipython",
    "version": 3
   },
   "file_extension": ".py",
   "mimetype": "text/x-python",
   "name": "python",
   "nbconvert_exporter": "python",
   "pygments_lexer": "ipython3",
   "version": "3.6.10"
  }
 },
 "nbformat": 4,
 "nbformat_minor": 4
}
