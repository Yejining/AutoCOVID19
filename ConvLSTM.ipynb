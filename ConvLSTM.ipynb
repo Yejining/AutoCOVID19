{
 "cells": [
  {
   "cell_type": "markdown",
   "metadata": {},
   "source": [
    "1. 일단 데이터를 날짜별로 자른다.\n",
    "2. 모든 피처를 다 만드는 경우\n",
    "  1) 나이대 10개\n",
    "  2) 성별 2개\n",
    "  3) 감염 원인 11개\n",
    "  4) 방문 요일 7개\n",
    "     총 30개 배열"
   ]
  },
  {
   "cell_type": "code",
   "execution_count": 1,
   "metadata": {},
   "outputs": [],
   "source": [
    "import pandas as pd\n",
    "import scipy.stats as st\n",
    "from datetime import datetime\n",
    "from datetime import timedelta\n",
    "import math\n",
    "import numpy as np\n",
    "from PIL import Image\n",
    "from scipy import stats"
   ]
  },
  {
   "cell_type": "markdown",
   "metadata": {},
   "source": [
    "### 1. 루트 생성"
   ]
  },
  {
   "cell_type": "code",
   "execution_count": 2,
   "metadata": {},
   "outputs": [],
   "source": [
    "patient_route = pd.read_csv('covid19/PatientRoute.csv')\n",
    "patient_info = pd.read_csv('covid19/PatientInfo.csv')\n",
    "patient_info = patient_info[[\"patient_id\",\"global_num\",\"sex\",\"age\",\"infection_case\"]]\n",
    "club_route = pd.read_csv('club.csv')"
   ]
  },
  {
   "cell_type": "code",
   "execution_count": 3,
   "metadata": {},
   "outputs": [],
   "source": [
    "merge_route = pd.merge(patient_info, patient_route)\n",
    "merge_route = merge_route[merge_route[\"province\"]==\"Seoul\"]\n",
    "merge_route = merge_route[pd.notnull(merge_route['sex'])]\n",
    "merge_route = merge_route[pd.notnull(merge_route['age'])]\n",
    "club_route = club_route[pd.notnull(club_route['latitude'])]\n",
    "club_route = club_route[pd.notnull(club_route['longitude'])]"
   ]
  },
  {
   "cell_type": "markdown",
   "metadata": {},
   "source": [
    "### 2. 감염 원인 처리"
   ]
  },
  {
   "cell_type": "code",
   "execution_count": 4,
   "metadata": {},
   "outputs": [],
   "source": [
    "causes = merge_route['infection_case']\n",
    "causes = causes.drop_duplicates(keep='last')\n",
    "causes = causes.dropna()\n",
    "causes = causes.tolist()\n",
    "\n",
    "causes_stay = [\"contact with patient\", \"overseas inflow\", \"etc\"]\n",
    "for i, cause in enumerate(causes):\n",
    "    if cause in causes_stay:\n",
    "        continue\n",
    "    causes[i] = \"community infection\"\n",
    "    \n",
    "causes = list(dict.fromkeys(causes))"
   ]
  },
  {
   "cell_type": "markdown",
   "metadata": {},
   "source": [
    "### 3. 클래스"
   ]
  },
  {
   "cell_type": "code",
   "execution_count": 5,
   "metadata": {},
   "outputs": [],
   "source": [
    "class GridMap:\n",
    "    Re = 6371.00877  ##  지도반경\n",
    "    grid = 1.28  ##  격자간격 (km)\n",
    "    slat1 = 30.0  ##  표준위도 1\n",
    "    slat2 = 60.0  ##  표준위도 2\n",
    "    olon = 127.0175205  ##  기준점 경도\n",
    "    olat = 37.523124  ##  기준점 위도\n",
    "    xo = 18.4 / grid #  기준점 X좌표\n",
    "    yo = 21.6 / grid  ##  기준점 Y좌표\n",
    "    row = 32\n",
    "    column = 32\n",
    "    seoul_start_lat = 37.698098\n",
    "    seoul_start_lon = 126.799791\n",
    "    seoul_end_lat = 37.34815\n",
    "    seoul_end_lon = 127.23525\n",
    "\n",
    "    def __init__(self):\n",
    "        self.PI = math.asin(1.0) * 2.0\n",
    "        self.DEGRAD = self.PI / 180.0\n",
    "        self.RADDEG = 180.0 / self.PI\n",
    "\n",
    "        self.re = self.Re / self.grid\n",
    "        self.slat1 = self.slat1 * self.DEGRAD\n",
    "        self.slat2 = self.slat2 * self.DEGRAD\n",
    "        self.olon = self.olon * self.DEGRAD\n",
    "        self.olat = self.olat * self.DEGRAD\n",
    "\n",
    "        self.sn = math.tan(self.PI * 0.25 + self.slat2 * 0.5) / \\\n",
    "                  math.tan(self.PI * 0.25 + self.slat1 * 0.5)\n",
    "        self.sn = math.log(math.cos(self.slat1) /\n",
    "                           math.cos(self.slat2)) / math.log(self.sn)\n",
    "        self.sf = math.tan(self.PI * 0.25 + self.slat1 * 0.5)\n",
    "        self.sf = math.pow(self.sf, self.sn) * math.cos(self.slat1) / self.sn\n",
    "        self.ro = math.tan(self.PI * 0.25 + self.olat * 0.5)\n",
    "        self.ro = self.re * self.sf / math.pow(self.ro, self.sn)\n",
    "\n",
    "    def toGrid(self, lat, lon):\n",
    "        lat = float(lat)\n",
    "        lon = float(lon)\n",
    "        ra = math.tan(self.PI * 0.25 + lat * self.DEGRAD * 0.5)\n",
    "        ra = self.re * self.sf / pow(ra, self.sn)\n",
    "        theta = lon * self.DEGRAD - self.olon\n",
    "        if theta > self.PI:\n",
    "            theta -= 2.0 * self.PI\n",
    "        if theta < self.PI * -1:\n",
    "            theta += 2.0 * self.PI\n",
    "        theta *= self.sn\n",
    "        x = (ra * math.sin(theta)) + self.xo\n",
    "        y = (self.ro - ra * math.cos(theta)) + self.yo\n",
    "        x = int(x + 1.5)\n",
    "        # y = int(y + 1.5)\n",
    "        y = (int(y + 1.5) - 31) * -1\n",
    "        return x, y\n",
    "\n",
    "    def toCoordinate(self, x, y):\n",
    "        x = x - 1\n",
    "        y = y - 1\n",
    "        xn = x - self.xo\n",
    "        yn = self.ro - y + self.yo\n",
    "        ra = math.sqrt(xn * xn + yn * yn)\n",
    "        if self.sn < 0.0:\n",
    "            ra = -ra\n",
    "        alat = math.pow((self.re * self.sf / ra), (1.0 / self.sn))\n",
    "        alat = 2.0 * math.atan(alat) - self.PI * 0.5\n",
    "        if math.fabs(xn) <= 0.0:\n",
    "            theta = 0.0\n",
    "        else:\n",
    "            if math.fabs(yn) <= 0.0:\n",
    "                theta = self.PI * 0.5\n",
    "                if xn < 0.0:\n",
    "                    theta = -theta\n",
    "            else:\n",
    "                theta = math.atan2(xn, yn)\n",
    "        alon = theta / self.sn + self.olon\n",
    "        lat = alat * self.RADDEG\n",
    "        lon = alon * self.RADDEG\n",
    "        return lat, lon\n",
    "\n",
    "    def isSeoul(self, lat, lon):\n",
    "        if self.seoul_end_lat > lat or lat > self.seoul_start_lat:\n",
    "            return False\n",
    "        if self.seoul_end_lon < lon or lon < self.seoul_start_lon:\n",
    "            return False\n",
    "        return True\n",
    "\n",
    "    def generateMap(self, raw_data):\n",
    "        gridx, gridy = [], []\n",
    "        for idx, data in raw_data.iterrows():\n",
    "            try:\n",
    "                float(data.latitude)\n",
    "            except ValueError:\n",
    "                continue\n",
    "            if self.isSeoul(data.latitude, data.longitude):\n",
    "                x, y = self.toGrid(data.latitude, data.longitude)\n",
    "                gridx.append(x), gridy.append(y)\n",
    "\n",
    "        df = pd.DataFrame({'gridx': gridx, 'gridy': gridy})\n",
    "\n",
    "        grid_array = np.zeros((self.row, self.column))\n",
    "        for idx, data in df.iterrows():\n",
    "            try:\n",
    "                grid_array[data.gridy, data.gridx] += 1\n",
    "            except:\n",
    "                pass\n",
    "\n",
    "        return grid_array"
   ]
  },
  {
   "cell_type": "code",
   "execution_count": 6,
   "metadata": {},
   "outputs": [],
   "source": [
    "class Feature:\n",
    "    def __init__(self, names, counts, move_types):\n",
    "        self.names = names\n",
    "        self.counts = counts\n",
    "        self.move_types = move_types\n",
    "        self.clear(95)\n",
    "        \n",
    "    def clear(self, route_dates):\n",
    "        self.features = []\n",
    "        all_count = sum(count for count in self.counts)\n",
    "        self.tensor = np.zeros((route_dates, 32, 32, all_count), dtype=np.float)\n",
    "        for i in range(all_count):\n",
    "            arr = np.zeros((32, 32))\n",
    "            self.features.append(arr)\n",
    "            \n",
    "    def age_category(self, ages):\n",
    "        categories = []\n",
    "        for age in ages:\n",
    "            age = int(age[:-1])\n",
    "            if age == 0: category = 0\n",
    "            elif age == 100: category = 10\n",
    "            else: category = age // 10\n",
    "            categories.append(category)\n",
    "        return categories\n",
    "            \n",
    "    def sex_category(self, sexes):\n",
    "        categories = []\n",
    "        for sex in sexes:\n",
    "            if sex == 'male': categories.append(0)\n",
    "            else: categories.append(1)\n",
    "        return categories\n",
    "        \n",
    "    def infection_case_category(self, infection_cases):\n",
    "        categories = []\n",
    "        for infection_case in infection_cases:\n",
    "            if infection_case not in causes:\n",
    "                infection_case = \"community infection\"\n",
    "            category = causes.index(infection_case)\n",
    "            categories.append(category)\n",
    "        return categories\n",
    "    \n",
    "    def type_category(self, types):\n",
    "        categories = []\n",
    "        for purpose in types:\n",
    "            category = move_types.index(purpose)\n",
    "            categories.append(category)\n",
    "        return categories\n",
    "    \n",
    "    def day_category(self, days):\n",
    "        categories = []\n",
    "        for day in days:\n",
    "            day = datetime.strptime(day, \"%Y-%m-%d\")\n",
    "            category = day.weekday()\n",
    "            categories.append(category)\n",
    "        return categories\n",
    "    \n",
    "    def put_all_categories(self, order, ages, sexes, infection_cases, types, days, lats, lons):\n",
    "        converter = GridMap()\n",
    "        length = len(ages)\n",
    "        \n",
    "        ages_categories = self.age_category(ages)\n",
    "        sexes_categories = self.sex_category(sexes)\n",
    "        infection_case_categories = self.infection_case_category(infection_cases)\n",
    "        type_categories = self.type_category(types)\n",
    "        days_categories = self.day_category(days)\n",
    "        \n",
    "        # age_categories = 3이라고 했을 때\n",
    "        # 전체 feature 배열에서 index가 3인 배열에 넣으면 됨\n",
    "        for i in range(length):\n",
    "            x, y = converter.toGrid(lats[i], lons[i])\n",
    "            index = 0\n",
    "            # age\n",
    "            age = ages_categories[i]\n",
    "            self.tensor[order][x][y][age] += 1\n",
    "            self.features[age][x][y] += 1\n",
    "            index += self.counts[0]\n",
    "            # sex\n",
    "            if sexes_categories[i] != -1:\n",
    "                sex = index + sexes_categories[i]\n",
    "                self.tensor[order][x][y][sex] += 1\n",
    "                self.features[sex][x][y] += 1\n",
    "                index += self.counts[1]\n",
    "            # infection_case\n",
    "            if infection_case_categories[i] != -1:\n",
    "                infection_case = index + infection_case_categories[i]\n",
    "                self.tensor[order][x][y][infection_case] += 1\n",
    "                self.features[infection_case][x][y] += 1\n",
    "                index += self.counts[2]\n",
    "            # type\n",
    "            if type_categories[i] != -1:\n",
    "                visit = index + type_categories[i]\n",
    "                self.tensor[order][x][y][visit] += 1\n",
    "                self.features[visit][x][y] += 1\n",
    "                index += self.counts[3]\n",
    "            # day\n",
    "            day = index + days_categories[i]\n",
    "            self.tensor[order][x][y][day] += 1\n",
    "            self.features[day][x][y] += 1"
   ]
  },
  {
   "cell_type": "markdown",
   "metadata": {},
   "source": [
    "### 4. 메서드, date 변수"
   ]
  },
  {
   "cell_type": "code",
   "execution_count": 7,
   "metadata": {},
   "outputs": [],
   "source": [
    "def generate_images(feature_class, merge_route):\n",
    "    feature_class.clear(len(route_dates))\n",
    "    images = []\n",
    "\n",
    "    for i in range(len(route_dates)):\n",
    "        routes = merge_route.loc[merge_route['date'] == route_dates[i]]\n",
    "\n",
    "        # features in routes\n",
    "        ages = routes['age'].tolist()\n",
    "        sexes = routes['sex'].tolist()\n",
    "        infection_cases = routes['infection_case'].tolist()\n",
    "        types = routes['type'].tolist()\n",
    "        dates = routes['date'].tolist()\n",
    "        lats = routes['latitude'].tolist()\n",
    "        lons = routes['longitude'].tolist()\n",
    "\n",
    "        # features\n",
    "        feature_class.put_all_categories(i, ages, sexes, infection_cases, types, dates, lats, lons)\n",
    "#         images.append(feature_class.features)\n",
    "        \n",
    "    return feature_class.tensor"
   ]
  },
  {
   "cell_type": "code",
   "execution_count": 8,
   "metadata": {},
   "outputs": [],
   "source": [
    "route_dates = merge_route['date']\n",
    "route_dates = route_dates.drop_duplicates(keep='last')\n",
    "route_dates = route_dates.tolist()"
   ]
  },
  {
   "cell_type": "code",
   "execution_count": 9,
   "metadata": {},
   "outputs": [],
   "source": [
    "club_dates = club_route['date']\n",
    "club_dates = club_dates.drop_duplicates(keep='last')\n",
    "club_dates = club_dates.tolist()"
   ]
  },
  {
   "cell_type": "markdown",
   "metadata": {},
   "source": [
    "### 5. 피처에 값 대입\n",
    "##### 방문목적지별 방문 개수\n",
    "- hospital(970)\n",
    "- etc(648)\n",
    "- public transportation(259)\n",
    "- store(217)\n",
    "- restuarant(203)\n",
    "- pharmacy(75)\n",
    "- church(64)\n",
    "- cafe(45)\n",
    "- airport(28)\n",
    "- pc_cafe(24)\n",
    "- lodging(24)\n",
    "- real_estate_agency(16)\n",
    "- bank(11)\n",
    "- school(11)\n",
    "- bar(9)\n",
    "- beuty_salon(6)\n",
    "- post_office(5)\n",
    "- bakery(6)\n",
    "- gym(3)\n",
    "- gas_station(3)\n",
    "- karaoke(2)\n",
    "\n",
    "##### 피처 병합 계획\n",
    "- move types의 수를 줄인다.\n",
    "  - store(217)로 분류될 수 있는 속성들은 store로 대체한다.\n",
    "    - bakery(6), pharmacy(75) → store\n",
    "  - restaurant로 분류될 수 있는 속성들은 restuarant(203)로 대체한다.\n",
    "    - cafe(45), bar(9)\n",
    "  - 실내 인구 밀집도가 높은 지역은 'high_population'으로 대체한다.\n",
    "    - karaoke(2), gym(3), pc_cafe(24), church(64)\n",
    "  - 통계적으로 다른 방문지보다 방문 횟수가 적은 곳은 'etc'로 대체한다.\n",
    "    - gas_station(3), beuty_salon(6), school(11), real_estate_agency(16), airport(28), bank(11), post_office(5)\n",
    "  - 남은 것\n",
    "    - lodging(24), public transportation(259), etc(648), hospital(970), store"
   ]
  },
  {
   "cell_type": "markdown",
   "metadata": {},
   "source": [
    "### 5. 피처에 값 대입(1)"
   ]
  },
  {
   "cell_type": "markdown",
   "metadata": {},
   "source": [
    "모든 categorical values를 1개의 피처로 반영"
   ]
  },
  {
   "cell_type": "code",
   "execution_count": 10,
   "metadata": {},
   "outputs": [],
   "source": [
    "names = ['age', 'sex', 'infection_case', 'type', 'date']\n",
    "counts = [11, 2, 4, 21, 7]\n",
    "move_types = ['karaoke', 'gas_station', 'gym', 'bakery', 'pc_cafe',\n",
    "              'beauty_salon', 'school', 'church', 'bank', 'cafe',\n",
    "              'bar', 'post_office', 'real_estate_agency', 'lodging',\n",
    "              'public_transportation', 'restaurant', 'etc', 'store',\n",
    "              'hospital', 'pharmacy', 'airport']"
   ]
  },
  {
   "cell_type": "code",
   "execution_count": 11,
   "metadata": {},
   "outputs": [],
   "source": [
    "feature = Feature(names, counts, move_types)\n",
    "image1 = generate_images(feature, merge_route)\n",
    "club1 = generate_images(feature, club_route)"
   ]
  },
  {
   "cell_type": "markdown",
   "metadata": {},
   "source": [
    "```\n",
    "images1 = []\n",
    "\n",
    "for i in range(len(route_dates)):\n",
    "    routes = merge_route.loc[merge_route['date'] == route_dates[i]]\n",
    "    \n",
    "    # features in routes\n",
    "    ages = routes['age'].tolist()\n",
    "    sexes = routes['sex'].tolist()\n",
    "    infection_cases = routes['infection_case'].tolist()\n",
    "    types = routes['type'].tolist()\n",
    "    dates = routes['date'].tolist()\n",
    "    lats = routes['latitude'].tolist()\n",
    "    lons = routes['longitude'].tolist()\n",
    "    \n",
    "    # features\n",
    "    feature = Feature(names, counts, move_types)\n",
    "    feature.put_all_categories(ages, sexes, infection_cases, types, dates, lats, lons)\n",
    "    images1.append(feature)\n",
    "```"
   ]
  },
  {
   "cell_type": "markdown",
   "metadata": {},
   "source": [
    "### 5. 피처에 값 대입(2)"
   ]
  },
  {
   "cell_type": "markdown",
   "metadata": {},
   "source": [
    "방문 목적이 비슷한 항몪끼리 묶는다.\n",
    "- store(217)로 분류될 수 있는 속성들은 store로 대체한다.\n",
    "    - bakery(6), pharmacy(75) → store\n",
    "    - 5월 12일까지 약국에서 일어난 2차 감염 사례가 보고되지 않았기 때문에 약국도 store로 분류"
   ]
  },
  {
   "cell_type": "code",
   "execution_count": 12,
   "metadata": {},
   "outputs": [],
   "source": [
    "names = ['age', 'sex', 'infection_case', 'type', 'date']\n",
    "counts = [11, 2, 4, 19, 7]\n",
    "move_types = ['karaoke', 'gas_station', 'gym', 'pc_cafe',\n",
    "              'beauty_salon', 'school', 'church', 'bank', 'cafe',\n",
    "              'bar', 'post_office', 'real_estate_agency', 'lodging',\n",
    "              'public_transportation', 'restaurant', 'etc', 'store',\n",
    "              'hospital', 'airport']"
   ]
  },
  {
   "cell_type": "code",
   "execution_count": 13,
   "metadata": {},
   "outputs": [],
   "source": [
    "second_route = merge_route\n",
    "second_route['type'].replace({'bakery': 'store', 'pharmacy': 'store'}, inplace=True)\n",
    "club_second_route = club_route\n",
    "club_second_route['type'].replace({'bakery': 'store', 'pharmacy': 'store'}, inplace=True)"
   ]
  },
  {
   "cell_type": "code",
   "execution_count": 14,
   "metadata": {},
   "outputs": [],
   "source": [
    "image2 = generate_images(feature, second_route)\n",
    "club2 = generate_images(feature, club_second_route)"
   ]
  },
  {
   "cell_type": "markdown",
   "metadata": {},
   "source": [
    "### 5. 피처에 값 대입(3)"
   ]
  },
  {
   "cell_type": "markdown",
   "metadata": {},
   "source": [
    "방문 목적이 비슷한 항몪끼리 묶는다.\n",
    "- restaurant로 분류될 수 있는 속성들은 restuarant(203)로 대체한다.\n",
    "  - cafe(45), bar(9)"
   ]
  },
  {
   "cell_type": "code",
   "execution_count": 15,
   "metadata": {},
   "outputs": [],
   "source": [
    "names = ['age', 'sex', 'infection_case', 'type', 'date']\n",
    "counts = [11, 2, 4, 17, 7]\n",
    "move_types = ['karaoke', 'gas_station', 'gym', 'pc_cafe',\n",
    "              'beauty_salon', 'school', 'church', 'bank',\n",
    "              'post_office', 'real_estate_agency', 'lodging',\n",
    "              'public_transportation', 'restaurant', 'etc', 'store',\n",
    "              'hospital', 'airport']"
   ]
  },
  {
   "cell_type": "code",
   "execution_count": 16,
   "metadata": {},
   "outputs": [],
   "source": [
    "third_route = second_route\n",
    "third_route['type'].replace({'cafe': 'restaurant', 'bar': 'restaurant'}, inplace=True)\n",
    "club_third_route = club_second_route\n",
    "club_third_route['type'].replace({'cafe': 'restaurant', 'bar': 'restaurant'}, inplace=True)"
   ]
  },
  {
   "cell_type": "code",
   "execution_count": 17,
   "metadata": {},
   "outputs": [],
   "source": [
    "image3 = generate_images(feature, third_route)\n",
    "club3 = generate_images(feature, club_third_route)"
   ]
  },
  {
   "cell_type": "markdown",
   "metadata": {},
   "source": [
    "### 5. 피처에 값 대입(4)"
   ]
  },
  {
   "cell_type": "markdown",
   "metadata": {},
   "source": [
    "실내 환경이 비슷한 항몪끼리 묶는다.\n",
    "- 실내 인구 밀집도가 높고 폐쇄된 지역은 'high_population'으로 대체한다.\n",
    "  - karaoke(2), gym(3), pc_cafe(24), church(64)"
   ]
  },
  {
   "cell_type": "code",
   "execution_count": 18,
   "metadata": {},
   "outputs": [],
   "source": [
    "names = ['age', 'sex', 'infection_case', 'type', 'date']\n",
    "counts = [11, 2, 4, 14, 7]\n",
    "move_types = ['gas_station', 'high_population',\n",
    "              'beauty_salon', 'school', 'bank',\n",
    "              'post_office', 'real_estate_agency', 'lodging',\n",
    "              'public_transportation', 'restaurant', 'etc', 'store',\n",
    "              'hospital', 'airport']"
   ]
  },
  {
   "cell_type": "code",
   "execution_count": 19,
   "metadata": {},
   "outputs": [],
   "source": [
    "forth_route = third_route\n",
    "forth_route['type'].replace({'karaoke': 'high_population', 'gym': 'restaurant', 'pc_cafe': 'high_population', 'church': 'high_population'}, inplace=True)\n",
    "club_forth_route = club_third_route\n",
    "club_forth_route['type'].replace({'karaoke': 'high_population', 'gym': 'restaurant', 'pc_cafe': 'high_population', 'church': 'high_population'}, inplace=True)"
   ]
  },
  {
   "cell_type": "code",
   "execution_count": 20,
   "metadata": {},
   "outputs": [],
   "source": [
    "image4 = generate_images(feature, forth_route)\n",
    "club4 = generate_images(feature, club_forth_route)"
   ]
  },
  {
   "cell_type": "markdown",
   "metadata": {},
   "source": [
    "### 5. 피처에 값 대입(5)"
   ]
  },
  {
   "cell_type": "markdown",
   "metadata": {},
   "source": [
    "- 통계적으로 다른 방문지보다 방문 횟수가 적은 곳은 'etc'로 대체한다.\n",
    "  - gas_station(3), beuty_salon(6), school(11), real_estate_agency(16), airport(28), bank(11), post_office(5)"
   ]
  },
  {
   "cell_type": "code",
   "execution_count": 21,
   "metadata": {},
   "outputs": [],
   "source": [
    "names = ['age', 'sex', 'infection_case', 'type', 'date']\n",
    "counts = [11, 2, 4, 7, 7]\n",
    "move_types = ['high_population', 'lodging', 'hospital', 'etc',\n",
    "              'public_transportation', 'restaurant', 'store']"
   ]
  },
  {
   "cell_type": "code",
   "execution_count": 22,
   "metadata": {},
   "outputs": [],
   "source": [
    "fifth_route = forth_route\n",
    "fifth_route['type'].replace({'gas_station': 'etc', 'beauty_salon': 'etc', 'school': 'etc', 'real_estate_agency': 'etc', 'airport': 'etc', 'bank': 'etc', 'post_office': 'etc'}, inplace=True)\n",
    "club_fifth_route = club_forth_route\n",
    "club_fifth_route['type'].replace({'gas_station': 'etc', 'beauty_salon': 'etc', 'school': 'etc', 'real_estate_agency': 'etc', 'airport': 'etc', 'bank': 'etc', 'post_office': 'etc'}, inplace=True)"
   ]
  },
  {
   "cell_type": "code",
   "execution_count": 23,
   "metadata": {},
   "outputs": [],
   "source": [
    "image5 = generate_images(feature, fifth_route)\n",
    "club5 = generate_images(feature, club_fifth_route)"
   ]
  },
  {
   "cell_type": "markdown",
   "metadata": {},
   "source": [
    "### 5. 피처에 값 대입(6)"
   ]
  },
  {
   "cell_type": "markdown",
   "metadata": {},
   "source": [
    "date에서 평일끼리 묶고, 주말끼리 묶는다."
   ]
  },
  {
   "cell_type": "code",
   "execution_count": 24,
   "metadata": {},
   "outputs": [],
   "source": [
    "names = ['age', 'sex', 'infection_case', 'type', 'date']\n",
    "counts = [11, 2, 4, 7, 2]\n",
    "move_types = ['high_population', 'lodging', 'hospital', 'etc',\n",
    "              'public_transportation', 'restaurant', 'store']"
   ]
  },
  {
   "cell_type": "code",
   "execution_count": 25,
   "metadata": {},
   "outputs": [],
   "source": [
    "sixth_route = fifth_route\n",
    "club_sixth_route = club_fifth_route\n",
    "\n",
    "class Feature2(Feature):\n",
    "    def day_category(self, days):\n",
    "        categories = []\n",
    "        for day in days:\n",
    "            day = datetime.strptime(day, \"%Y-%m-%d\")\n",
    "            category = day.weekday()\n",
    "            if category == 0 or category == 6: category = 0\n",
    "            else: category = 1\n",
    "            categories.append(category)\n",
    "        return categories"
   ]
  },
  {
   "cell_type": "code",
   "execution_count": 26,
   "metadata": {},
   "outputs": [],
   "source": [
    "feature2 = Feature2(names, counts, move_types)\n",
    "image6 = generate_images(feature2, sixth_route)\n",
    "club6 = generate_images(feature2, club_sixth_route)"
   ]
  },
  {
   "cell_type": "markdown",
   "metadata": {},
   "source": [
    "### 5. 피처에 값 대입(7)"
   ]
  },
  {
   "cell_type": "markdown",
   "metadata": {},
   "source": [
    "성별 피처를 삭제한다."
   ]
  },
  {
   "cell_type": "code",
   "execution_count": 27,
   "metadata": {},
   "outputs": [],
   "source": [
    "names = ['age', 'sex', 'infection_case', 'type', 'date']\n",
    "counts = [11, 0, 4, 7, 7]\n",
    "move_types = ['high_population', 'lodging', 'hospital', 'etc',\n",
    "              'public_transportation', 'restaurant', 'store']"
   ]
  },
  {
   "cell_type": "code",
   "execution_count": 28,
   "metadata": {},
   "outputs": [],
   "source": [
    "seventh_route = fifth_route\n",
    "club_seventh_route = club_fifth_route\n",
    "\n",
    "class Feature3(Feature):\n",
    "    def sex_category(self, sexes):\n",
    "        categories = []\n",
    "        for sex in sexes:\n",
    "            categories.append(-1)\n",
    "        return categories"
   ]
  },
  {
   "cell_type": "code",
   "execution_count": 29,
   "metadata": {},
   "outputs": [],
   "source": [
    "feature3 = Feature3(names, counts, move_types)\n",
    "image7 = generate_images(feature3, seventh_route)\n",
    "club7 = generate_images(feature3, club_seventh_route)"
   ]
  },
  {
   "cell_type": "markdown",
   "metadata": {},
   "source": [
    "### 5. 피처에 값 대입(8)"
   ]
  },
  {
   "cell_type": "markdown",
   "metadata": {},
   "source": [
    "나이대를 통합한다.\n",
    "- 0s, 10s\n",
    "- 20s, 30s\n",
    "- 40s, 50s,\n",
    "- 60s, 70s,\n",
    "- 80s, 90s, 100s"
   ]
  },
  {
   "cell_type": "code",
   "execution_count": 30,
   "metadata": {},
   "outputs": [],
   "source": [
    "names = ['age', 'sex', 'infection_case', 'type', 'date']\n",
    "counts = [5, 2, 4, 7, 7]\n",
    "move_types = ['high_population', 'lodging', 'hospital', 'etc',\n",
    "              'public_transportation', 'restaurant', 'store']"
   ]
  },
  {
   "cell_type": "code",
   "execution_count": 31,
   "metadata": {},
   "outputs": [],
   "source": [
    "eightth_route = fifth_route\n",
    "club_eightth_route = club_fifth_route\n",
    "\n",
    "class Feature4(Feature):\n",
    "    def age_category(self, ages):\n",
    "        categories = []\n",
    "        for age in ages:\n",
    "            age = int(age[:-1])\n",
    "            if age == 0 or age == 10: category = 0\n",
    "            elif age == 20 or age == 30: category = 1\n",
    "            elif age == 40 or age == 50: category = 2\n",
    "            elif age == 70 or age == 70: category = 3\n",
    "            else: category = 4\n",
    "            categories.append(category)\n",
    "        return categories"
   ]
  },
  {
   "cell_type": "code",
   "execution_count": 32,
   "metadata": {},
   "outputs": [],
   "source": [
    "feature4 = Feature4(names, counts, move_types)\n",
    "image8 = generate_images(feature4, eightth_route)\n",
    "club8 = generate_images(feature4, club_eightth_route)"
   ]
  },
  {
   "cell_type": "markdown",
   "metadata": {},
   "source": [
    "### 5. 피처에 값 대입(9)"
   ]
  },
  {
   "cell_type": "markdown",
   "metadata": {},
   "source": [
    "감염 원인 피처를 삭제한다."
   ]
  },
  {
   "cell_type": "code",
   "execution_count": 33,
   "metadata": {},
   "outputs": [],
   "source": [
    "names = ['age', 'sex', 'infection_case', 'type', 'date']\n",
    "counts = [5, 2, 0, 7, 7]\n",
    "move_types = ['high_population', 'lodging', 'hospital', 'etc',\n",
    "              'public_transportation', 'restaurant', 'store']"
   ]
  },
  {
   "cell_type": "code",
   "execution_count": 34,
   "metadata": {},
   "outputs": [],
   "source": [
    "nineth_route = fifth_route\n",
    "club_nineth_route = club_fifth_route\n",
    "\n",
    "class Feature5(Feature):\n",
    "    def infection_case_category(self, infection_cases):\n",
    "        categories = []\n",
    "        for infection_case in infection_cases:\n",
    "            categories.append(-1)\n",
    "        return categories"
   ]
  },
  {
   "cell_type": "code",
   "execution_count": 35,
   "metadata": {},
   "outputs": [],
   "source": [
    "feature5 = Feature5(names, counts, move_types)\n",
    "image9 = generate_images(feature5, nineth_route)\n",
    "club9 = generate_images(feature5, club_nineth_route)"
   ]
  },
  {
   "cell_type": "markdown",
   "metadata": {},
   "source": [
    "### 5. 피처에 값 대입(10)"
   ]
  },
  {
   "cell_type": "markdown",
   "metadata": {},
   "source": [
    "date에서 평일끼리 묶고, 주말끼리 묶는다.\n",
    "성별 피처를 삭제한다.\n",
    "나이대를 통합한다.\n",
    "감염 원인 피처를 삭제한다."
   ]
  },
  {
   "cell_type": "code",
   "execution_count": 36,
   "metadata": {},
   "outputs": [],
   "source": [
    "names = ['age', 'sex', 'infection_case', 'type', 'date']\n",
    "counts = [5, 0, 0, 0, 2]\n",
    "move_types = ['high_population', 'lodging', 'hospital', 'etc',\n",
    "              'public_transportation', 'restaurant', 'store']"
   ]
  },
  {
   "cell_type": "code",
   "execution_count": 37,
   "metadata": {},
   "outputs": [],
   "source": [
    "tenth_route = fifth_route\n",
    "club_tenth_route = club_fifth_route\n",
    "\n",
    "class Feature6(Feature):\n",
    "    def day_category(self, days):\n",
    "        categories = []\n",
    "        for day in days:\n",
    "            day = datetime.strptime(day, \"%Y-%m-%d\")\n",
    "            category = day.weekday()\n",
    "            if category == 0 or category == 6: category = 0\n",
    "            else: category = 1\n",
    "            categories.append(category)\n",
    "        return categories\n",
    "    \n",
    "    def type_category(self, types):\n",
    "        categories = []\n",
    "        for purpose in types:\n",
    "            categories.append(-1)\n",
    "        return categories\n",
    "    \n",
    "    def sex_category(self, sexes):\n",
    "        categories = []\n",
    "        for sex in sexes:\n",
    "            categories.append(-1)\n",
    "        return categories\n",
    "    \n",
    "    def age_category(self, ages):\n",
    "        categories = []\n",
    "        for age in ages:\n",
    "            age = int(age[:-1])\n",
    "            if age == 0 or age == 10: category = 0\n",
    "            elif age == 20 or age == 30: category = 1\n",
    "            elif age == 40 or age == 50: category = 2\n",
    "            elif age == 70 or age == 70: category = 3\n",
    "            else: category = 4\n",
    "            categories.append(category)\n",
    "        return categories\n",
    "    \n",
    "    def infection_case_category(self, infection_cases):\n",
    "        categories = []\n",
    "        for infection_case in infection_cases:\n",
    "            categories.append(-1)\n",
    "        return categories"
   ]
  },
  {
   "cell_type": "code",
   "execution_count": 38,
   "metadata": {},
   "outputs": [],
   "source": [
    "feature6 = Feature6(names, counts, move_types)\n",
    "image10 = generate_images(feature6, tenth_route)\n",
    "club10 = generate_images(feature6, club_tenth_route)"
   ]
  },
  {
   "cell_type": "markdown",
   "metadata": {},
   "source": [
    "### 6. ConvLSTM"
   ]
  },
  {
   "cell_type": "code",
   "execution_count": 39,
   "metadata": {},
   "outputs": [
    {
     "name": "stderr",
     "output_type": "stream",
     "text": [
      "Using TensorFlow backend.\n"
     ]
    }
   ],
   "source": [
    "from keras.models import Sequential, load_model\n",
    "from keras.layers.convolutional import Conv3D\n",
    "from keras.layers.convolutional_recurrent import ConvLSTM2D\n",
    "from keras.layers.normalization import BatchNormalization\n",
    "import keras.backend.tensorflow_backend as K\n",
    "from sklearn.metrics import mean_squared_error, r2_score\n",
    "import numpy as np\n",
    "import pylab as plt"
   ]
  },
  {
   "cell_type": "code",
   "execution_count": 40,
   "metadata": {},
   "outputs": [],
   "source": [
    "# We create a layer which take as input movies of shape\n",
    "# (n_frames, width, height, channels) and returns a movie\n",
    "# of identical shape.\n",
    "def get_model(number, channel):\n",
    "    with K.tf_ops.device('/device:GPU:0'):\n",
    "        seq = Sequential()\n",
    "        seq.add(ConvLSTM2D(filters=32, kernel_size=(3, 3),\n",
    "                           input_shape=(14, 32, 32, channel),\n",
    "                           padding='same', return_sequences=True))\n",
    "        seq.add(BatchNormalization())\n",
    "\n",
    "        seq.add(ConvLSTM2D(filters=32, kernel_size=(3, 3),\n",
    "                           padding='same', return_sequences=True))\n",
    "        seq.add(BatchNormalization())\n",
    "\n",
    "        seq.add(ConvLSTM2D(filters=32, kernel_size=(3, 3),\n",
    "                           padding='same', return_sequences=True))\n",
    "        seq.add(BatchNormalization())\n",
    "\n",
    "        seq.add(ConvLSTM2D(filters=32, kernel_size=(3, 3),\n",
    "                           padding='same', return_sequences=True))\n",
    "        seq.add(BatchNormalization())\n",
    "\n",
    "        seq.add(Conv3D(filters=channel, kernel_size=(3, 3, 3),\n",
    "                       activation='sigmoid',\n",
    "                       padding='same', data_format='channels_last'))\n",
    "\n",
    "        seq.compile(loss='binary_crossentropy', optimizer='adadelta')\n",
    "    return seq"
   ]
  },
  {
   "cell_type": "markdown",
   "metadata": {},
   "source": [
    "#### train/test"
   ]
  },
  {
   "cell_type": "code",
   "execution_count": 41,
   "metadata": {},
   "outputs": [],
   "source": [
    "images = []\n",
    "images.append(image1)\n",
    "images.append(image2)\n",
    "images.append(image3)\n",
    "images.append(image4)\n",
    "images.append(image5)\n",
    "images.append(image6)\n",
    "images.append(image7)\n",
    "images.append(image8)\n",
    "images.append(image9)\n",
    "images.append(image10)"
   ]
  },
  {
   "cell_type": "code",
   "execution_count": 42,
   "metadata": {},
   "outputs": [],
   "source": [
    "club_images = []\n",
    "club_images.append(club1)\n",
    "club_images.append(club2)\n",
    "club_images.append(club3)\n",
    "club_images.append(club4)\n",
    "club_images.append(club5)\n",
    "club_images.append(club6)\n",
    "club_images.append(club7)\n",
    "club_images.append(club8)\n",
    "club_images.append(club9)\n",
    "club_images.append(club10)"
   ]
  },
  {
   "cell_type": "code",
   "execution_count": 43,
   "metadata": {},
   "outputs": [],
   "source": [
    "tests = []\n",
    "\n",
    "for j, image in enumerate(images):\n",
    "    n = image.shape[0]\n",
    "    channel = image.shape[3]\n",
    "    rs = 32\n",
    "    n_step = 14\n",
    "\n",
    "    n_test = n_step * 2\n",
    "    n_train = n - n_test\n",
    "\n",
    "    train = image[:n_train,:,:]\n",
    "    test = image[n_train:,:,:]\n",
    "    tests.append(test)\n",
    "    \n",
    "#     X_train = []\n",
    "#     y_train = []\n",
    "#     for i in range(n_step,n_train-n_step):\n",
    "#         X_train.append(train[i-n_step:i, :,:])\n",
    "#         y_train.append(train[i:i+n_step, :,:])\n",
    "#     X_train, y_train = np.array(X_train), np.array(y_train)\n",
    "    \n",
    "#     seq = get_model(0, channel)\n",
    "#     seq.fit(X_train, y_train, epochs = 50, batch_size = 32)\n",
    "#     seq.save('model/seq_image%d.h5' % j)"
   ]
  },
  {
   "cell_type": "markdown",
   "metadata": {},
   "source": [
    "#### Result"
   ]
  },
  {
   "cell_type": "code",
   "execution_count": 44,
   "metadata": {},
   "outputs": [
    {
     "name": "stdout",
     "output_type": "stream",
     "text": [
      "(1, 14, 32, 32, 45)\n",
      "(14, 32, 32, 45)\n",
      "(1, 14, 32, 32, 45)\n",
      "(14, 46080, 45)\n",
      "(14, 46080, 45)\n",
      "1  :  Test RMSE: 47.418\n",
      "2  :  Test RMSE: 23.747\n",
      "3  :  Test RMSE: 16.798\n",
      "4  :  Test RMSE: 12.661\n",
      "5  :  Test RMSE: 10.300\n",
      "6  :  Test RMSE: 8.940\n",
      "7  :  Test RMSE: 8.135\n",
      "8  :  Test RMSE: 7.634\n",
      "9  :  Test RMSE: 7.299\n",
      "10  :  Test RMSE: 7.105\n",
      "11  :  Test RMSE: 7.325\n",
      "12  :  Test RMSE: 9.060\n",
      "13  :  Test RMSE: 16.659\n",
      "14  :  Test RMSE: 61.408\n",
      "(1, 14, 32, 32, 45)\n",
      "(14, 32, 32, 45)\n",
      "(1, 14, 32, 32, 45)\n",
      "(14, 46080, 45)\n",
      "(14, 46080, 45)\n",
      "1  :  Test RMSE: 40.666\n",
      "2  :  Test RMSE: 24.296\n",
      "3  :  Test RMSE: 20.157\n",
      "4  :  Test RMSE: 16.266\n",
      "5  :  Test RMSE: 13.310\n",
      "6  :  Test RMSE: 11.318\n",
      "7  :  Test RMSE: 10.062\n",
      "8  :  Test RMSE: 9.356\n",
      "9  :  Test RMSE: 9.197\n",
      "10  :  Test RMSE: 10.015\n",
      "11  :  Test RMSE: 13.418\n",
      "12  :  Test RMSE: 28.105\n",
      "13  :  Test RMSE: 106.313\n",
      "14  :  Test RMSE: 225.682\n",
      "(1, 14, 32, 32, 45)\n",
      "(14, 32, 32, 45)\n",
      "(1, 14, 32, 32, 45)\n",
      "(14, 46080, 45)\n",
      "(14, 46080, 45)\n",
      "1  :  Test RMSE: 56.919\n",
      "2  :  Test RMSE: 35.667\n",
      "3  :  Test RMSE: 26.341\n",
      "4  :  Test RMSE: 20.025\n",
      "5  :  Test RMSE: 16.262\n",
      "6  :  Test RMSE: 14.020\n",
      "7  :  Test RMSE: 12.641\n",
      "8  :  Test RMSE: 11.794\n",
      "9  :  Test RMSE: 11.363\n",
      "10  :  Test RMSE: 11.475\n",
      "11  :  Test RMSE: 12.920\n",
      "12  :  Test RMSE: 18.943\n",
      "13  :  Test RMSE: 46.819\n",
      "14  :  Test RMSE: 145.056\n",
      "(1, 14, 32, 32, 45)\n",
      "(14, 32, 32, 45)\n",
      "(1, 14, 32, 32, 45)\n",
      "(14, 46080, 45)\n",
      "(14, 46080, 45)\n",
      "1  :  Test RMSE: 57.653\n",
      "2  :  Test RMSE: 41.219\n",
      "3  :  Test RMSE: 38.936\n",
      "4  :  Test RMSE: 35.090\n",
      "5  :  Test RMSE: 31.289\n",
      "6  :  Test RMSE: 28.414\n",
      "7  :  Test RMSE: 26.787\n",
      "8  :  Test RMSE: 26.538\n",
      "9  :  Test RMSE: 27.610\n",
      "10  :  Test RMSE: 30.024\n",
      "11  :  Test RMSE: 35.814\n",
      "12  :  Test RMSE: 58.946\n",
      "13  :  Test RMSE: 136.663\n",
      "14  :  Test RMSE: 237.541\n",
      "(1, 14, 32, 32, 45)\n",
      "(14, 32, 32, 45)\n",
      "(1, 14, 32, 32, 45)\n",
      "(14, 46080, 45)\n",
      "(14, 46080, 45)\n",
      "1  :  Test RMSE: 40.016\n",
      "2  :  Test RMSE: 21.946\n",
      "3  :  Test RMSE: 16.962\n",
      "4  :  Test RMSE: 13.790\n",
      "5  :  Test RMSE: 11.877\n",
      "6  :  Test RMSE: 10.753\n",
      "7  :  Test RMSE: 10.139\n",
      "8  :  Test RMSE: 9.903\n",
      "9  :  Test RMSE: 10.063\n",
      "10  :  Test RMSE: 10.881\n",
      "11  :  Test RMSE: 13.257\n",
      "12  :  Test RMSE: 22.101\n",
      "13  :  Test RMSE: 77.547\n",
      "14  :  Test RMSE: 222.319\n",
      "(1, 14, 32, 32, 26)\n",
      "(14, 32, 32, 26)\n",
      "(1, 14, 32, 32, 26)\n",
      "(14, 26624, 26)\n",
      "(14, 26624, 26)\n",
      "1  :  Test RMSE: 35.165\n",
      "2  :  Test RMSE: 18.953\n",
      "3  :  Test RMSE: 15.927\n",
      "4  :  Test RMSE: 13.904\n",
      "5  :  Test RMSE: 12.594\n",
      "6  :  Test RMSE: 11.746\n",
      "7  :  Test RMSE: 11.198\n",
      "8  :  Test RMSE: 10.843\n",
      "9  :  Test RMSE: 10.631\n",
      "10  :  Test RMSE: 10.631\n",
      "11  :  Test RMSE: 11.179\n",
      "12  :  Test RMSE: 13.194\n",
      "13  :  Test RMSE: 19.827\n",
      "14  :  Test RMSE: 43.534\n",
      "(1, 14, 32, 32, 29)\n",
      "(14, 32, 32, 29)\n",
      "(1, 14, 32, 32, 29)\n",
      "(14, 29696, 29)\n",
      "(14, 29696, 29)\n",
      "1  :  Test RMSE: 46.397\n",
      "2  :  Test RMSE: 27.063\n",
      "3  :  Test RMSE: 19.108\n",
      "4  :  Test RMSE: 14.484\n",
      "5  :  Test RMSE: 11.985\n",
      "6  :  Test RMSE: 10.683\n",
      "7  :  Test RMSE: 10.052\n",
      "8  :  Test RMSE: 9.821\n",
      "9  :  Test RMSE: 9.958\n",
      "10  :  Test RMSE: 10.812\n",
      "11  :  Test RMSE: 13.538\n",
      "12  :  Test RMSE: 22.126\n",
      "13  :  Test RMSE: 61.872\n",
      "14  :  Test RMSE: 168.088\n",
      "(1, 14, 32, 32, 25)\n",
      "(14, 32, 32, 25)\n",
      "(1, 14, 32, 32, 25)\n",
      "(14, 25600, 25)\n",
      "(14, 25600, 25)\n",
      "1  :  Test RMSE: 51.548\n",
      "2  :  Test RMSE: 26.043\n",
      "3  :  Test RMSE: 21.355\n",
      "4  :  Test RMSE: 17.733\n",
      "5  :  Test RMSE: 15.345\n",
      "6  :  Test RMSE: 13.917\n",
      "7  :  Test RMSE: 13.206\n",
      "8  :  Test RMSE: 13.199\n",
      "9  :  Test RMSE: 14.377\n",
      "10  :  Test RMSE: 17.817\n",
      "11  :  Test RMSE: 25.560\n",
      "12  :  Test RMSE: 55.372\n",
      "13  :  Test RMSE: 163.955\n",
      "14  :  Test RMSE: 246.096\n",
      "(1, 14, 32, 32, 21)\n",
      "(14, 32, 32, 21)\n",
      "(1, 14, 32, 32, 21)\n",
      "(14, 21504, 21)\n",
      "(14, 21504, 21)\n",
      "1  :  Test RMSE: 79.903\n",
      "2  :  Test RMSE: 62.719\n",
      "3  :  Test RMSE: 42.891\n",
      "4  :  Test RMSE: 30.028\n",
      "5  :  Test RMSE: 22.629\n",
      "6  :  Test RMSE: 18.353\n",
      "7  :  Test RMSE: 15.869\n",
      "8  :  Test RMSE: 14.549\n",
      "9  :  Test RMSE: 14.198\n",
      "10  :  Test RMSE: 15.129\n",
      "11  :  Test RMSE: 18.720\n",
      "12  :  Test RMSE: 30.620\n",
      "13  :  Test RMSE: 82.038\n",
      "14  :  Test RMSE: 179.945\n",
      "(1, 14, 32, 32, 7)\n",
      "(14, 32, 32, 7)\n",
      "(1, 14, 32, 32, 7)\n",
      "(14, 7168, 7)\n",
      "(14, 7168, 7)\n",
      "1  :  Test RMSE: 116.733\n",
      "2  :  Test RMSE: 111.814\n",
      "3  :  Test RMSE: 82.736\n",
      "4  :  Test RMSE: 61.802\n",
      "5  :  Test RMSE: 48.886\n",
      "6  :  Test RMSE: 41.449\n",
      "7  :  Test RMSE: 37.817\n",
      "8  :  Test RMSE: 37.275\n",
      "9  :  Test RMSE: 40.022\n",
      "10  :  Test RMSE: 46.226\n",
      "11  :  Test RMSE: 56.099\n",
      "12  :  Test RMSE: 75.306\n",
      "13  :  Test RMSE: 129.305\n",
      "14  :  Test RMSE: 228.283\n"
     ]
    }
   ],
   "source": [
    "for i, image in enumerate(images):\n",
    "    n = image.shape[0]\n",
    "    channel = image.shape[3]\n",
    "    rs = 32\n",
    "    n_step = 14\n",
    "\n",
    "    n_test = n_step * 2\n",
    "    n_train = n - n_test\n",
    "    \n",
    "    seq = load_model('model/seq_image%d.h5' % i)\n",
    "    m_max=300\n",
    "    \n",
    "    test = tests[i]\n",
    "    X_test=test[-n_step:,:,:]\n",
    "    X_test=X_test.reshape((1, 14, rs, rs, channel))\n",
    "    club_image = club_images[i] \n",
    "    y_test = club_image[-n_step:,:,:]\n",
    "    print(X_test.shape)\n",
    "    print(y_test.shape)\n",
    "                          \n",
    "    #prediction\n",
    "    pred =seq.predict(X_test)\n",
    "    pred*=m_max ###########inverse scailing\n",
    "    print(pred.shape)\n",
    "    pred=pred.reshape(n_step,rs,rs, channel)\n",
    "                          \n",
    "    real_vv=[]\n",
    "    pre_vv=[]\n",
    "    for t in range(n_step):\n",
    "        tmp=y_test[t].reshape((rs,rs, channel))\n",
    "        xx=np.argwhere(False==np.isnan(tmp))[:,0]\n",
    "        yy=np.argwhere(False==np.isnan(tmp))[:,1]\n",
    "        real_vv.append(tmp[xx,yy])\n",
    "        pre_vv.append(pred[t,xx,yy])\n",
    "\n",
    "    real_vv=np.array(real_vv)\n",
    "    pre_vv=np.array(pre_vv)\n",
    "    print(real_vv.shape)\n",
    "    print(pre_vv.shape)\n",
    "\n",
    "    for i in range(14):\n",
    "        rmse=np.sqrt(mean_squared_error(real_vv[i],pre_vv[i]))\n",
    "        print(i+1,\" : \",'Test RMSE: %.3f'%rmse)"
   ]
  },
  {
   "cell_type": "code",
   "execution_count": 45,
   "metadata": {},
   "outputs": [
    {
     "ename": "SyntaxError",
     "evalue": "invalid syntax (<ipython-input-45-29e0c3615294>, line 1)",
     "output_type": "error",
     "traceback": [
      "\u001b[0;36m  File \u001b[0;32m\"<ipython-input-45-29e0c3615294>\"\u001b[0;36m, line \u001b[0;32m1\u001b[0m\n\u001b[0;31m    ---\u001b[0m\n\u001b[0m       ^\u001b[0m\n\u001b[0;31mSyntaxError\u001b[0m\u001b[0;31m:\u001b[0m invalid syntax\n"
     ]
    }
   ],
   "source": [
    "---"
   ]
  },
  {
   "cell_type": "code",
   "execution_count": null,
   "metadata": {},
   "outputs": [],
   "source": [
    "model = seq\n",
    "m_max=300\n",
    "\n",
    "X_test=test[-n_step:,:,:]\n",
    "X_test=X_test.reshape((1,12, rs, rs, 1))\n",
    "y_test=cimdata[-n_step:,:,:]\n",
    "print(X_test.shape)\n",
    "print(y_test.shape)\n",
    "\n",
    "#prediction\n",
    "pred =model.predict(X_test)\n",
    "pred*=m_max ###########inverse scailing\n",
    "print(pred.shape)\n",
    "pred=pred.reshape(n_step,rs,rs)\n",
    "\n",
    "real_vv=[]\n",
    "pre_vv=[]\n",
    "for t in range(n_step):\n",
    "    tmp=y_test[t].reshape((rs,rs))\n",
    "    xx=np.argwhere(False==np.isnan(tmp))[:,0]\n",
    "    yy=np.argwhere(False==np.isnan(tmp))[:,1]\n",
    "    real_vv.append(tmp[xx,yy])\n",
    "    pre_vv.append(pred[t,xx,yy])\n",
    "\n",
    "real_vv=np.array(real_vv)\n",
    "pre_vv=np.array(pre_vv)\n",
    "print(real_vv.shape)\n",
    "print(pre_vv.shape)\n",
    "\n",
    "for i in range(12):\n",
    "    rmse=np.sqrt(mean_squared_error(real_vv[i],pre_vv[i]))\n",
    "    print(i+1,\" : \",'Test RMSE: %.3f'%rmse)"
   ]
  },
  {
   "cell_type": "code",
   "execution_count": null,
   "metadata": {},
   "outputs": [],
   "source": [
    "image10.shape"
   ]
  },
  {
   "cell_type": "code",
   "execution_count": null,
   "metadata": {},
   "outputs": [],
   "source": [
    "n = image10.shape[0]\n",
    "rs = 32\n",
    "n_step = 14\n",
    "\n",
    "n_test = n_step * 2\n",
    "n_train = n - n_test\n",
    "\n",
    "train = image10[:n_train,:,:]\n",
    "test = image10[n_train:,:,:]\n",
    "\n",
    "print(train.shape)\n",
    "print(test.shape)"
   ]
  },
  {
   "cell_type": "code",
   "execution_count": null,
   "metadata": {},
   "outputs": [],
   "source": [
    "X_train = []\n",
    "y_train = []\n",
    "for i in range(n_step,n_train-n_step):\n",
    "    X_train.append(train[i-n_step:i, :,:])\n",
    "    y_train.append(train[i:i+n_step, :,:])\n",
    "X_train, y_train = np.array(X_train), np.array(y_train)\n",
    "\n",
    "print(X_train.shape)\n",
    "print(y_train.shape)"
   ]
  },
  {
   "cell_type": "code",
   "execution_count": null,
   "metadata": {},
   "outputs": [],
   "source": [
    "channel = image10.shape[3]"
   ]
  },
  {
   "cell_type": "code",
   "execution_count": null,
   "metadata": {},
   "outputs": [],
   "source": [
    "seq = get_model(0, channel)"
   ]
  },
  {
   "cell_type": "code",
   "execution_count": null,
   "metadata": {},
   "outputs": [],
   "source": [
    "seq.fit(X_train, y_train, epochs = 50, batch_size = 32)"
   ]
  },
  {
   "cell_type": "code",
   "execution_count": null,
   "metadata": {},
   "outputs": [],
   "source": [
    "seq.save('seq_image10.h5')"
   ]
  },
  {
   "cell_type": "markdown",
   "metadata": {},
   "source": [
    "#### Result"
   ]
  },
  {
   "cell_type": "code",
   "execution_count": null,
   "metadata": {},
   "outputs": [],
   "source": [
    "model = seq\n",
    "m_max=300\n",
    "\n",
    "X_test=test[-n_step:,:,:]\n",
    "X_test=X_test.reshape((1, 14, rs, rs, channel))\n",
    "# y_test=cimdata[-n_step:,:,:]\n",
    "print(X_test.shape)\n",
    "# print(y_test.shape)\n",
    "\n",
    "#prediction\n",
    "pred =model.predict(X_test)\n",
    "pred*=m_max ###########inverse scailing\n",
    "print(pred.shape)\n",
    "pred=pred.reshape(n_step, rs, rs, channel)\n",
    "\n",
    "real_vv=[]\n",
    "pre_vv=[]\n",
    "for t in range(n_step):\n",
    "    tmp=y_test[t].reshape((rs, rs, channel))\n",
    "    xx=np.argwhere(False==np.isnan(tmp))[:,0]\n",
    "    yy=np.argwhere(False==np.isnan(tmp))[:,1]\n",
    "    real_vv.append(tmp[xx,yy])\n",
    "    pre_vv.append(pred[t,xx,yy])\n",
    "\n",
    "real_vv=np.array(real_vv)\n",
    "pre_vv=np.array(pre_vv)\n",
    "print(real_vv.shape)\n",
    "print(pre_vv.shape)\n",
    "\n",
    "for i in range(12):\n",
    "    rmse=np.sqrt(mean_squared_error(real_vv[i],pre_vv[i]))\n",
    "    print(i+1,\" : \",'Test RMSE: %.3f'%rmse)"
   ]
  },
  {
   "cell_type": "code",
   "execution_count": null,
   "metadata": {},
   "outputs": [],
   "source": [
    "train=train.reshape((train.shape[0],n_step,rs,rs,45))\n",
    "print(train.shape)\n",
    "test=test.reshape((test.shape[0],rs,rs,1))\n",
    "print(test.shape)"
   ]
  },
  {
   "cell_type": "code",
   "execution_count": null,
   "metadata": {},
   "outputs": [],
   "source": [
    "---\n",
    "# (n_frames, width, height, channels) and returns a movie"
   ]
  },
  {
   "cell_type": "markdown",
   "metadata": {},
   "source": [
    "(17484, 12, 50, 50)\n",
    "(17484, 1, 50, 50)\n",
    "\n",
    "(17484, 12, 50, 50, 1)\n",
    "(17484, 50, 50, 1)"
   ]
  },
  {
   "cell_type": "code",
   "execution_count": null,
   "metadata": {},
   "outputs": [],
   "source": [
    "X_train=X_train.reshape((X_train.shape[0],14,256,256,45))\n",
    "print(X_train.shape)\n",
    "y_train=y_train3.reshape((y_train.shape[0],256,256,45))\n",
    "print(y_train.shape)"
   ]
  },
  {
   "cell_type": "code",
   "execution_count": null,
   "metadata": {},
   "outputs": [],
   "source": [
    "seq = get_model(0, image1.shape[2])"
   ]
  },
  {
   "cell_type": "code",
   "execution_count": null,
   "metadata": {},
   "outputs": [],
   "source": [
    "seq.summary()"
   ]
  },
  {
   "cell_type": "code",
   "execution_count": null,
   "metadata": {},
   "outputs": [],
   "source": [
    "history = seq.fit(noisy_movies[:1000], shifted_movies[:1000], batch_size=10,\n",
    "        epochs=50, validation_split=0.05)"
   ]
  },
  {
   "cell_type": "code",
   "execution_count": null,
   "metadata": {},
   "outputs": [],
   "source": [
    "model_dir = './model'\n",
    "if not os.path.exists(model_dir):\n",
    "    os.mkdir(model_dir)\n",
    "\n",
    "model_path = model_dir + '/covid%d.h5' % number\n",
    "seq.save(model_path)"
   ]
  },
  {
   "cell_type": "code",
   "execution_count": null,
   "metadata": {},
   "outputs": [],
   "source": [
    "print(\"정확도 : %.4f\" % (model.evaluate()[1]))\n",
    "print(\"손실 : %.4f\" % (model.evaluate()[0]))"
   ]
  }
 ],
 "metadata": {
  "kernelspec": {
   "display_name": "Python 3",
   "language": "python",
   "name": "python3"
  },
  "language_info": {
   "codemirror_mode": {
    "name": "ipython",
    "version": 3
   },
   "file_extension": ".py",
   "mimetype": "text/x-python",
   "name": "python",
   "nbconvert_exporter": "python",
   "pygments_lexer": "ipython3",
   "version": "3.6.10"
  }
 },
 "nbformat": 4,
 "nbformat_minor": 4
}
