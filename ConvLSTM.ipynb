{
 "cells": [
  {
   "cell_type": "markdown",
   "metadata": {},
   "source": [
    "1. 일단 데이터를 날짜별로 자른다.\n",
    "2. 모든 피처를 다 만드는 경우\n",
    "  1) 나이대 10개\n",
    "  2) 성별 2개\n",
    "  3) 감염 원인 11개\n",
    "  4) 방문 요일 7개\n",
    "     총 30개 배열"
   ]
  },
  {
   "cell_type": "code",
   "execution_count": 1,
   "metadata": {},
   "outputs": [],
   "source": [
    "import pandas as pd\n",
    "import scipy.stats as st\n",
    "from datetime import datetime\n",
    "from datetime import timedelta\n",
    "import math\n",
    "import numpy as np\n",
    "from PIL import Image\n",
    "from scipy import stats"
   ]
  },
  {
   "cell_type": "markdown",
   "metadata": {},
   "source": [
    "### 1. 루트 생성"
   ]
  },
  {
   "cell_type": "code",
   "execution_count": 2,
   "metadata": {},
   "outputs": [],
   "source": [
    "patient_route = pd.read_csv('covid19/PatientRoute.csv')\n",
    "patient_info = pd.read_csv('covid19/PatientInfo.csv')\n",
    "patient_info = patient_info[[\"patient_id\",\"global_num\",\"sex\",\"age\",\"infection_case\"]]"
   ]
  },
  {
   "cell_type": "code",
   "execution_count": 3,
   "metadata": {},
   "outputs": [],
   "source": [
    "merge_route = pd.merge(patient_info, patient_route)\n",
    "merge_route = merge_route[merge_route[\"province\"]==\"Seoul\"]\n",
    "merge_route = merge_route[pd.notnull(merge_route['sex'])]\n",
    "merge_route = merge_route[pd.notnull(merge_route['age'])]"
   ]
  },
  {
   "cell_type": "markdown",
   "metadata": {},
   "source": [
    "### 2. 감염 원인 처리"
   ]
  },
  {
   "cell_type": "code",
   "execution_count": 4,
   "metadata": {},
   "outputs": [],
   "source": [
    "causes = merge_route['infection_case']\n",
    "causes = causes.drop_duplicates(keep='last')\n",
    "causes = causes.dropna()\n",
    "causes = causes.tolist()\n",
    "\n",
    "causes_stay = [\"contact with patient\", \"overseas inflow\", \"etc\"]\n",
    "for i, cause in enumerate(causes):\n",
    "    if cause in causes_stay:\n",
    "        continue\n",
    "    causes[i] = \"community infection\"\n",
    "    \n",
    "causes = list(dict.fromkeys(causes))"
   ]
  },
  {
   "cell_type": "markdown",
   "metadata": {},
   "source": [
    "### 3. 클래스"
   ]
  },
  {
   "cell_type": "code",
   "execution_count": 5,
   "metadata": {},
   "outputs": [],
   "source": [
    "class GridMap:\n",
    "    Re = 6371.00877  ##  지도반경\n",
    "    grid = 0.16  ##  격자간격 (km)\n",
    "    slat1 = 30.0  ##  표준위도 1\n",
    "    slat2 = 60.0  ##  표준위도 2\n",
    "    olon = 127.0175205  ##  기준점 경도\n",
    "    olat = 37.523124  ##  기준점 위도\n",
    "    xo = 18.4 / grid #  기준점 X좌표\n",
    "    yo = 21.6 / grid  ##  기준점 Y좌표\n",
    "    row = 256\n",
    "    column = 256\n",
    "    seoul_start_lat = 37.698098\n",
    "    seoul_start_lon = 126.799791\n",
    "    seoul_end_lat = 37.34815\n",
    "    seoul_end_lon = 127.23525\n",
    "\n",
    "    def __init__(self):\n",
    "        self.PI = math.asin(1.0) * 2.0\n",
    "        self.DEGRAD = self.PI / 180.0\n",
    "        self.RADDEG = 180.0 / self.PI\n",
    "\n",
    "        self.re = self.Re / self.grid\n",
    "        self.slat1 = self.slat1 * self.DEGRAD\n",
    "        self.slat2 = self.slat2 * self.DEGRAD\n",
    "        self.olon = self.olon * self.DEGRAD\n",
    "        self.olat = self.olat * self.DEGRAD\n",
    "\n",
    "        self.sn = math.tan(self.PI * 0.25 + self.slat2 * 0.5) / \\\n",
    "                  math.tan(self.PI * 0.25 + self.slat1 * 0.5)\n",
    "        self.sn = math.log(math.cos(self.slat1) /\n",
    "                           math.cos(self.slat2)) / math.log(self.sn)\n",
    "        self.sf = math.tan(self.PI * 0.25 + self.slat1 * 0.5)\n",
    "        self.sf = math.pow(self.sf, self.sn) * math.cos(self.slat1) / self.sn\n",
    "        self.ro = math.tan(self.PI * 0.25 + self.olat * 0.5)\n",
    "        self.ro = self.re * self.sf / math.pow(self.ro, self.sn)\n",
    "\n",
    "    def toGrid(self, lat, lon):\n",
    "        ra = math.tan(self.PI * 0.25 + lat * self.DEGRAD * 0.5)\n",
    "        ra = self.re * self.sf / pow(ra, self.sn)\n",
    "        theta = lon * self.DEGRAD - self.olon\n",
    "        if theta > self.PI:\n",
    "            theta -= 2.0 * self.PI\n",
    "        if theta < self.PI * -1:\n",
    "            theta += 2.0 * self.PI\n",
    "        theta *= self.sn\n",
    "        x = (ra * math.sin(theta)) + self.xo\n",
    "        y = (self.ro - ra * math.cos(theta)) + self.yo\n",
    "        x = int(x + 1.5)\n",
    "        # y = int(y + 1.5)\n",
    "        y = (int(y + 1.5) - 255) * -1\n",
    "        return x, y\n",
    "\n",
    "    def toCoordinate(self, x, y):\n",
    "        x = x - 1\n",
    "        y = y - 1\n",
    "        xn = x - self.xo\n",
    "        yn = self.ro - y + self.yo\n",
    "        ra = math.sqrt(xn * xn + yn * yn)\n",
    "        if self.sn < 0.0:\n",
    "            ra = -ra\n",
    "        alat = math.pow((self.re * self.sf / ra), (1.0 / self.sn))\n",
    "        alat = 2.0 * math.atan(alat) - self.PI * 0.5\n",
    "        if math.fabs(xn) <= 0.0:\n",
    "            theta = 0.0\n",
    "        else:\n",
    "            if math.fabs(yn) <= 0.0:\n",
    "                theta = self.PI * 0.5\n",
    "                if xn < 0.0:\n",
    "                    theta = -theta\n",
    "            else:\n",
    "                theta = math.atan2(xn, yn)\n",
    "        alon = theta / self.sn + self.olon\n",
    "        lat = alat * self.RADDEG\n",
    "        lon = alon * self.RADDEG\n",
    "        return lat, lon\n",
    "\n",
    "    def isSeoul(self, lat, lon):\n",
    "        if self.seoul_end_lat > lat or lat > self.seoul_start_lat:\n",
    "            return False\n",
    "        if self.seoul_end_lon < lon or lon < self.seoul_start_lon:\n",
    "            return False\n",
    "        return True\n",
    "\n",
    "    def generateMap(self, raw_data):\n",
    "        gridx, gridy = [], []\n",
    "        for idx, data in raw_data.iterrows():\n",
    "            try:\n",
    "                float(data.latitude)\n",
    "            except ValueError:\n",
    "                continue\n",
    "            if self.isSeoul(data.latitude, data.longitude):\n",
    "                x, y = self.toGrid(data.latitude, data.longitude)\n",
    "                gridx.append(x), gridy.append(y)\n",
    "\n",
    "        df = pd.DataFrame({'gridx': gridx, 'gridy': gridy})\n",
    "\n",
    "        grid_array = np.zeros((self.row, self.column))\n",
    "        for idx, data in df.iterrows():\n",
    "            try:\n",
    "                grid_array[data.gridy, data.gridx] += 1\n",
    "            except:\n",
    "                pass\n",
    "\n",
    "        return grid_array"
   ]
  },
  {
   "cell_type": "code",
   "execution_count": 6,
   "metadata": {},
   "outputs": [],
   "source": [
    "class Feature:\n",
    "    def __init__(self, names, counts, move_types):\n",
    "        self.names = names\n",
    "        self.counts = counts\n",
    "        self.move_types = move_types\n",
    "        self.clear(95)\n",
    "        \n",
    "    def clear(self, route_dates):\n",
    "        self.features = []\n",
    "        all_count = sum(count for count in self.counts)\n",
    "        self.tensor = np.zeros((route_dates, 256, 256, all_count), dtype=np.float)\n",
    "        for i in range(all_count):\n",
    "            arr = np.zeros((256, 256))\n",
    "            self.features.append(arr)\n",
    "            \n",
    "    def age_category(self, ages):\n",
    "        categories = []\n",
    "        for age in ages:\n",
    "            age = int(age[:-1])\n",
    "            if age == 0: category = 0\n",
    "            elif age == 100: category = 10\n",
    "            else: category = age // 10\n",
    "            categories.append(category)\n",
    "        return categories\n",
    "            \n",
    "    def sex_category(self, sexes):\n",
    "        categories = []\n",
    "        for sex in sexes:\n",
    "            if sex == 'male': categories.append(0)\n",
    "            else: categories.append(1)\n",
    "        return categories\n",
    "        \n",
    "    def infection_case_category(self, infection_cases):\n",
    "        categories = []\n",
    "        for infection_case in infection_cases:\n",
    "            if infection_case not in causes:\n",
    "                infection_case = \"community infection\"\n",
    "            category = causes.index(infection_case)\n",
    "            categories.append(category)\n",
    "        return categories\n",
    "    \n",
    "    def type_category(self, types):\n",
    "        categories = []\n",
    "        for purpose in types:\n",
    "            category = move_types.index(purpose)\n",
    "            categories.append(category)\n",
    "        return categories\n",
    "    \n",
    "    def day_category(self, days):\n",
    "        categories = []\n",
    "        for day in days:\n",
    "            day = datetime.strptime(day, \"%Y-%m-%d\")\n",
    "            category = day.weekday()\n",
    "            categories.append(category)\n",
    "        return categories\n",
    "    \n",
    "    def put_all_categories(self, order, ages, sexes, infection_cases, types, days, lats, lons):\n",
    "        converter = GridMap()\n",
    "        length = len(ages)\n",
    "        \n",
    "        ages_categories = self.age_category(ages)\n",
    "        sexes_categories = self.sex_category(sexes)\n",
    "        infection_case_categories = self.infection_case_category(infection_cases)\n",
    "        type_categories = self.type_category(types)\n",
    "        days_categories = self.day_category(days)\n",
    "        \n",
    "        # age_categories = 3이라고 했을 때\n",
    "        # 전체 feature 배열에서 index가 3인 배열에 넣으면 됨\n",
    "        for i in range(length):\n",
    "            x, y = converter.toGrid(lats[i], lons[i])\n",
    "            index = 0\n",
    "            # age\n",
    "            age = ages_categories[i]\n",
    "            self.tensor[order][x][y][age] += 1\n",
    "            self.features[age][x][y] += 1\n",
    "            index += self.counts[0]\n",
    "            # sex\n",
    "            if sexes_categories[i] != -1:\n",
    "                sex = index + sexes_categories[i]\n",
    "                self.tensor[order][x][y][sex] += 1\n",
    "                self.features[sex][x][y] += 1\n",
    "                index += self.counts[1]\n",
    "            # infection_case\n",
    "            if infection_case_categories[i] != -1:\n",
    "                infection_case = index + infection_case_categories[i]\n",
    "                self.tensor[order][x][y][infection_case] += 1\n",
    "                self.features[infection_case][x][y] += 1\n",
    "                index += self.counts[2]\n",
    "            # type\n",
    "            visit = index + type_categories[i]\n",
    "            self.tensor[order][x][y][visit] += 1\n",
    "            self.features[visit][x][y] += 1\n",
    "            index += self.counts[3]\n",
    "            # day\n",
    "            day = index + days_categories[i]\n",
    "            self.tensor[order][x][y][day] += 1\n",
    "            self.features[day][x][y] += 1"
   ]
  },
  {
   "cell_type": "markdown",
   "metadata": {},
   "source": [
    "### 4. 메서드, date 변수"
   ]
  },
  {
   "cell_type": "code",
   "execution_count": 7,
   "metadata": {},
   "outputs": [],
   "source": [
    "def generate_images(feature_class, merge_route):\n",
    "    feature_class.clear(len(route_dates))\n",
    "    images = []\n",
    "\n",
    "    for i in range(84):\n",
    "        routes = merge_route.loc[merge_route['date'] == route_dates[i]]\n",
    "\n",
    "        # features in routes\n",
    "        ages = routes['age'].tolist()\n",
    "        sexes = routes['sex'].tolist()\n",
    "        infection_cases = routes['infection_case'].tolist()\n",
    "        types = routes['type'].tolist()\n",
    "        dates = routes['date'].tolist()\n",
    "        lats = routes['latitude'].tolist()\n",
    "        lons = routes['longitude'].tolist()\n",
    "\n",
    "        # features\n",
    "        feature_class.put_all_categories(i, ages, sexes, infection_cases, types, dates, lats, lons)\n",
    "#         images.append(feature_class.features)\n",
    "        \n",
    "    return feature_class.tensor"
   ]
  },
  {
   "cell_type": "code",
   "execution_count": 8,
   "metadata": {},
   "outputs": [],
   "source": [
    "route_dates = merge_route['date']\n",
    "route_dates = route_dates.drop_duplicates(keep='last')\n",
    "route_dates = route_dates.tolist()"
   ]
  },
  {
   "cell_type": "markdown",
   "metadata": {},
   "source": [
    "### 5. 피처에 값 대입\n",
    "##### 방문목적지별 방문 개수\n",
    "- hospital(970)\n",
    "- etc(648)\n",
    "- public transportation(259)\n",
    "- store(217)\n",
    "- restuarant(203)\n",
    "- pharmacy(75)\n",
    "- church(64)\n",
    "- cafe(45)\n",
    "- airport(28)\n",
    "- pc_cafe(24)\n",
    "- lodging(24)\n",
    "- real_estate_agency(16)\n",
    "- bank(11)\n",
    "- school(11)\n",
    "- bar(9)\n",
    "- beuty_salon(6)\n",
    "- post_office(5)\n",
    "- bakery(6)\n",
    "- gym(3)\n",
    "- gas_station(3)\n",
    "- karaoke(2)\n",
    "\n",
    "##### 피처 병합 계획\n",
    "- move types의 수를 줄인다.\n",
    "  - store(217)로 분류될 수 있는 속성들은 store로 대체한다.\n",
    "    - bakery(6), pharmacy(75) → store\n",
    "  - restaurant로 분류될 수 있는 속성들은 restuarant(203)로 대체한다.\n",
    "    - cafe(45), bar(9)\n",
    "  - 실내 인구 밀집도가 높은 지역은 'high_population'으로 대체한다.\n",
    "    - karaoke(2), gym(3), pc_cafe(24), church(64)\n",
    "  - 통계적으로 다른 방문지보다 방문 횟수가 적은 곳은 'etc'로 대체한다.\n",
    "    - gas_station(3), beuty_salon(6), school(11), real_estate_agency(16), airport(28), bank(11), post_office(5)\n",
    "  - 남은 것\n",
    "    - lodging(24), public transportation(259), etc(648), hospital(970), store"
   ]
  },
  {
   "cell_type": "markdown",
   "metadata": {},
   "source": [
    "### 5. 피처에 값 대입(1)"
   ]
  },
  {
   "cell_type": "markdown",
   "metadata": {},
   "source": [
    "모든 categorical values를 1개의 피처로 반영"
   ]
  },
  {
   "cell_type": "code",
   "execution_count": 9,
   "metadata": {},
   "outputs": [],
   "source": [
    "names = ['age', 'sex', 'infection_case', 'type', 'date']\n",
    "counts = [11, 2, 4, 21, 7]\n",
    "move_types = ['karaoke', 'gas_station', 'gym', 'bakery', 'pc_cafe',\n",
    "              'beauty_salon', 'school', 'church', 'bank', 'cafe',\n",
    "              'bar', 'post_office', 'real_estate_agency', 'lodging',\n",
    "              'public_transportation', 'restaurant', 'etc', 'store',\n",
    "              'hospital', 'pharmacy', 'airport']"
   ]
  },
  {
   "cell_type": "code",
   "execution_count": 10,
   "metadata": {},
   "outputs": [],
   "source": [
    "feature = Feature(names, counts, move_types)\n",
    "image1 = generate_images(feature, merge_route)"
   ]
  },
  {
   "cell_type": "markdown",
   "metadata": {},
   "source": [
    "```\n",
    "images1 = []\n",
    "\n",
    "for i in range(len(route_dates)):\n",
    "    routes = merge_route.loc[merge_route['date'] == route_dates[i]]\n",
    "    \n",
    "    # features in routes\n",
    "    ages = routes['age'].tolist()\n",
    "    sexes = routes['sex'].tolist()\n",
    "    infection_cases = routes['infection_case'].tolist()\n",
    "    types = routes['type'].tolist()\n",
    "    dates = routes['date'].tolist()\n",
    "    lats = routes['latitude'].tolist()\n",
    "    lons = routes['longitude'].tolist()\n",
    "    \n",
    "    # features\n",
    "    feature = Feature(names, counts, move_types)\n",
    "    feature.put_all_categories(ages, sexes, infection_cases, types, dates, lats, lons)\n",
    "    images1.append(feature)\n",
    "```"
   ]
  },
  {
   "cell_type": "markdown",
   "metadata": {},
   "source": [
    "### 5. 피처에 값 대입(2)"
   ]
  },
  {
   "cell_type": "markdown",
   "metadata": {},
   "source": [
    "방문 목적이 비슷한 항몪끼리 묶는다.\n",
    "- store(217)로 분류될 수 있는 속성들은 store로 대체한다.\n",
    "    - bakery(6), pharmacy(75) → store\n",
    "    - 5월 12일까지 약국에서 일어난 2차 감염 사례가 보고되지 않았기 때문에 약국도 store로 분류"
   ]
  },
  {
   "cell_type": "code",
   "execution_count": 11,
   "metadata": {},
   "outputs": [],
   "source": [
    "names = ['age', 'sex', 'infection_case', 'type', 'date']\n",
    "counts = [11, 2, 4, 19, 7]\n",
    "move_types = ['karaoke', 'gas_station', 'gym', 'pc_cafe',\n",
    "              'beauty_salon', 'school', 'church', 'bank', 'cafe',\n",
    "              'bar', 'post_office', 'real_estate_agency', 'lodging',\n",
    "              'public_transportation', 'restaurant', 'etc', 'store',\n",
    "              'hospital', 'airport']"
   ]
  },
  {
   "cell_type": "code",
   "execution_count": 12,
   "metadata": {},
   "outputs": [],
   "source": [
    "second_route = merge_route\n",
    "second_route['type'].replace({'bakery': 'store', 'pharmacy': 'store'}, inplace=True)"
   ]
  },
  {
   "cell_type": "code",
   "execution_count": 13,
   "metadata": {},
   "outputs": [],
   "source": [
    "image2 = generate_images(feature, second_route)"
   ]
  },
  {
   "cell_type": "markdown",
   "metadata": {},
   "source": [
    "### 5. 피처에 값 대입(3)"
   ]
  },
  {
   "cell_type": "markdown",
   "metadata": {},
   "source": [
    "방문 목적이 비슷한 항몪끼리 묶는다.\n",
    "- restaurant로 분류될 수 있는 속성들은 restuarant(203)로 대체한다.\n",
    "  - cafe(45), bar(9)"
   ]
  },
  {
   "cell_type": "code",
   "execution_count": 14,
   "metadata": {},
   "outputs": [],
   "source": [
    "names = ['age', 'sex', 'infection_case', 'type', 'date']\n",
    "counts = [11, 2, 4, 17, 7]\n",
    "move_types = ['karaoke', 'gas_station', 'gym', 'pc_cafe',\n",
    "              'beauty_salon', 'school', 'church', 'bank',\n",
    "              'post_office', 'real_estate_agency', 'lodging',\n",
    "              'public_transportation', 'restaurant', 'etc', 'store',\n",
    "              'hospital', 'airport']"
   ]
  },
  {
   "cell_type": "code",
   "execution_count": 15,
   "metadata": {},
   "outputs": [],
   "source": [
    "third_route = second_route\n",
    "third_route['type'].replace({'cafe': 'restaurant', 'bar': 'restaurant'}, inplace=True)"
   ]
  },
  {
   "cell_type": "code",
   "execution_count": 16,
   "metadata": {},
   "outputs": [],
   "source": [
    "image3 = generate_images(feature, third_route)"
   ]
  },
  {
   "cell_type": "markdown",
   "metadata": {},
   "source": [
    "### 5. 피처에 값 대입(4)"
   ]
  },
  {
   "cell_type": "markdown",
   "metadata": {},
   "source": [
    "실내 환경이 비슷한 항몪끼리 묶는다.\n",
    "- 실내 인구 밀집도가 높고 폐쇄된 지역은 'high_population'으로 대체한다.\n",
    "  - karaoke(2), gym(3), pc_cafe(24), church(64)"
   ]
  },
  {
   "cell_type": "code",
   "execution_count": 17,
   "metadata": {},
   "outputs": [],
   "source": [
    "names = ['age', 'sex', 'infection_case', 'type', 'date']\n",
    "counts = [11, 2, 4, 14, 7]\n",
    "move_types = ['gas_station', 'high_population',\n",
    "              'beauty_salon', 'school', 'bank',\n",
    "              'post_office', 'real_estate_agency', 'lodging',\n",
    "              'public_transportation', 'restaurant', 'etc', 'store',\n",
    "              'hospital', 'airport']"
   ]
  },
  {
   "cell_type": "code",
   "execution_count": 18,
   "metadata": {},
   "outputs": [],
   "source": [
    "forth_route = third_route\n",
    "forth_route['type'].replace({'karaoke': 'high_population', 'gym': 'restaurant', 'pc_cafe': 'high_population', 'church': 'high_population'}, inplace=True)"
   ]
  },
  {
   "cell_type": "code",
   "execution_count": 19,
   "metadata": {},
   "outputs": [],
   "source": [
    "image4 = generate_images(feature, forth_route)"
   ]
  },
  {
   "cell_type": "markdown",
   "metadata": {},
   "source": [
    "### 5. 피처에 값 대입(5)"
   ]
  },
  {
   "cell_type": "markdown",
   "metadata": {},
   "source": [
    "- 통계적으로 다른 방문지보다 방문 횟수가 적은 곳은 'etc'로 대체한다.\n",
    "  - gas_station(3), beuty_salon(6), school(11), real_estate_agency(16), airport(28), bank(11), post_office(5)"
   ]
  },
  {
   "cell_type": "code",
   "execution_count": 20,
   "metadata": {},
   "outputs": [],
   "source": [
    "names = ['age', 'sex', 'infection_case', 'type', 'date']\n",
    "counts = [11, 2, 4, 7, 7]\n",
    "move_types = ['high_population', 'lodging', 'hospital', 'etc',\n",
    "              'public_transportation', 'restaurant', 'store']"
   ]
  },
  {
   "cell_type": "code",
   "execution_count": 21,
   "metadata": {},
   "outputs": [],
   "source": [
    "fifth_route = forth_route\n",
    "fifth_route['type'].replace({'gas_station': 'etc', 'beauty_salon': 'etc', 'school': 'etc', 'real_estate_agency': 'etc', 'airport': 'etc', 'bank': 'etc', 'post_office': 'etc'}, inplace=True)"
   ]
  },
  {
   "cell_type": "code",
   "execution_count": 22,
   "metadata": {},
   "outputs": [],
   "source": [
    "image5 = generate_images(feature, fifth_route)"
   ]
  },
  {
   "cell_type": "markdown",
   "metadata": {},
   "source": [
    "### 5. 피처에 값 대입(6)"
   ]
  },
  {
   "cell_type": "markdown",
   "metadata": {},
   "source": [
    "date에서 평일끼리 묶고, 주말끼리 묶는다."
   ]
  },
  {
   "cell_type": "code",
   "execution_count": 23,
   "metadata": {},
   "outputs": [],
   "source": [
    "names = ['age', 'sex', 'infection_case', 'type', 'date']\n",
    "counts = [11, 2, 4, 7, 2]\n",
    "move_types = ['high_population', 'lodging', 'hospital', 'etc',\n",
    "              'public_transportation', 'restaurant', 'store']"
   ]
  },
  {
   "cell_type": "code",
   "execution_count": 24,
   "metadata": {},
   "outputs": [],
   "source": [
    "sixth_route = fifth_route\n",
    "\n",
    "class Feature2(Feature):\n",
    "    def day_category(self, days):\n",
    "        categories = []\n",
    "        for day in days:\n",
    "            day = datetime.strptime(day, \"%Y-%m-%d\")\n",
    "            category = day.weekday()\n",
    "            if category == 0 or category == 6: category = 0\n",
    "            else: category = 1\n",
    "            categories.append(category)\n",
    "        return categories"
   ]
  },
  {
   "cell_type": "code",
   "execution_count": 25,
   "metadata": {},
   "outputs": [],
   "source": [
    "feature2 = Feature2(names, counts, move_types)\n",
    "image6 = generate_images(feature2, sixth_route)"
   ]
  },
  {
   "cell_type": "markdown",
   "metadata": {},
   "source": [
    "### 5. 피처에 값 대입(7)"
   ]
  },
  {
   "cell_type": "markdown",
   "metadata": {},
   "source": [
    "성별 피처를 삭제한다."
   ]
  },
  {
   "cell_type": "code",
   "execution_count": 26,
   "metadata": {},
   "outputs": [],
   "source": [
    "names = ['age', 'sex', 'infection_case', 'type', 'date']\n",
    "counts = [11, 0, 4, 7, 7]\n",
    "move_types = ['high_population', 'lodging', 'hospital', 'etc',\n",
    "              'public_transportation', 'restaurant', 'store']"
   ]
  },
  {
   "cell_type": "code",
   "execution_count": 27,
   "metadata": {},
   "outputs": [],
   "source": [
    "seventh_route = fifth_route\n",
    "\n",
    "class Feature3(Feature):\n",
    "    def sex_category(self, sexes):\n",
    "        categories = []\n",
    "        for sex in sexes:\n",
    "            categories.append(-1)\n",
    "        return categories"
   ]
  },
  {
   "cell_type": "code",
   "execution_count": 28,
   "metadata": {},
   "outputs": [],
   "source": [
    "feature3 = Feature3(names, counts, move_types)\n",
    "image7 = generate_images(feature3, seventh_route)"
   ]
  },
  {
   "cell_type": "markdown",
   "metadata": {},
   "source": [
    "### 5. 피처에 값 대입(8)"
   ]
  },
  {
   "cell_type": "markdown",
   "metadata": {},
   "source": [
    "나이대를 통합한다.\n",
    "- 0s, 10s\n",
    "- 20s, 30s\n",
    "- 40s, 50s,\n",
    "- 60s, 70s,\n",
    "- 80s, 90s, 100s"
   ]
  },
  {
   "cell_type": "code",
   "execution_count": 29,
   "metadata": {},
   "outputs": [],
   "source": [
    "names = ['age', 'sex', 'infection_case', 'type', 'date']\n",
    "counts = [5, 2, 4, 7, 7]\n",
    "move_types = ['high_population', 'lodging', 'hospital', 'etc',\n",
    "              'public_transportation', 'restaurant', 'store']"
   ]
  },
  {
   "cell_type": "code",
   "execution_count": 30,
   "metadata": {},
   "outputs": [],
   "source": [
    "eightth_route = fifth_route\n",
    "\n",
    "class Feature4(Feature):\n",
    "    def age_category(self, ages):\n",
    "        categories = []\n",
    "        for age in ages:\n",
    "            age = int(age[:-1])\n",
    "            if age == 0 or age == 10: category = 0\n",
    "            elif age == 20 or age == 30: category = 1\n",
    "            elif age == 40 or age == 50: category = 2\n",
    "            elif age == 70 or age == 70: category = 3\n",
    "            else: category = 4\n",
    "            categories.append(category)\n",
    "        return categories"
   ]
  },
  {
   "cell_type": "code",
   "execution_count": 31,
   "metadata": {},
   "outputs": [],
   "source": [
    "feature4 = Feature4(names, counts, move_types)\n",
    "image8 = generate_images(feature4, eightth_route)"
   ]
  },
  {
   "cell_type": "markdown",
   "metadata": {},
   "source": [
    "### 5. 피처에 값 대입(9)"
   ]
  },
  {
   "cell_type": "markdown",
   "metadata": {},
   "source": [
    "감염 원인 피처를 삭제한다."
   ]
  },
  {
   "cell_type": "code",
   "execution_count": 32,
   "metadata": {},
   "outputs": [],
   "source": [
    "names = ['age', 'sex', 'infection_case', 'type', 'date']\n",
    "counts = [5, 2, 0, 7, 7]\n",
    "move_types = ['high_population', 'lodging', 'hospital', 'etc',\n",
    "              'public_transportation', 'restaurant', 'store']"
   ]
  },
  {
   "cell_type": "code",
   "execution_count": 33,
   "metadata": {},
   "outputs": [],
   "source": [
    "nineth_route = fifth_route\n",
    "\n",
    "class Feature5(Feature):\n",
    "    def infection_case_category(self, infection_cases):\n",
    "        categories = []\n",
    "        for infection_case in infection_cases:\n",
    "            categories.append(-1)\n",
    "        return categories"
   ]
  },
  {
   "cell_type": "code",
   "execution_count": 34,
   "metadata": {},
   "outputs": [],
   "source": [
    "feature5 = Feature5(names, counts, move_types)\n",
    "image9 = generate_images(feature5, nineth_route)"
   ]
  },
  {
   "cell_type": "markdown",
   "metadata": {},
   "source": [
    "### 5. 피처에 값 대입(10)"
   ]
  },
  {
   "cell_type": "markdown",
   "metadata": {},
   "source": [
    "date에서 평일끼리 묶고, 주말끼리 묶는다.\n",
    "성별 피처를 삭제한다.\n",
    "나이대를 통합한다.\n",
    "감염 원인 피처를 삭제한다."
   ]
  },
  {
   "cell_type": "code",
   "execution_count": 35,
   "metadata": {},
   "outputs": [],
   "source": [
    "names = ['age', 'sex', 'infection_case', 'type', 'date']\n",
    "counts = [5, 0, 0, 7, 2]\n",
    "move_types = ['high_population', 'lodging', 'hospital', 'etc',\n",
    "              'public_transportation', 'restaurant', 'store']"
   ]
  },
  {
   "cell_type": "code",
   "execution_count": 36,
   "metadata": {},
   "outputs": [],
   "source": [
    "tenth_route = fifth_route\n",
    "\n",
    "class Feature6(Feature):\n",
    "    def day_category(self, days):\n",
    "        categories = []\n",
    "        for day in days:\n",
    "            day = datetime.strptime(day, \"%Y-%m-%d\")\n",
    "            category = day.weekday()\n",
    "            if category == 0 or category == 6: category = 0\n",
    "            else: category = 1\n",
    "            categories.append(category)\n",
    "        return categories\n",
    "    \n",
    "    def sex_category(self, sexes):\n",
    "        categories = []\n",
    "        for sex in sexes:\n",
    "            categories.append(-1)\n",
    "        return categories\n",
    "    \n",
    "    def age_category(self, ages):\n",
    "        categories = []\n",
    "        for age in ages:\n",
    "            age = int(age[:-1])\n",
    "            if age == 0 or age == 10: category = 0\n",
    "            elif age == 20 or age == 30: category = 1\n",
    "            elif age == 40 or age == 50: category = 2\n",
    "            elif age == 70 or age == 70: category = 3\n",
    "            else: category = 4\n",
    "            categories.append(category)\n",
    "        return categories\n",
    "    \n",
    "    def infection_case_category(self, infection_cases):\n",
    "        categories = []\n",
    "        for infection_case in infection_cases:\n",
    "            categories.append(-1)\n",
    "        return categories"
   ]
  },
  {
   "cell_type": "code",
   "execution_count": 37,
   "metadata": {},
   "outputs": [],
   "source": [
    "feature6 = Feature6(names, counts, move_types)\n",
    "image10 = generate_images(feature6, tenth_route)"
   ]
  },
  {
   "cell_type": "code",
   "execution_count": 38,
   "metadata": {},
   "outputs": [
    {
     "data": {
      "text/plain": [
       "(92, 256, 256, 14)"
      ]
     },
     "execution_count": 38,
     "metadata": {},
     "output_type": "execute_result"
    }
   ],
   "source": [
    "image10.shape"
   ]
  },
  {
   "cell_type": "markdown",
   "metadata": {},
   "source": [
    "### 6. ConvLSTM"
   ]
  },
  {
   "cell_type": "code",
   "execution_count": 39,
   "metadata": {},
   "outputs": [
    {
     "name": "stderr",
     "output_type": "stream",
     "text": [
      "Using TensorFlow backend.\n",
      "\n",
      "Bad key \"text.kerning_factor\" on line 4 in\n",
      "C:\\Users\\Yejin Kim\\anaconda3\\envs\\AutoCOVID19\\lib\\site-packages\\matplotlib\\mpl-data\\stylelib\\_classic_test_patch.mplstyle.\n",
      "You probably need to get an updated matplotlibrc file from\n",
      "https://github.com/matplotlib/matplotlib/blob/v3.1.3/matplotlibrc.template\n",
      "or from the matplotlib source distribution\n"
     ]
    }
   ],
   "source": [
    "from keras.models import Sequential\n",
    "from keras.layers.convolutional import Conv3D\n",
    "from keras.layers.convolutional_recurrent import ConvLSTM2D\n",
    "from keras.layers.normalization import BatchNormalization\n",
    "import keras.backend.tensorflow_backend as K\n",
    "import numpy as np\n",
    "import pylab as plt"
   ]
  },
  {
   "cell_type": "code",
   "execution_count": 46,
   "metadata": {},
   "outputs": [],
   "source": [
    "# We create a layer which take as input movies of shape\n",
    "# (n_frames, width, height, channels) and returns a movie\n",
    "# of identical shape.\n",
    "def get_model(number, channel):\n",
    "    with K.tf_ops.device('/device:GPU:0'):\n",
    "        seq = Sequential()\n",
    "        seq.add(ConvLSTM2D(filters=128, kernel_size=(3, 3),\n",
    "                           input_shape=(14, 256, 256, channel),\n",
    "                           padding='same', return_sequences=True))\n",
    "        seq.add(BatchNormalization())\n",
    "\n",
    "        seq.add(ConvLSTM2D(filters=128, kernel_size=(3, 3),\n",
    "                           padding='same', return_sequences=True))\n",
    "        seq.add(BatchNormalization())\n",
    "\n",
    "        seq.add(ConvLSTM2D(filters=128, kernel_size=(3, 3),\n",
    "                           padding='same', return_sequences=True))\n",
    "        seq.add(BatchNormalization())\n",
    "\n",
    "        seq.add(ConvLSTM2D(filters=128, kernel_size=(3, 3),\n",
    "                           padding='same', return_sequences=True))\n",
    "        seq.add(BatchNormalization())\n",
    "\n",
    "        seq.add(Conv3D(filters=channel, kernel_size=(3, 3, 3),\n",
    "                       activation='sigmoid',\n",
    "                       padding='same', data_format='channels_last'))\n",
    "\n",
    "        seq.compile(loss='binary_crossentropy', optimizer='adadelta')\n",
    "    return seq"
   ]
  },
  {
   "cell_type": "markdown",
   "metadata": {},
   "source": [
    "#### train/test"
   ]
  },
  {
   "cell_type": "code",
   "execution_count": 41,
   "metadata": {},
   "outputs": [
    {
     "data": {
      "text/plain": [
       "(92, 256, 256, 45)"
      ]
     },
     "execution_count": 41,
     "metadata": {},
     "output_type": "execute_result"
    }
   ],
   "source": [
    "image1.shape"
   ]
  },
  {
   "cell_type": "code",
   "execution_count": 42,
   "metadata": {},
   "outputs": [
    {
     "name": "stdout",
     "output_type": "stream",
     "text": [
      "(64, 256, 256, 45)\n",
      "(28, 256, 256, 45)\n"
     ]
    }
   ],
   "source": [
    "n = image1.shape[0]\n",
    "rs = 256\n",
    "n_step = 14\n",
    "\n",
    "n_test = n_step * 2\n",
    "n_train = n - n_test\n",
    "\n",
    "train = image1[:n_train,:,:]\n",
    "test = image1[n_train:,:,:]\n",
    "\n",
    "print(train.shape)\n",
    "print(test.shape)"
   ]
  },
  {
   "cell_type": "code",
   "execution_count": 43,
   "metadata": {},
   "outputs": [
    {
     "name": "stdout",
     "output_type": "stream",
     "text": [
      "(36, 14, 256, 256, 45)\n",
      "(36, 14, 256, 256, 45)\n"
     ]
    }
   ],
   "source": [
    "X_train = []\n",
    "y_train = []\n",
    "for i in range(n_step,n_train-n_step):\n",
    "    X_train.append(train[i-n_step:i, :,:])\n",
    "    y_train.append(train[i:i+n_step, :,:])\n",
    "X_train, y_train = np.array(X_train), np.array(y_train)\n",
    "\n",
    "print(X_train.shape)\n",
    "print(y_train.shape)"
   ]
  },
  {
   "cell_type": "code",
   "execution_count": 47,
   "metadata": {},
   "outputs": [],
   "source": [
    "seq = get_model(0, image1.shape[3])"
   ]
  },
  {
   "cell_type": "code",
   "execution_count": 48,
   "metadata": {},
   "outputs": [
    {
     "name": "stdout",
     "output_type": "stream",
     "text": [
      "Epoch 1/50\n"
     ]
    },
    {
     "ename": "MemoryError",
     "evalue": "Unable to allocate 9.84 GiB for an array with shape (32, 14, 256, 256, 45) and data type float64",
     "output_type": "error",
     "traceback": [
      "\u001b[1;31m---------------------------------------------------------------------------\u001b[0m",
      "\u001b[1;31mMemoryError\u001b[0m                               Traceback (most recent call last)",
      "\u001b[1;32m<ipython-input-48-5b7f339d3235>\u001b[0m in \u001b[0;36m<module>\u001b[1;34m\u001b[0m\n\u001b[1;32m----> 1\u001b[1;33m \u001b[0mseq\u001b[0m\u001b[1;33m.\u001b[0m\u001b[0mfit\u001b[0m\u001b[1;33m(\u001b[0m\u001b[0mX_train\u001b[0m\u001b[1;33m,\u001b[0m \u001b[0my_train\u001b[0m\u001b[1;33m,\u001b[0m \u001b[0mepochs\u001b[0m \u001b[1;33m=\u001b[0m \u001b[1;36m50\u001b[0m\u001b[1;33m,\u001b[0m \u001b[0mbatch_size\u001b[0m \u001b[1;33m=\u001b[0m \u001b[1;36m32\u001b[0m\u001b[1;33m)\u001b[0m\u001b[1;33m\u001b[0m\u001b[1;33m\u001b[0m\u001b[0m\n\u001b[0m",
      "\u001b[1;32m~\\anaconda3\\envs\\AutoCOVID19\\lib\\site-packages\\keras\\engine\\training.py\u001b[0m in \u001b[0;36mfit\u001b[1;34m(self, x, y, batch_size, epochs, verbose, callbacks, validation_split, validation_data, shuffle, class_weight, sample_weight, initial_epoch, steps_per_epoch, validation_steps, validation_freq, max_queue_size, workers, use_multiprocessing, **kwargs)\u001b[0m\n\u001b[0;32m   1237\u001b[0m                                         \u001b[0msteps_per_epoch\u001b[0m\u001b[1;33m=\u001b[0m\u001b[0msteps_per_epoch\u001b[0m\u001b[1;33m,\u001b[0m\u001b[1;33m\u001b[0m\u001b[1;33m\u001b[0m\u001b[0m\n\u001b[0;32m   1238\u001b[0m                                         \u001b[0mvalidation_steps\u001b[0m\u001b[1;33m=\u001b[0m\u001b[0mvalidation_steps\u001b[0m\u001b[1;33m,\u001b[0m\u001b[1;33m\u001b[0m\u001b[1;33m\u001b[0m\u001b[0m\n\u001b[1;32m-> 1239\u001b[1;33m                                         validation_freq=validation_freq)\n\u001b[0m\u001b[0;32m   1240\u001b[0m \u001b[1;33m\u001b[0m\u001b[0m\n\u001b[0;32m   1241\u001b[0m     def evaluate(self,\n",
      "\u001b[1;32m~\\anaconda3\\envs\\AutoCOVID19\\lib\\site-packages\\keras\\engine\\training_arrays.py\u001b[0m in \u001b[0;36mfit_loop\u001b[1;34m(model, fit_function, fit_inputs, out_labels, batch_size, epochs, verbose, callbacks, val_function, val_inputs, shuffle, initial_epoch, steps_per_epoch, validation_steps, validation_freq)\u001b[0m\n\u001b[0;32m    182\u001b[0m                         \u001b[1;31m# Do not slice the training phase flag.\u001b[0m\u001b[1;33m\u001b[0m\u001b[1;33m\u001b[0m\u001b[1;33m\u001b[0m\u001b[0m\n\u001b[0;32m    183\u001b[0m                         ins_batch = slice_arrays(\n\u001b[1;32m--> 184\u001b[1;33m                             fit_inputs[:-1], batch_ids) + [fit_inputs[-1]]\n\u001b[0m\u001b[0;32m    185\u001b[0m                     \u001b[1;32melse\u001b[0m\u001b[1;33m:\u001b[0m\u001b[1;33m\u001b[0m\u001b[1;33m\u001b[0m\u001b[0m\n\u001b[0;32m    186\u001b[0m                         \u001b[0mins_batch\u001b[0m \u001b[1;33m=\u001b[0m \u001b[0mslice_arrays\u001b[0m\u001b[1;33m(\u001b[0m\u001b[0mfit_inputs\u001b[0m\u001b[1;33m,\u001b[0m \u001b[0mbatch_ids\u001b[0m\u001b[1;33m)\u001b[0m\u001b[1;33m\u001b[0m\u001b[1;33m\u001b[0m\u001b[0m\n",
      "\u001b[1;32m~\\anaconda3\\envs\\AutoCOVID19\\lib\\site-packages\\keras\\utils\\generic_utils.py\u001b[0m in \u001b[0;36mslice_arrays\u001b[1;34m(arrays, start, stop)\u001b[0m\n\u001b[0;32m    553\u001b[0m             \u001b[1;32mif\u001b[0m \u001b[0mhasattr\u001b[0m\u001b[1;33m(\u001b[0m\u001b[0mstart\u001b[0m\u001b[1;33m,\u001b[0m \u001b[1;34m'shape'\u001b[0m\u001b[1;33m)\u001b[0m\u001b[1;33m:\u001b[0m\u001b[1;33m\u001b[0m\u001b[1;33m\u001b[0m\u001b[0m\n\u001b[0;32m    554\u001b[0m                 \u001b[0mstart\u001b[0m \u001b[1;33m=\u001b[0m \u001b[0mstart\u001b[0m\u001b[1;33m.\u001b[0m\u001b[0mtolist\u001b[0m\u001b[1;33m(\u001b[0m\u001b[1;33m)\u001b[0m\u001b[1;33m\u001b[0m\u001b[1;33m\u001b[0m\u001b[0m\n\u001b[1;32m--> 555\u001b[1;33m             \u001b[1;32mreturn\u001b[0m \u001b[1;33m[\u001b[0m\u001b[1;32mNone\u001b[0m \u001b[1;32mif\u001b[0m \u001b[0mx\u001b[0m \u001b[1;32mis\u001b[0m \u001b[1;32mNone\u001b[0m \u001b[1;32melse\u001b[0m \u001b[0mx\u001b[0m\u001b[1;33m[\u001b[0m\u001b[0mstart\u001b[0m\u001b[1;33m]\u001b[0m \u001b[1;32mfor\u001b[0m \u001b[0mx\u001b[0m \u001b[1;32min\u001b[0m \u001b[0marrays\u001b[0m\u001b[1;33m]\u001b[0m\u001b[1;33m\u001b[0m\u001b[1;33m\u001b[0m\u001b[0m\n\u001b[0m\u001b[0;32m    556\u001b[0m         \u001b[1;32melse\u001b[0m\u001b[1;33m:\u001b[0m\u001b[1;33m\u001b[0m\u001b[1;33m\u001b[0m\u001b[0m\n\u001b[0;32m    557\u001b[0m             \u001b[1;32mreturn\u001b[0m \u001b[1;33m[\u001b[0m\u001b[1;32mNone\u001b[0m \u001b[1;32mif\u001b[0m \u001b[0mx\u001b[0m \u001b[1;32mis\u001b[0m \u001b[1;32mNone\u001b[0m \u001b[1;32melse\u001b[0m \u001b[0mx\u001b[0m\u001b[1;33m[\u001b[0m\u001b[0mstart\u001b[0m\u001b[1;33m:\u001b[0m\u001b[0mstop\u001b[0m\u001b[1;33m]\u001b[0m \u001b[1;32mfor\u001b[0m \u001b[0mx\u001b[0m \u001b[1;32min\u001b[0m \u001b[0marrays\u001b[0m\u001b[1;33m]\u001b[0m\u001b[1;33m\u001b[0m\u001b[1;33m\u001b[0m\u001b[0m\n",
      "\u001b[1;32m~\\anaconda3\\envs\\AutoCOVID19\\lib\\site-packages\\keras\\utils\\generic_utils.py\u001b[0m in \u001b[0;36m<listcomp>\u001b[1;34m(.0)\u001b[0m\n\u001b[0;32m    553\u001b[0m             \u001b[1;32mif\u001b[0m \u001b[0mhasattr\u001b[0m\u001b[1;33m(\u001b[0m\u001b[0mstart\u001b[0m\u001b[1;33m,\u001b[0m \u001b[1;34m'shape'\u001b[0m\u001b[1;33m)\u001b[0m\u001b[1;33m:\u001b[0m\u001b[1;33m\u001b[0m\u001b[1;33m\u001b[0m\u001b[0m\n\u001b[0;32m    554\u001b[0m                 \u001b[0mstart\u001b[0m \u001b[1;33m=\u001b[0m \u001b[0mstart\u001b[0m\u001b[1;33m.\u001b[0m\u001b[0mtolist\u001b[0m\u001b[1;33m(\u001b[0m\u001b[1;33m)\u001b[0m\u001b[1;33m\u001b[0m\u001b[1;33m\u001b[0m\u001b[0m\n\u001b[1;32m--> 555\u001b[1;33m             \u001b[1;32mreturn\u001b[0m \u001b[1;33m[\u001b[0m\u001b[1;32mNone\u001b[0m \u001b[1;32mif\u001b[0m \u001b[0mx\u001b[0m \u001b[1;32mis\u001b[0m \u001b[1;32mNone\u001b[0m \u001b[1;32melse\u001b[0m \u001b[0mx\u001b[0m\u001b[1;33m[\u001b[0m\u001b[0mstart\u001b[0m\u001b[1;33m]\u001b[0m \u001b[1;32mfor\u001b[0m \u001b[0mx\u001b[0m \u001b[1;32min\u001b[0m \u001b[0marrays\u001b[0m\u001b[1;33m]\u001b[0m\u001b[1;33m\u001b[0m\u001b[1;33m\u001b[0m\u001b[0m\n\u001b[0m\u001b[0;32m    556\u001b[0m         \u001b[1;32melse\u001b[0m\u001b[1;33m:\u001b[0m\u001b[1;33m\u001b[0m\u001b[1;33m\u001b[0m\u001b[0m\n\u001b[0;32m    557\u001b[0m             \u001b[1;32mreturn\u001b[0m \u001b[1;33m[\u001b[0m\u001b[1;32mNone\u001b[0m \u001b[1;32mif\u001b[0m \u001b[0mx\u001b[0m \u001b[1;32mis\u001b[0m \u001b[1;32mNone\u001b[0m \u001b[1;32melse\u001b[0m \u001b[0mx\u001b[0m\u001b[1;33m[\u001b[0m\u001b[0mstart\u001b[0m\u001b[1;33m:\u001b[0m\u001b[0mstop\u001b[0m\u001b[1;33m]\u001b[0m \u001b[1;32mfor\u001b[0m \u001b[0mx\u001b[0m \u001b[1;32min\u001b[0m \u001b[0marrays\u001b[0m\u001b[1;33m]\u001b[0m\u001b[1;33m\u001b[0m\u001b[1;33m\u001b[0m\u001b[0m\n",
      "\u001b[1;31mMemoryError\u001b[0m: Unable to allocate 9.84 GiB for an array with shape (32, 14, 256, 256, 45) and data type float64"
     ]
    }
   ],
   "source": [
    "seq.fit(X_train, y_train, epochs = 50, batch_size = 32)"
   ]
  },
  {
   "cell_type": "code",
   "execution_count": null,
   "metadata": {},
   "outputs": [],
   "source": [
    "train=train.reshape((train.shape[0],n_step,rs,rs,45))\n",
    "print(train.shape)\n",
    "test=test.reshape((test.shape[0],rs,rs,1))\n",
    "print(test.shape)"
   ]
  },
  {
   "cell_type": "code",
   "execution_count": null,
   "metadata": {},
   "outputs": [],
   "source": [
    "---\n",
    "# (n_frames, width, height, channels) and returns a movie"
   ]
  },
  {
   "cell_type": "markdown",
   "metadata": {},
   "source": [
    "(17484, 12, 50, 50)\n",
    "(17484, 1, 50, 50)\n",
    "\n",
    "(17484, 12, 50, 50, 1)\n",
    "(17484, 50, 50, 1)"
   ]
  },
  {
   "cell_type": "code",
   "execution_count": null,
   "metadata": {},
   "outputs": [],
   "source": [
    "X_train=X_train.reshape((X_train.shape[0],14,256,256,45))\n",
    "print(X_train.shape)\n",
    "y_train=y_train3.reshape((y_train.shape[0],256,256,45))\n",
    "print(y_train.shape)"
   ]
  },
  {
   "cell_type": "code",
   "execution_count": null,
   "metadata": {},
   "outputs": [],
   "source": [
    "seq = get_model(0, image1.shape[2])"
   ]
  },
  {
   "cell_type": "code",
   "execution_count": null,
   "metadata": {},
   "outputs": [],
   "source": [
    "seq.summary()"
   ]
  },
  {
   "cell_type": "code",
   "execution_count": null,
   "metadata": {},
   "outputs": [],
   "source": [
    "history = seq.fit(noisy_movies[:1000], shifted_movies[:1000], batch_size=10,\n",
    "        epochs=50, validation_split=0.05)"
   ]
  },
  {
   "cell_type": "code",
   "execution_count": null,
   "metadata": {},
   "outputs": [],
   "source": [
    "model_dir = './model'\n",
    "if not os.path.exists(model_dir):\n",
    "    os.mkdir(model_dir)\n",
    "\n",
    "model_path = model_dir + '/covid%d.h5' % number\n",
    "seq.save(model_path)"
   ]
  },
  {
   "cell_type": "code",
   "execution_count": null,
   "metadata": {},
   "outputs": [],
   "source": [
    "print(\"정확도 : %.4f\" % (model.evaluate()[1]))\n",
    "print(\"손실 : %.4f\" % (model.evaluate()[0]))"
   ]
  }
 ],
 "metadata": {
  "kernelspec": {
   "display_name": "Python 3",
   "language": "python",
   "name": "python3"
  },
  "language_info": {
   "codemirror_mode": {
    "name": "ipython",
    "version": 3
   },
   "file_extension": ".py",
   "mimetype": "text/x-python",
   "name": "python",
   "nbconvert_exporter": "python",
   "pygments_lexer": "ipython3",
   "version": "3.6.10"
  }
 },
 "nbformat": 4,
 "nbformat_minor": 4
}
