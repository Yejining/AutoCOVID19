{
 "cells": [
  {
   "cell_type": "markdown",
   "metadata": {},
   "source": [
    "1. 일단 데이터를 날짜별로 자른다.\n",
    "2. 모든 피처를 다 만드는 경우\n",
    "  1) 나이대 10개\n",
    "  2) 성별 2개\n",
    "  3) 감염 원인 11개\n",
    "  4) 방문 요일 7개\n",
    "     총 30개 배열"
   ]
  },
  {
   "cell_type": "code",
   "execution_count": 1,
   "metadata": {},
   "outputs": [],
   "source": [
    "import pandas as pd\n",
    "import scipy.stats as st\n",
    "from datetime import datetime\n",
    "from datetime import timedelta\n",
    "import math\n",
    "import numpy as np\n",
    "from PIL import Image\n",
    "from scipy import stats\n",
    "import copy"
   ]
  },
  {
   "cell_type": "markdown",
   "metadata": {},
   "source": [
    "### 1. 루트 생성"
   ]
  },
  {
   "cell_type": "code",
   "execution_count": 2,
   "metadata": {},
   "outputs": [],
   "source": [
    "patient_route = pd.read_csv('covid19/PatientRoute.csv')\n",
    "patient_info = pd.read_csv('covid19/PatientInfo.csv')\n",
    "patient_info = patient_info[[\"patient_id\",\"global_num\",\"sex\",\"age\",\"infection_case\"]]\n",
    "club_route = pd.read_csv('club.csv')"
   ]
  },
  {
   "cell_type": "code",
   "execution_count": 3,
   "metadata": {},
   "outputs": [],
   "source": [
    "merge_route = pd.merge(patient_info, patient_route)\n",
    "merge_route = merge_route[merge_route[\"province\"]==\"Seoul\"]\n",
    "merge_route = merge_route[pd.notnull(merge_route['sex'])]\n",
    "merge_route = merge_route[pd.notnull(merge_route['age'])]\n",
    "club_route = club_route[pd.notnull(club_route['latitude'])]\n",
    "club_route = club_route[pd.notnull(club_route['longitude'])]\n",
    "club_route = club_route[club_route[\"date\"]!=\"2020-04-20\"]"
   ]
  },
  {
   "cell_type": "code",
   "execution_count": 4,
   "metadata": {},
   "outputs": [
    {
     "name": "stdout",
     "output_type": "stream",
     "text": [
      "['community infection', 'etc', 'contact with patient', 'overseas inflow']\n"
     ]
    }
   ],
   "source": [
    "causes = merge_route['infection_case']\n",
    "causes = causes.drop_duplicates(keep='last')\n",
    "causes = causes.dropna()\n",
    "causes = causes.tolist()\n",
    "\n",
    "causes_stay = [\"contact with patient\", \"overseas inflow\", \"etc\"]\n",
    "for i, cause in enumerate(causes):\n",
    "    if cause in causes_stay:\n",
    "        continue\n",
    "    causes[i] = \"community infection\"\n",
    "    \n",
    "causes = list(dict.fromkeys(causes))\n",
    "print(causes)"
   ]
  },
  {
   "cell_type": "markdown",
   "metadata": {},
   "source": [
    "### 3. 클래스"
   ]
  },
  {
   "cell_type": "code",
   "execution_count": 5,
   "metadata": {},
   "outputs": [],
   "source": [
    "class GridMap:\n",
    "    Re = 6371.00877  ##  지도반경\n",
    "    grid = 1.28  ##  격자간격 (km)\n",
    "    slat1 = 30.0  ##  표준위도 1\n",
    "    slat2 = 60.0  ##  표준위도 2\n",
    "    olon = 127.0175205  ##  기준점 경도\n",
    "    olat = 37.523124  ##  기준점 위도\n",
    "    xo = 18.4 / grid #  기준점 X좌표\n",
    "    yo = 21.6 / grid  ##  기준점 Y좌표\n",
    "    row = 32\n",
    "    column = 32\n",
    "    seoul_start_lat = 37.698098\n",
    "    seoul_start_lon = 126.799791\n",
    "    seoul_end_lat = 37.34815\n",
    "    seoul_end_lon = 127.23525\n",
    "\n",
    "    def __init__(self):\n",
    "        self.PI = math.asin(1.0) * 2.0\n",
    "        self.DEGRAD = self.PI / 180.0\n",
    "        self.RADDEG = 180.0 / self.PI\n",
    "\n",
    "        self.re = self.Re / self.grid\n",
    "        self.slat1 = self.slat1 * self.DEGRAD\n",
    "        self.slat2 = self.slat2 * self.DEGRAD\n",
    "        self.olon = self.olon * self.DEGRAD\n",
    "        self.olat = self.olat * self.DEGRAD\n",
    "\n",
    "        self.sn = math.tan(self.PI * 0.25 + self.slat2 * 0.5) / \\\n",
    "                  math.tan(self.PI * 0.25 + self.slat1 * 0.5)\n",
    "        self.sn = math.log(math.cos(self.slat1) /\n",
    "                           math.cos(self.slat2)) / math.log(self.sn)\n",
    "        self.sf = math.tan(self.PI * 0.25 + self.slat1 * 0.5)\n",
    "        self.sf = math.pow(self.sf, self.sn) * math.cos(self.slat1) / self.sn\n",
    "        self.ro = math.tan(self.PI * 0.25 + self.olat * 0.5)\n",
    "        self.ro = self.re * self.sf / math.pow(self.ro, self.sn)\n",
    "\n",
    "    def toGrid(self, lat, lon):\n",
    "        lat = float(lat)\n",
    "        lon = float(lon)\n",
    "        ra = math.tan(self.PI * 0.25 + lat * self.DEGRAD * 0.5)\n",
    "        ra = self.re * self.sf / pow(ra, self.sn)\n",
    "        theta = lon * self.DEGRAD - self.olon\n",
    "        if theta > self.PI:\n",
    "            theta -= 2.0 * self.PI\n",
    "        if theta < self.PI * -1:\n",
    "            theta += 2.0 * self.PI\n",
    "        theta *= self.sn\n",
    "        x = (ra * math.sin(theta)) + self.xo\n",
    "        y = (self.ro - ra * math.cos(theta)) + self.yo\n",
    "        x = int(x + 1.5)\n",
    "        # y = int(y + 1.5)\n",
    "        y = (int(y + 1.5) - 31) * -1\n",
    "        return x, y\n",
    "\n",
    "    def toCoordinate(self, x, y):\n",
    "        x = x - 1\n",
    "        y = y - 1\n",
    "        xn = x - self.xo\n",
    "        yn = self.ro - y + self.yo\n",
    "        ra = math.sqrt(xn * xn + yn * yn)\n",
    "        if self.sn < 0.0:\n",
    "            ra = -ra\n",
    "        alat = math.pow((self.re * self.sf / ra), (1.0 / self.sn))\n",
    "        alat = 2.0 * math.atan(alat) - self.PI * 0.5\n",
    "        if math.fabs(xn) <= 0.0:\n",
    "            theta = 0.0\n",
    "        else:\n",
    "            if math.fabs(yn) <= 0.0:\n",
    "                theta = self.PI * 0.5\n",
    "                if xn < 0.0:\n",
    "                    theta = -theta\n",
    "            else:\n",
    "                theta = math.atan2(xn, yn)\n",
    "        alon = theta / self.sn + self.olon\n",
    "        lat = alat * self.RADDEG\n",
    "        lon = alon * self.RADDEG\n",
    "        return lat, lon\n",
    "\n",
    "    def isSeoul(self, lat, lon):\n",
    "        if self.seoul_end_lat > lat or lat > self.seoul_start_lat:\n",
    "            return False\n",
    "        if self.seoul_end_lon < lon or lon < self.seoul_start_lon:\n",
    "            return False\n",
    "        return True\n",
    "\n",
    "    def generateMap(self, raw_data):\n",
    "        gridx, gridy = [], []\n",
    "        for idx, data in raw_data.iterrows():\n",
    "            try:\n",
    "                float(data.latitude)\n",
    "            except ValueError:\n",
    "                continue\n",
    "            if self.isSeoul(data.latitude, data.longitude):\n",
    "                x, y = self.toGrid(data.latitude, data.longitude)\n",
    "                gridx.append(x), gridy.append(y)\n",
    "\n",
    "        df = pd.DataFrame({'gridx': gridx, 'gridy': gridy})\n",
    "\n",
    "        grid_array = np.zeros((self.row, self.column))\n",
    "        for idx, data in df.iterrows():\n",
    "            try:\n",
    "                grid_array[data.gridy, data.gridx] += 1\n",
    "            except:\n",
    "                pass\n",
    "\n",
    "        return grid_array"
   ]
  },
  {
   "cell_type": "code",
   "execution_count": 6,
   "metadata": {},
   "outputs": [],
   "source": [
    "class Feature:\n",
    "    def __init__(self, names, counts, move_types, input_route, input_dates):\n",
    "        self.names = names\n",
    "        self.counts = counts\n",
    "        self.move_types = move_types\n",
    "        self.clear(len(input_route))\n",
    "        \n",
    "    def clear(self, input_dates):\n",
    "        self.features = []\n",
    "        all_count = sum(count for count in self.counts)\n",
    "        self.tensor = np.zeros((input_dates, 32, 32, all_count), dtype=np.float)\n",
    "        for i in range(all_count):\n",
    "            arr = np.zeros((32, 32))\n",
    "            self.features.append(arr)\n",
    "            \n",
    "    def age_category(self, ages):\n",
    "        categories = []\n",
    "        for age in ages:\n",
    "            age = int(age[:-1])\n",
    "            if age == 0: category = 0\n",
    "            elif age == 100: category = 10\n",
    "            else: category = age // 10\n",
    "            categories.append(category)\n",
    "        return categories\n",
    "            \n",
    "    def sex_category(self, sexes):\n",
    "        categories = []\n",
    "        for sex in sexes:\n",
    "            if sex == 'male': categories.append(0)\n",
    "            else: categories.append(1)\n",
    "        return categories\n",
    "        \n",
    "    def infection_case_category(self, infection_cases):\n",
    "        categories = []\n",
    "        for infection_case in infection_cases:\n",
    "            if infection_case not in causes:\n",
    "                infection_case = \"community infection\"\n",
    "            category = causes.index(infection_case)\n",
    "            categories.append(category)\n",
    "        return categories\n",
    "    \n",
    "    def type_category(self, types):\n",
    "        categories = []\n",
    "        for purpose in types:\n",
    "            category = self.move_types.index(purpose)\n",
    "            categories.append(category)\n",
    "        return categories\n",
    "    \n",
    "    def day_category(self, days):\n",
    "        categories = []\n",
    "        for day in days:\n",
    "            day = datetime.strptime(day, \"%Y-%m-%d\")\n",
    "            category = day.weekday()\n",
    "            categories.append(category)\n",
    "        return categories\n",
    "    \n",
    "    def put_all_categories(self, order, ages, sexes, infection_cases, types, days, lats, lons):\n",
    "        converter = GridMap()\n",
    "        length = len(ages)\n",
    "        \n",
    "        ages_categories = self.age_category(ages)\n",
    "        sexes_categories = self.sex_category(sexes)\n",
    "        infection_case_categories = self.infection_case_category(infection_cases)\n",
    "        type_categories = self.type_category(types)\n",
    "        days_categories = self.day_category(days)\n",
    "        \n",
    "        # age_categories = 3이라고 했을 때\n",
    "        # 전체 feature 배열에서 index가 3인 배열에 넣으면 됨\n",
    "        for i in range(length):\n",
    "            x, y = converter.toGrid(lats[i], lons[i])\n",
    "            index = 0\n",
    "            # age\n",
    "            if ages_categories[i] != -1:\n",
    "                age = ages_categories[i]\n",
    "                self.tensor[order][x][y][age] += 1\n",
    "                index += self.counts[0]\n",
    "            # sex\n",
    "            if sexes_categories[i] != -1:\n",
    "                sex = index + sexes_categories[i]\n",
    "                self.tensor[order][x][y][sex] += 1\n",
    "                index += self.counts[1]\n",
    "            # infection_case\n",
    "            if infection_case_categories[i] != -1:\n",
    "                infection_case = index + infection_case_categories[i]\n",
    "                self.tensor[order][x][y][infection_case] += 1\n",
    "                index += self.counts[2]\n",
    "            # type\n",
    "            if type_categories[i] != -1:\n",
    "                visit = index + type_categories[i]\n",
    "                self.tensor[order][x][y][visit] += 1\n",
    "                index += self.counts[3]\n",
    "            # day\n",
    "            if days_categories[i] != -1:\n",
    "                day = index + days_categories[i]\n",
    "                self.tensor[order][x][y][day] += 1"
   ]
  },
  {
   "cell_type": "markdown",
   "metadata": {},
   "source": [
    "### 4. 메서드, date 변수"
   ]
  },
  {
   "cell_type": "code",
   "execution_count": 7,
   "metadata": {},
   "outputs": [],
   "source": [
    "def generate_images(feature_class, input_route, input_dates):  \n",
    "    feature_class.clear(len(input_dates))\n",
    "    images = []\n",
    "    for i in range(len(input_dates)):\n",
    "        routes = input_route.loc[input_route['date'] == input_dates[i]]\n",
    "\n",
    "        # features in routes\n",
    "        ages = routes['age'].tolist()\n",
    "        sexes = routes['sex'].tolist()\n",
    "        infection_cases = routes['infection_case'].tolist()\n",
    "        types = routes['type'].tolist()\n",
    "        dates = routes['date'].tolist()\n",
    "        lats = routes['latitude'].tolist()\n",
    "        lons = routes['longitude'].tolist()\n",
    "        \n",
    "        # features\n",
    "        feature_class.put_all_categories(i, ages, sexes, infection_cases, types, dates, lats, lons)\n",
    "        \n",
    "    return feature_class.tensor"
   ]
  },
  {
   "cell_type": "code",
   "execution_count": 8,
   "metadata": {},
   "outputs": [],
   "source": [
    "route_dates = merge_route['date']\n",
    "route_dates = route_dates.drop_duplicates(keep='last')\n",
    "route_dates = route_dates.tolist()\n",
    "route_dates.sort()"
   ]
  },
  {
   "cell_type": "code",
   "execution_count": 9,
   "metadata": {},
   "outputs": [
    {
     "data": {
      "text/plain": [
       "['2020-05-01',\n",
       " '2020-05-02',\n",
       " '2020-05-03',\n",
       " '2020-05-04',\n",
       " '2020-05-05',\n",
       " '2020-05-06',\n",
       " '2020-05-07',\n",
       " '2020-05-08',\n",
       " '2020-05-09']"
      ]
     },
     "execution_count": 9,
     "metadata": {},
     "output_type": "execute_result"
    }
   ],
   "source": [
    "club_dates = club_route['date']\n",
    "club_dates = club_dates.drop_duplicates(keep='last')\n",
    "club_dates = club_dates.tolist()\n",
    "club_dates.sort()\n",
    "club_dates"
   ]
  },
  {
   "cell_type": "markdown",
   "metadata": {},
   "source": [
    "### 5. 피처에 값 대입\n",
    "##### 방문목적지별 방문 개수\n",
    "- hospital(970)\n",
    "- etc(648)\n",
    "- public transportation(259)\n",
    "- store(217)\n",
    "- restuarant(203)\n",
    "- pharmacy(75)\n",
    "- church(64)\n",
    "- cafe(45)\n",
    "- airport(28)\n",
    "- pc_cafe(24)\n",
    "- lodging(24)\n",
    "- real_estate_agency(16)\n",
    "- bank(11)\n",
    "- school(11)\n",
    "- bar(9)\n",
    "- beuty_salon(6)\n",
    "- post_office(5)\n",
    "- bakery(6)\n",
    "- gym(3)\n",
    "- gas_station(3)\n",
    "- karaoke(2)\n",
    "\n",
    "##### 피처 병합 계획\n",
    "- move types의 수를 줄인다.\n",
    "  - store(217)로 분류될 수 있는 속성들은 store로 대체한다.\n",
    "    - bakery(6), pharmacy(75) → store\n",
    "  - restaurant로 분류될 수 있는 속성들은 restuarant(203)로 대체한다.\n",
    "    - cafe(45), bar(9)\n",
    "  - 실내 인구 밀집도가 높은 지역은 'high_population'으로 대체한다.\n",
    "    - karaoke(2), gym(3), pc_cafe(24), church(64)\n",
    "  - 통계적으로 다른 방문지보다 방문 횟수가 적은 곳은 'etc'로 대체한다.\n",
    "    - gas_station(3), beuty_salon(6), school(11), real_estate_agency(16), airport(28), bank(11), post_office(5)\n",
    "  - 남은 것\n",
    "    - lodging(24), public transportation(259), etc(648), hospital(970), store"
   ]
  },
  {
   "cell_type": "code",
   "execution_count": 10,
   "metadata": {},
   "outputs": [],
   "source": [
    "images = []\n",
    "club_images = []"
   ]
  },
  {
   "cell_type": "markdown",
   "metadata": {},
   "source": [
    "### 5. 모든 피처 반영"
   ]
  },
  {
   "cell_type": "markdown",
   "metadata": {},
   "source": [
    "모든 categorical values를 1개의 피처로 반영"
   ]
  },
  {
   "cell_type": "code",
   "execution_count": 11,
   "metadata": {},
   "outputs": [],
   "source": [
    "names = ['age', 'sex', 'infection_case', 'type', 'date']\n",
    "counts = [11, 2, 4, 21, 7]\n",
    "move_types = ['karaoke', 'gas_station', 'gym', 'bakery', 'pc_cafe',\n",
    "              'beauty_salon', 'school', 'church', 'bank', 'cafe',\n",
    "              'bar', 'post_office', 'real_estate_agency', 'lodging',\n",
    "              'public_transportation', 'restaurant', 'etc', 'store',\n",
    "              'hospital', 'pharmacy', 'airport']"
   ]
  },
  {
   "cell_type": "code",
   "execution_count": 12,
   "metadata": {},
   "outputs": [],
   "source": [
    "feature = Feature(names, counts, move_types, merge_route, route_dates)\n",
    "image0 = generate_images(feature, merge_route, route_dates)\n",
    "images.append(image0)\n",
    "\n",
    "feature = Feature(names, counts, move_types, club_route, club_dates)\n",
    "club0 = generate_images(feature, club_route, club_dates)\n",
    "club_images.append(club0)"
   ]
  },
  {
   "cell_type": "markdown",
   "metadata": {},
   "source": [
    "### 5. 피처 변형1 -  요일(1)"
   ]
  },
  {
   "cell_type": "markdown",
   "metadata": {},
   "source": [
    "- 월~금, 토~일"
   ]
  },
  {
   "cell_type": "code",
   "execution_count": 13,
   "metadata": {},
   "outputs": [],
   "source": [
    "names = ['age', 'sex', 'infection_case', 'type', 'date']\n",
    "counts = [11, 2, 4, 21, 2]\n",
    "move_types = ['karaoke', 'gas_station', 'gym', 'bakery', 'pc_cafe',\n",
    "              'beauty_salon', 'school', 'church', 'bank', 'cafe',\n",
    "              'bar', 'post_office', 'real_estate_agency', 'lodging',\n",
    "              'public_transportation', 'restaurant', 'etc', 'store',\n",
    "              'hospital', 'pharmacy', 'airport']"
   ]
  },
  {
   "cell_type": "code",
   "execution_count": 14,
   "metadata": {},
   "outputs": [],
   "source": [
    "class FeatureDay1(Feature):\n",
    "    def day_category(self, days):\n",
    "        categories = []\n",
    "        for day in days:\n",
    "            day = datetime.strptime(day, \"%Y-%m-%d\")\n",
    "            category = day.weekday()\n",
    "            if category == 5 or category == 6: categories.append(0)\n",
    "            else: categories.append(1)\n",
    "        return categories"
   ]
  },
  {
   "cell_type": "code",
   "execution_count": 15,
   "metadata": {},
   "outputs": [],
   "source": [
    "feature = FeatureDay1(names, counts, move_types, merge_route, route_dates)\n",
    "image1 = generate_images(feature, merge_route, route_dates)\n",
    "images.append(image1)\n",
    "\n",
    "feature = FeatureDay1(names, counts, move_types, club_route, club_dates)\n",
    "club1 = generate_images(feature, club_route, club_dates)\n",
    "club_images.append(club1)"
   ]
  },
  {
   "cell_type": "markdown",
   "metadata": {},
   "source": [
    "### 5. 피처 변형1 - 요일(2)"
   ]
  },
  {
   "cell_type": "markdown",
   "metadata": {},
   "source": [
    "- 요일 삭제"
   ]
  },
  {
   "cell_type": "code",
   "execution_count": 16,
   "metadata": {},
   "outputs": [],
   "source": [
    "names = ['age', 'sex', 'infection_case', 'type', 'date']\n",
    "counts = [11, 2, 4, 21, 0]\n",
    "move_types = ['karaoke', 'gas_station', 'gym', 'bakery', 'pc_cafe',\n",
    "              'beauty_salon', 'school', 'church', 'bank', 'cafe',\n",
    "              'bar', 'post_office', 'real_estate_agency', 'lodging',\n",
    "              'public_transportation', 'restaurant', 'etc', 'store',\n",
    "              'hospital', 'pharmacy', 'airport']"
   ]
  },
  {
   "cell_type": "code",
   "execution_count": 17,
   "metadata": {},
   "outputs": [],
   "source": [
    "class FeatureDay2(Feature):\n",
    "    def day_category(self, days):\n",
    "        categories = []\n",
    "        for day in days:\n",
    "            categories.append(-1)\n",
    "        return categories"
   ]
  },
  {
   "cell_type": "code",
   "execution_count": 18,
   "metadata": {},
   "outputs": [],
   "source": [
    "feature = FeatureDay2(names, counts, move_types, merge_route, route_dates)\n",
    "image2 = generate_images(feature, merge_route, route_dates)\n",
    "images.append(image2)\n",
    "\n",
    "feature = FeatureDay2(names, counts, move_types, club_route, club_dates)\n",
    "club2 = generate_images(feature, club_route, club_dates)\n",
    "club_images.append(club2)"
   ]
  },
  {
   "cell_type": "markdown",
   "metadata": {},
   "source": [
    "### 5. 피처 변형2 - 나이대(1)"
   ]
  },
  {
   "cell_type": "markdown",
   "metadata": {},
   "source": [
    "- 0~1/2~3/4~5/6~7/8~10"
   ]
  },
  {
   "cell_type": "code",
   "execution_count": 19,
   "metadata": {},
   "outputs": [],
   "source": [
    "names = ['age', 'sex', 'infection_case', 'type', 'date']\n",
    "counts = [5, 2, 4, 21, 7]\n",
    "move_types = ['karaoke', 'gas_station', 'gym', 'bakery', 'pc_cafe',\n",
    "              'beauty_salon', 'school', 'church', 'bank', 'cafe',\n",
    "              'bar', 'post_office', 'real_estate_agency', 'lodging',\n",
    "              'public_transportation', 'restaurant', 'etc', 'store',\n",
    "              'hospital', 'pharmacy', 'airport']"
   ]
  },
  {
   "cell_type": "code",
   "execution_count": 20,
   "metadata": {},
   "outputs": [],
   "source": [
    "class FeatureAge1(Feature):\n",
    "    def agey_category(self, days):\n",
    "        categories = []\n",
    "        for age in ages:\n",
    "            age = int(age[:-1])\n",
    "            if age == 0 or age == 1: category = 0\n",
    "            elif age == 2 or age == 3: category = 1\n",
    "            elif age == 4 or age == 5: category = 2\n",
    "            elif age == 6 or age == 7: category = 3\n",
    "            else: category = 4\n",
    "            categories.append(category)\n",
    "        return categories"
   ]
  },
  {
   "cell_type": "code",
   "execution_count": 21,
   "metadata": {},
   "outputs": [],
   "source": [
    "feature = FeatureAge1(names, counts, move_types, merge_route, route_dates)\n",
    "image3 = generate_images(feature, merge_route, route_dates)\n",
    "images.append(image3)\n",
    "\n",
    "feature = FeatureAge1(names, counts, move_types, club_route, club_dates)\n",
    "club3 = generate_images(feature, club_route, club_dates)\n",
    "club_images.append(club3)"
   ]
  },
  {
   "cell_type": "markdown",
   "metadata": {},
   "source": [
    "### 피처 변형2 - 나이대(2)"
   ]
  },
  {
   "cell_type": "markdown",
   "metadata": {},
   "source": [
    "- 0/1~3/4~6/7~10"
   ]
  },
  {
   "cell_type": "code",
   "execution_count": 22,
   "metadata": {},
   "outputs": [],
   "source": [
    "names = ['age', 'sex', 'infection_case', 'type', 'date']\n",
    "counts = [4, 2, 4, 21, 7]\n",
    "move_types = ['karaoke', 'gas_station', 'gym', 'bakery', 'pc_cafe',\n",
    "              'beauty_salon', 'school', 'church', 'bank', 'cafe',\n",
    "              'bar', 'post_office', 'real_estate_agency', 'lodging',\n",
    "              'public_transportation', 'restaurant', 'etc', 'store',\n",
    "              'hospital', 'pharmacy', 'airport']"
   ]
  },
  {
   "cell_type": "code",
   "execution_count": 23,
   "metadata": {},
   "outputs": [],
   "source": [
    "class FeatureAge2(Feature):\n",
    "    def age_category(self, ages):\n",
    "        categories = []\n",
    "        for age in ages:\n",
    "            age = int(age[:-1])\n",
    "            if age == 0: category = 0\n",
    "            elif age >= 1 or age < 4: category = 1\n",
    "            elif age >= 4 or age < 7: category = 2\n",
    "            else: category = 3\n",
    "            categories.append(category)\n",
    "        return categories"
   ]
  },
  {
   "cell_type": "code",
   "execution_count": 24,
   "metadata": {},
   "outputs": [],
   "source": [
    "feature = FeatureAge2(names, counts, move_types, merge_route, route_dates)\n",
    "image4 = generate_images(feature, merge_route, route_dates)\n",
    "images.append(image4)\n",
    "\n",
    "feature = FeatureAge2(names, counts, move_types, club_route, club_dates)\n",
    "club4 = generate_images(feature, club_route, club_dates)\n",
    "club_images.append(club4)"
   ]
  },
  {
   "cell_type": "markdown",
   "metadata": {},
   "source": [
    "### 피처 변형2 - 나이대(3)"
   ]
  },
  {
   "cell_type": "markdown",
   "metadata": {},
   "source": [
    "- 나이 삭제"
   ]
  },
  {
   "cell_type": "code",
   "execution_count": 25,
   "metadata": {},
   "outputs": [],
   "source": [
    "names = ['age', 'sex', 'infection_case', 'type', 'date']\n",
    "counts = [0, 2, 4, 21, 7]\n",
    "move_types = ['karaoke', 'gas_station', 'gym', 'bakery', 'pc_cafe',\n",
    "              'beauty_salon', 'school', 'church', 'bank', 'cafe',\n",
    "              'bar', 'post_office', 'real_estate_agency', 'lodging',\n",
    "              'public_transportation', 'restaurant', 'etc', 'store',\n",
    "              'hospital', 'pharmacy', 'airport']"
   ]
  },
  {
   "cell_type": "code",
   "execution_count": 26,
   "metadata": {},
   "outputs": [],
   "source": [
    "class FeatureAge3(Feature):\n",
    "    def age_category(self, ages):\n",
    "        categories = []\n",
    "        for age in ages:\n",
    "            categories.append(-1)\n",
    "        return categories"
   ]
  },
  {
   "cell_type": "code",
   "execution_count": 27,
   "metadata": {},
   "outputs": [],
   "source": [
    "feature = FeatureAge3(names, counts, move_types, merge_route, route_dates)\n",
    "image5 = generate_images(feature, merge_route, route_dates)\n",
    "images.append(image5)\n",
    "\n",
    "feature = FeatureAge3(names, counts, move_types, club_route, club_dates)\n",
    "club5 = generate_images(feature, club_route, club_dates)\n",
    "club_images.append(club5)"
   ]
  },
  {
   "cell_type": "markdown",
   "metadata": {},
   "source": [
    "### 피처 변형3 - 성별(1)"
   ]
  },
  {
   "cell_type": "markdown",
   "metadata": {},
   "source": [
    "- 성별 삭제"
   ]
  },
  {
   "cell_type": "code",
   "execution_count": 28,
   "metadata": {},
   "outputs": [],
   "source": [
    "names = ['age', 'sex', 'infection_case', 'type', 'date']\n",
    "counts = [11, 0, 4, 21, 7]\n",
    "move_types = ['karaoke', 'gas_station', 'gym', 'bakery', 'pc_cafe',\n",
    "              'beauty_salon', 'school', 'church', 'bank', 'cafe',\n",
    "              'bar', 'post_office', 'real_estate_agency', 'lodging',\n",
    "              'public_transportation', 'restaurant', 'etc', 'store',\n",
    "              'hospital', 'pharmacy', 'airport']"
   ]
  },
  {
   "cell_type": "code",
   "execution_count": 29,
   "metadata": {},
   "outputs": [],
   "source": [
    "class FeatureSex1(Feature):\n",
    "    def sex_category(self, sexes):\n",
    "        categories = []\n",
    "        for sex in sexes:\n",
    "            categories.append(-1)\n",
    "        return categories"
   ]
  },
  {
   "cell_type": "code",
   "execution_count": 30,
   "metadata": {},
   "outputs": [],
   "source": [
    "feature = FeatureSex1(names, counts, move_types, merge_route, route_dates)\n",
    "image6 = generate_images(feature, merge_route, route_dates)\n",
    "images.append(image6)\n",
    "\n",
    "feature = FeatureSex1(names, counts, move_types, club_route, club_dates)\n",
    "club6 = generate_images(feature, club_route, club_dates)\n",
    "club_images.append(club6)"
   ]
  },
  {
   "cell_type": "markdown",
   "metadata": {},
   "source": [
    "### 피처 변형4 - 감염 원인(1)"
   ]
  },
  {
   "cell_type": "markdown",
   "metadata": {},
   "source": [
    "- 해외/접촉+기타/집단\n",
    "'community infection', 'etc', 'contact with patient', 'overseas inflow'"
   ]
  },
  {
   "cell_type": "code",
   "execution_count": 31,
   "metadata": {},
   "outputs": [],
   "source": [
    "names = ['age', 'sex', 'infection_case', 'type', 'date']\n",
    "counts = [11, 2, 3, 21, 7]\n",
    "move_types = ['karaoke', 'gas_station', 'gym', 'bakery', 'pc_cafe',\n",
    "              'beauty_salon', 'school', 'church', 'bank', 'cafe',\n",
    "              'bar', 'post_office', 'real_estate_agency', 'lodging',\n",
    "              'public_transportation', 'restaurant', 'etc', 'store',\n",
    "              'hospital', 'pharmacy', 'airport']"
   ]
  },
  {
   "cell_type": "code",
   "execution_count": 32,
   "metadata": {},
   "outputs": [],
   "source": [
    "new_infection_case = ['community infection', 'contact with patient', 'overseas inflow']"
   ]
  },
  {
   "cell_type": "code",
   "execution_count": 33,
   "metadata": {},
   "outputs": [],
   "source": [
    "class FeatureCase1(Feature):\n",
    "    def infection_case_category(self, infection_cases):\n",
    "        categories = []\n",
    "        for infection_case in infection_cases:\n",
    "            if infection_case not in causes:\n",
    "                infection_case = \"community infection\"\n",
    "            if infection_case == \"etc\":\n",
    "                infection_case = \"contact with patient\"\n",
    "            category = new_infection_case.index(infection_case)\n",
    "            \n",
    "            categories.append(category)\n",
    "        return categories"
   ]
  },
  {
   "cell_type": "code",
   "execution_count": 34,
   "metadata": {},
   "outputs": [],
   "source": [
    "feature = FeatureCase1(names, counts, move_types, merge_route, route_dates)\n",
    "image7 = generate_images(feature, merge_route, route_dates)\n",
    "images.append(image7)\n",
    "\n",
    "feature = FeatureCase1(names, counts, move_types, club_route, club_dates)\n",
    "club7 = generate_images(feature, club_route, club_dates)\n",
    "club_images.append(club7)"
   ]
  },
  {
   "cell_type": "markdown",
   "metadata": {},
   "source": [
    "### 5. 피처 변형 4 - 감염 원인(2)"
   ]
  },
  {
   "cell_type": "markdown",
   "metadata": {},
   "source": [
    "- 해외/접촉+기타/집단\n",
    "'community infection', 'etc', 'contact with patient', 'overseas inflow'"
   ]
  },
  {
   "cell_type": "code",
   "execution_count": 35,
   "metadata": {},
   "outputs": [],
   "source": [
    "names = ['age', 'sex', 'infection_case', 'type', 'date']\n",
    "counts = [11, 2, 3, 21, 7]\n",
    "move_types = ['karaoke', 'gas_station', 'gym', 'bakery', 'pc_cafe',\n",
    "              'beauty_salon', 'school', 'church', 'bank', 'cafe',\n",
    "              'bar', 'post_office', 'real_estate_agency', 'lodging',\n",
    "              'public_transportation', 'restaurant', 'etc', 'store',\n",
    "              'hospital', 'pharmacy', 'airport']"
   ]
  },
  {
   "cell_type": "code",
   "execution_count": 36,
   "metadata": {},
   "outputs": [],
   "source": [
    "new_infection_case = ['community infection', 'contact with patient', 'overseas inflow']"
   ]
  },
  {
   "cell_type": "code",
   "execution_count": 37,
   "metadata": {},
   "outputs": [],
   "source": [
    "class FeatureCase2(Feature):\n",
    "    def infection_case_category(self, infection_cases):\n",
    "        categories = []\n",
    "        for infection_case in infection_cases:\n",
    "            if infection_case not in causes:\n",
    "                infection_case = \"community infection\"\n",
    "            if infection_case == \"etc\":\n",
    "                infection_case = \"community infection\"\n",
    "            category = new_infection_case.index(infection_case)\n",
    "            \n",
    "            categories.append(category)\n",
    "        return categories"
   ]
  },
  {
   "cell_type": "code",
   "execution_count": 38,
   "metadata": {},
   "outputs": [],
   "source": [
    "feature = FeatureCase2(names, counts, move_types, merge_route, route_dates)\n",
    "image8 = generate_images(feature, merge_route, route_dates)\n",
    "images.append(image8)\n",
    "\n",
    "feature = FeatureCase2(names, counts, move_types, club_route, club_dates)\n",
    "club8 = generate_images(feature, club_route, club_dates)\n",
    "club_images.append(club8)"
   ]
  },
  {
   "cell_type": "markdown",
   "metadata": {},
   "source": [
    "### 피처 변형4 - 감염 원인(3)"
   ]
  },
  {
   "cell_type": "markdown",
   "metadata": {},
   "source": [
    "- 해외 삭제\n",
    "'community infection', 'etc', 'contact with patient', 'overseas inflow'"
   ]
  },
  {
   "cell_type": "code",
   "execution_count": 39,
   "metadata": {},
   "outputs": [],
   "source": [
    "names = ['age', 'sex', 'infection_case', 'type', 'date']\n",
    "counts = [11, 2, 3, 21, 7]\n",
    "move_types = ['karaoke', 'gas_station', 'gym', 'bakery', 'pc_cafe',\n",
    "              'beauty_salon', 'school', 'church', 'bank', 'cafe',\n",
    "              'bar', 'post_office', 'real_estate_agency', 'lodging',\n",
    "              'public_transportation', 'restaurant', 'etc', 'store',\n",
    "              'hospital', 'pharmacy', 'airport']"
   ]
  },
  {
   "cell_type": "code",
   "execution_count": 40,
   "metadata": {},
   "outputs": [],
   "source": [
    "new_infection_case = ['community infection', 'etc', 'contact with patient']"
   ]
  },
  {
   "cell_type": "code",
   "execution_count": 41,
   "metadata": {},
   "outputs": [],
   "source": [
    "class FeatureCase3(Feature):\n",
    "    def infection_case_category(self, infection_cases):\n",
    "        categories = []\n",
    "        for infection_case in infection_cases:\n",
    "            if 'overseas inflow':\n",
    "                categories.append(-1)\n",
    "                continue\n",
    "            if infection_case not in causes:\n",
    "                infection_case = \"community infection\"\n",
    "            category = new_infection_case.index(infection_case)\n",
    "            \n",
    "            categories.append(category)\n",
    "        return categories"
   ]
  },
  {
   "cell_type": "code",
   "execution_count": 42,
   "metadata": {},
   "outputs": [],
   "source": [
    "feature = FeatureCase3(names, counts, move_types, merge_route, route_dates)\n",
    "image9 = generate_images(feature, merge_route, route_dates)\n",
    "images.append(image9)\n",
    "\n",
    "feature = FeatureCase3(names, counts, move_types, club_route, club_dates)\n",
    "club9 = generate_images(feature, club_route, club_dates)\n",
    "club_images.append(club9)"
   ]
  },
  {
   "cell_type": "markdown",
   "metadata": {},
   "source": [
    "### 5. 피처 변형4 - 감염 원인(4)"
   ]
  },
  {
   "cell_type": "markdown",
   "metadata": {},
   "source": [
    "- 감염 원인 삭제"
   ]
  },
  {
   "cell_type": "code",
   "execution_count": 43,
   "metadata": {},
   "outputs": [],
   "source": [
    "names = ['age', 'sex', 'infection_case', 'type', 'date']\n",
    "counts = [11, 2, 0, 21, 7]\n",
    "move_types = ['karaoke', 'gas_station', 'gym', 'bakery', 'pc_cafe',\n",
    "              'beauty_salon', 'school', 'church', 'bank', 'cafe',\n",
    "              'bar', 'post_office', 'real_estate_agency', 'lodging',\n",
    "              'public_transportation', 'restaurant', 'etc', 'store',\n",
    "              'hospital', 'pharmacy', 'airport']"
   ]
  },
  {
   "cell_type": "code",
   "execution_count": 44,
   "metadata": {},
   "outputs": [],
   "source": [
    "class FeatureCase4(Feature):\n",
    "    def infection_case_category(self, infection_cases):\n",
    "        categories = []\n",
    "        for infection_case in infection_cases:\n",
    "            categories.append(-1)\n",
    "        return categories"
   ]
  },
  {
   "cell_type": "code",
   "execution_count": 45,
   "metadata": {},
   "outputs": [],
   "source": [
    "feature = FeatureCase4(names, counts, move_types, merge_route, route_dates)\n",
    "image10 = generate_images(feature, merge_route, route_dates)\n",
    "images.append(image10)\n",
    "\n",
    "feature = FeatureCase4(names, counts, move_types, club_route, club_dates)\n",
    "club10 = generate_images(feature, club_route, club_dates)\n",
    "club_images.append(club10)"
   ]
  },
  {
   "cell_type": "markdown",
   "metadata": {},
   "source": [
    "### 5. 피처 변형5 - 방문 목적(1)"
   ]
  },
  {
   "cell_type": "markdown",
   "metadata": {},
   "source": [
    "방문 목적이 비슷한 항몪끼리 묶는다.\n",
    "- store(217)로 분류될 수 있는 속성들은 store로 대체한다.\n",
    "    - bakery(6), pharmacy(75) → store\n",
    "    - 5월 12일까지 약국에서 일어난 2차 감염 사례가 보고되지 않았기 때문에 약국도 store로 분류"
   ]
  },
  {
   "cell_type": "code",
   "execution_count": 46,
   "metadata": {},
   "outputs": [],
   "source": [
    "patient_route = pd.read_csv('covid19/PatientRoute.csv')\n",
    "patient_info = pd.read_csv('covid19/PatientInfo.csv')\n",
    "patient_info = patient_info[[\"patient_id\",\"global_num\",\"sex\",\"age\",\"infection_case\"]]\n",
    "club_route = pd.read_csv('club.csv')\n",
    "merge_route = pd.merge(patient_info, patient_route)\n",
    "merge_route = merge_route[merge_route[\"province\"]==\"Seoul\"]\n",
    "merge_route = merge_route[pd.notnull(merge_route['sex'])]\n",
    "merge_route = merge_route[pd.notnull(merge_route['age'])]\n",
    "club_route = club_route[pd.notnull(club_route['latitude'])]\n",
    "club_route = club_route[pd.notnull(club_route['longitude'])]"
   ]
  },
  {
   "cell_type": "code",
   "execution_count": 47,
   "metadata": {},
   "outputs": [],
   "source": [
    "names = ['age', 'sex', 'infection_case', 'type', 'date']\n",
    "counts = [11, 2, 4, 19, 7]\n",
    "move_types = ['karaoke', 'gas_station', 'gym', 'pc_cafe',\n",
    "              'beauty_salon', 'school', 'church', 'bank', 'cafe',\n",
    "              'bar', 'post_office', 'real_estate_agency', 'lodging',\n",
    "              'public_transportation', 'restaurant', 'etc', 'store',\n",
    "              'hospital', 'airport']"
   ]
  },
  {
   "cell_type": "code",
   "execution_count": 48,
   "metadata": {},
   "outputs": [],
   "source": [
    "second_route = copy.deepcopy(merge_route)# merge_route.copy(deep=False)\n",
    "second_route['type'].replace({'bakery': 'store', 'pharmacy': 'store'}, inplace=True)\n",
    "club_second_route = club_route\n",
    "club_second_route['type'].replace({'bakery': 'store', 'pharmacy': 'store'}, inplace=True)"
   ]
  },
  {
   "cell_type": "code",
   "execution_count": 49,
   "metadata": {},
   "outputs": [],
   "source": [
    "feature = Feature(names, counts, move_types, second_route, route_dates)\n",
    "image11 = generate_images(feature, second_route, route_dates)\n",
    "images.append(image11)\n",
    "\n",
    "feature = Feature(names, counts, move_types, club_second_route, club_dates)\n",
    "club11 = generate_images(feature, club_second_route, club_dates)\n",
    "club_images.append(club11)"
   ]
  },
  {
   "cell_type": "markdown",
   "metadata": {},
   "source": [
    "### 5. 피처 변형5 - 방문 목적(2)"
   ]
  },
  {
   "cell_type": "markdown",
   "metadata": {},
   "source": [
    "방문 목적이 비슷한 항몪끼리 묶는다.\n",
    "- restaurant로 분류될 수 있는 속성들은 restuarant(203)로 대체한다.\n",
    "  - cafe(45), bar(9)"
   ]
  },
  {
   "cell_type": "code",
   "execution_count": 50,
   "metadata": {},
   "outputs": [],
   "source": [
    "patient_route = pd.read_csv('covid19/PatientRoute.csv')\n",
    "patient_info = pd.read_csv('covid19/PatientInfo.csv')\n",
    "patient_info = patient_info[[\"patient_id\",\"global_num\",\"sex\",\"age\",\"infection_case\"]]\n",
    "club_route = pd.read_csv('club.csv')\n",
    "merge_route = pd.merge(patient_info, patient_route)\n",
    "merge_route = merge_route[merge_route[\"province\"]==\"Seoul\"]\n",
    "merge_route = merge_route[pd.notnull(merge_route['sex'])]\n",
    "merge_route = merge_route[pd.notnull(merge_route['age'])]\n",
    "club_route = club_route[pd.notnull(club_route['latitude'])]\n",
    "club_route = club_route[pd.notnull(club_route['longitude'])]"
   ]
  },
  {
   "cell_type": "code",
   "execution_count": 51,
   "metadata": {},
   "outputs": [],
   "source": [
    "names = ['age', 'sex', 'infection_case', 'type', 'date']\n",
    "counts = [11, 2, 4, 19, 7]\n",
    "move_types = ['karaoke', 'gas_station', 'gym', 'bakery', 'pc_cafe',\n",
    "              'beauty_salon', 'school', 'church', 'bank',\n",
    "              'post_office', 'real_estate_agency', 'lodging',\n",
    "              'public_transportation', 'restaurant', 'etc', 'store',\n",
    "              'hospital', 'pharmacy', 'airport']"
   ]
  },
  {
   "cell_type": "code",
   "execution_count": 52,
   "metadata": {},
   "outputs": [],
   "source": [
    "third_route = copy.deepcopy(merge_route) #merge_route.copy(deep=False)\n",
    "third_route['type'].replace({'cafe': 'restaurant', 'bar': 'restaurant'}, inplace=True)\n",
    "club_third_route = club_route\n",
    "club_third_route['type'].replace({'cafe': 'restaurant', 'bar': 'restaurant'}, inplace=True)"
   ]
  },
  {
   "cell_type": "code",
   "execution_count": 53,
   "metadata": {},
   "outputs": [],
   "source": [
    "feature = Feature(names, counts, move_types, third_route, route_dates)\n",
    "image12 = generate_images(feature, third_route, route_dates)\n",
    "images.append(image12)\n",
    "\n",
    "feature = Feature(names, counts, move_types, club_third_route, club_dates)\n",
    "club12 = generate_images(feature, club_third_route, club_dates)\n",
    "club_images.append(club12)"
   ]
  },
  {
   "cell_type": "markdown",
   "metadata": {},
   "source": [
    "### 5. 피처 변형5 - 방문 목적(3)"
   ]
  },
  {
   "cell_type": "markdown",
   "metadata": {},
   "source": [
    "실내 환경이 비슷한 항몪끼리 묶는다.\n",
    "- 실내 인구 밀집도가 높고 폐쇄된 지역은 'high_population'으로 대체한다.\n",
    "  - karaoke(2), gym(3), pc_cafe(24), church(64)"
   ]
  },
  {
   "cell_type": "code",
   "execution_count": 54,
   "metadata": {},
   "outputs": [],
   "source": [
    "patient_route = pd.read_csv('covid19/PatientRoute.csv')\n",
    "patient_info = pd.read_csv('covid19/PatientInfo.csv')\n",
    "patient_info = patient_info[[\"patient_id\",\"global_num\",\"sex\",\"age\",\"infection_case\"]]\n",
    "club_route = pd.read_csv('club.csv')\n",
    "merge_route = pd.merge(patient_info, patient_route)\n",
    "merge_route = merge_route[merge_route[\"province\"]==\"Seoul\"]\n",
    "merge_route = merge_route[pd.notnull(merge_route['sex'])]\n",
    "merge_route = merge_route[pd.notnull(merge_route['age'])]\n",
    "club_route = club_route[pd.notnull(club_route['latitude'])]\n",
    "club_route = club_route[pd.notnull(club_route['longitude'])]"
   ]
  },
  {
   "cell_type": "code",
   "execution_count": 55,
   "metadata": {},
   "outputs": [],
   "source": [
    "names = ['age', 'sex', 'infection_case', 'type', 'date']\n",
    "counts = [11, 2, 4, 19, 7]\n",
    "move_types = ['gas_station', 'bakery', 'high_population',\n",
    "              'beauty_salon', 'school', 'bank', 'cafe',\n",
    "              'bar', 'post_office', 'real_estate_agency', 'lodging',\n",
    "              'public_transportation', 'restaurant', 'etc', 'store',\n",
    "              'hospital', 'pharmacy', 'airport']"
   ]
  },
  {
   "cell_type": "code",
   "execution_count": 56,
   "metadata": {},
   "outputs": [],
   "source": [
    "forth_route = copy.deepcopy(merge_route) #merge_route.copy(deep=False)\n",
    "forth_route['type'].replace({'karaoke': 'high_population', 'gym': 'restaurant', 'pc_cafe': 'high_population', 'church': 'high_population'}, inplace=True)\n",
    "club_forth_route = club_route\n",
    "club_forth_route['type'].replace({'karaoke': 'high_population', 'gym': 'restaurant', 'pc_cafe': 'high_population', 'church': 'high_population'}, inplace=True)"
   ]
  },
  {
   "cell_type": "code",
   "execution_count": 57,
   "metadata": {},
   "outputs": [],
   "source": [
    "feature = Feature(names, counts, move_types, forth_route, route_dates)\n",
    "image13 = generate_images(feature, forth_route, route_dates)\n",
    "images.append(image13)\n",
    "\n",
    "feature = Feature(names, counts, move_types, club_forth_route, club_dates)\n",
    "club13 = generate_images(feature, club_forth_route, club_dates)\n",
    "club_images.append(club13)"
   ]
  },
  {
   "cell_type": "markdown",
   "metadata": {},
   "source": [
    "### 5. 피처 변형5 - 방문 목적(4)"
   ]
  },
  {
   "cell_type": "markdown",
   "metadata": {},
   "source": [
    "- 통계적으로 다른 방문지보다 방문 횟수가 적은 곳은 'etc'로 대체한다.\n",
    "  - gas_station(3), beuty_salon(6), school(11), real_estate_agency(16), airport(28), bank(11), post_office(5)"
   ]
  },
  {
   "cell_type": "code",
   "execution_count": 58,
   "metadata": {},
   "outputs": [],
   "source": [
    "patient_route = pd.read_csv('covid19/PatientRoute.csv')\n",
    "patient_info = pd.read_csv('covid19/PatientInfo.csv')\n",
    "patient_info = patient_info[[\"patient_id\",\"global_num\",\"sex\",\"age\",\"infection_case\"]]\n",
    "club_route = pd.read_csv('club.csv')\n",
    "merge_route = pd.merge(patient_info, patient_route)\n",
    "merge_route = merge_route[merge_route[\"province\"]==\"Seoul\"]\n",
    "merge_route = merge_route[pd.notnull(merge_route['sex'])]\n",
    "merge_route = merge_route[pd.notnull(merge_route['age'])]\n",
    "club_route = club_route[pd.notnull(club_route['latitude'])]\n",
    "club_route = club_route[pd.notnull(club_route['longitude'])]"
   ]
  },
  {
   "cell_type": "code",
   "execution_count": 59,
   "metadata": {},
   "outputs": [],
   "source": [
    "names = ['age', 'sex', 'infection_case', 'type', 'date']\n",
    "counts = [11, 2, 4, 14, 7]\n",
    "move_types = ['karaoke', 'gym', 'bakery', 'pc_cafe',\n",
    "              'church', 'cafe',\n",
    "              'bar', 'lodging',\n",
    "              'public_transportation', 'restaurant', 'etc', 'store',\n",
    "              'hospital', 'pharmacy']"
   ]
  },
  {
   "cell_type": "code",
   "execution_count": 60,
   "metadata": {},
   "outputs": [],
   "source": [
    "fifth_route = copy.deepcopy(merge_route) #merge_route.copy(deep=False)\n",
    "fifth_route['type'].replace({'gas_station': 'etc', 'beauty_salon': 'etc', 'school': 'etc', 'real_estate_agency': 'etc', 'airport': 'etc', 'bank': 'etc', 'post_office': 'etc'}, inplace=True)\n",
    "club_fifth_route = club_route\n",
    "club_fifth_route['type'].replace({'gas_station': 'etc', 'beauty_salon': 'etc', 'school': 'etc', 'real_estate_agency': 'etc', 'airport': 'etc', 'bank': 'etc', 'post_office': 'etc'}, inplace=True)"
   ]
  },
  {
   "cell_type": "code",
   "execution_count": 61,
   "metadata": {},
   "outputs": [],
   "source": [
    "feature = Feature(names, counts, move_types, fifth_route, route_dates)\n",
    "image14 = generate_images(feature, fifth_route, route_dates)\n",
    "images.append(image14)\n",
    "\n",
    "feature = Feature(names, counts, move_types, club_fifth_route, club_dates)\n",
    "club14 = generate_images(feature, club_fifth_route, club_dates)\n",
    "club_images.append(club14)"
   ]
  },
  {
   "cell_type": "markdown",
   "metadata": {},
   "source": [
    "### 5. 피처 변형5 - 방문 목적(5)"
   ]
  },
  {
   "cell_type": "markdown",
   "metadata": {},
   "source": [
    "- 방문 목적 전체 삭제"
   ]
  },
  {
   "cell_type": "code",
   "execution_count": 62,
   "metadata": {},
   "outputs": [],
   "source": [
    "patient_route = pd.read_csv('covid19/PatientRoute.csv')\n",
    "patient_info = pd.read_csv('covid19/PatientInfo.csv')\n",
    "patient_info = patient_info[[\"patient_id\",\"global_num\",\"sex\",\"age\",\"infection_case\"]]\n",
    "club_route = pd.read_csv('club.csv')\n",
    "merge_route = pd.merge(patient_info, patient_route)\n",
    "merge_route = merge_route[merge_route[\"province\"]==\"Seoul\"]\n",
    "merge_route = merge_route[pd.notnull(merge_route['sex'])]\n",
    "merge_route = merge_route[pd.notnull(merge_route['age'])]\n",
    "club_route = club_route[pd.notnull(club_route['latitude'])]\n",
    "club_route = club_route[pd.notnull(club_route['longitude'])]\n",
    "club_route = club_route[club_route[\"date\"]!=\"2020-04-20\"]"
   ]
  },
  {
   "cell_type": "code",
   "execution_count": 63,
   "metadata": {},
   "outputs": [],
   "source": [
    "names = ['age', 'sex', 'infection_case', 'type', 'date']\n",
    "counts = [11, 2, 4, 0, 7]\n",
    "move_types = []"
   ]
  },
  {
   "cell_type": "code",
   "execution_count": 64,
   "metadata": {},
   "outputs": [],
   "source": [
    "sixth_route = merge_route\n",
    "club_sixth_route = club_route"
   ]
  },
  {
   "cell_type": "code",
   "execution_count": 65,
   "metadata": {},
   "outputs": [],
   "source": [
    "class FeatureType1(Feature):\n",
    "    def type_category(self, types):\n",
    "        categories = []\n",
    "        for purpose in types:\n",
    "            categories.append(-1)\n",
    "        return categories"
   ]
  },
  {
   "cell_type": "code",
   "execution_count": 66,
   "metadata": {},
   "outputs": [],
   "source": [
    "feature = FeatureType1(names, counts, move_types, sixth_route, route_dates)\n",
    "image15 = generate_images(feature, sixth_route, route_dates)\n",
    "images.append(image15)\n",
    "\n",
    "feature = FeatureType1(names, counts, move_types, club_sixth_route, club_dates)\n",
    "club15 = generate_images(feature, club_fifth_route, club_dates)\n",
    "club_images.append(club15)"
   ]
  },
  {
   "cell_type": "markdown",
   "metadata": {},
   "source": [
    "### 6. ConvLSTM"
   ]
  },
  {
   "cell_type": "code",
   "execution_count": 72,
   "metadata": {},
   "outputs": [
    {
     "name": "stderr",
     "output_type": "stream",
     "text": [
      "Using TensorFlow backend.\n",
      "\n",
      "Bad key \"text.kerning_factor\" on line 4 in\n",
      "C:\\Users\\Yejin Kim\\anaconda3\\envs\\AutoCOVID19\\lib\\site-packages\\matplotlib\\mpl-data\\stylelib\\_classic_test_patch.mplstyle.\n",
      "You probably need to get an updated matplotlibrc file from\n",
      "https://github.com/matplotlib/matplotlib/blob/v3.1.3/matplotlibrc.template\n",
      "or from the matplotlib source distribution\n"
     ]
    }
   ],
   "source": [
    "from keras.models import Sequential, load_model\n",
    "from keras.layers.convolutional import Conv3D\n",
    "from keras.layers.convolutional_recurrent import ConvLSTM2D\n",
    "from keras.layers.normalization import BatchNormalization\n",
    "import keras.backend.tensorflow_backend as K\n",
    "from sklearn.metrics import mean_squared_error, r2_score\n",
    "import numpy as np\n",
    "import pylab as plt"
   ]
  },
  {
   "cell_type": "code",
   "execution_count": 73,
   "metadata": {},
   "outputs": [],
   "source": [
    "rs = 32\n",
    "n_step = 3\n",
    "n_test = 1"
   ]
  },
  {
   "cell_type": "code",
   "execution_count": 74,
   "metadata": {},
   "outputs": [],
   "source": [
    "# We create a layer which take as input movies of shape\n",
    "# (n_frames, width, height, channels) and returns a movie\n",
    "# of identical shape.\n",
    "def get_model(channel):\n",
    "    with K.tf_ops.device('/device:GPU:0'):\n",
    "        seq = Sequential()\n",
    "        seq.add(ConvLSTM2D(filters=rs, kernel_size=(3, 3),\n",
    "                           input_shape=(n_step, rs, rs, channel),\n",
    "                           padding='same', return_sequences=True))\n",
    "        seq.add(BatchNormalization())\n",
    "\n",
    "        seq.add(ConvLSTM2D(filters=rs, kernel_size=(3, 3),\n",
    "                           padding='same', return_sequences=True))\n",
    "        seq.add(BatchNormalization())\n",
    "\n",
    "        seq.add(ConvLSTM2D(filters=rs, kernel_size=(3, 3),\n",
    "                           padding='same', return_sequences=True))\n",
    "        seq.add(BatchNormalization())\n",
    "\n",
    "        seq.add(ConvLSTM2D(filters=rs, kernel_size=(3, 3),\n",
    "                           padding='same', return_sequences=True))\n",
    "        seq.add(BatchNormalization())\n",
    "\n",
    "        seq.add(Conv3D(filters=channel, kernel_size=(3, 3, 3),\n",
    "                       activation='sigmoid',\n",
    "                       padding='same', data_format='channels_last'))\n",
    "        \n",
    "        seq.compile(loss='rmsprop', optimizer='mean_squared_error')\n",
    "#         seq.compile(loss='binary_crossentropy', optimizer='adadelta')\n",
    "    return seq"
   ]
  },
  {
   "cell_type": "markdown",
   "metadata": {},
   "source": [
    "#### train/test"
   ]
  },
  {
   "cell_type": "code",
   "execution_count": null,
   "metadata": {},
   "outputs": [],
   "source": [
    "for j, image in enumerate(images):\n",
    "    n = image.shape[0]\n",
    "    channel = image.shape[3]\n",
    "\n",
    "    n_test = n_step * 2\n",
    "    n_train = n - n_test\n",
    "\n",
    "    train = image\n",
    "    \n",
    "    X_train = []\n",
    "    y_train = []\n",
    "    for i in range(n_step,n_train-n_step):\n",
    "        X_train.append(train[i-n_step:i, :,:])\n",
    "        y_train.append(train[i:i+n_step, :,:])\n",
    "    X_train, y_train = np.array(X_train), np.array(y_train)\n",
    "    \n",
    "    seq = get_model(channel)\n",
    "    seq.fit(X_train, y_train, epochs = 200, batch_size = 32)\n",
    "    seq.save('model/train_seq_image%d.h5' % j)"
   ]
  },
  {
   "cell_type": "code",
   "execution_count": null,
   "metadata": {},
   "outputs": [],
   "source": [
    "---"
   ]
  },
  {
   "cell_type": "markdown",
   "metadata": {},
   "source": [
    "#### Result"
   ]
  },
  {
   "cell_type": "code",
   "execution_count": null,
   "metadata": {},
   "outputs": [],
   "source": [
    "for i, image in enumerate(images):\n",
    "    n = image.shape[0]\n",
    "    channel = image.shape[3]\n",
    "    rs = 32\n",
    "    n_step = 14\n",
    "\n",
    "    n_test = n_step * 2\n",
    "    n_train = n - n_test\n",
    "    \n",
    "    seq = load_model('model/seq_image%d_2.h5' % i)\n",
    "    m_max=300\n",
    "    \n",
    "    test = tests[i]\n",
    "    X_test=test[-n_step:,:,:]\n",
    "    X_test=X_test.reshape((1, 14, rs, rs, channel))\n",
    "    club_image = club_images[i] \n",
    "    y_test = club_image[-n_step:,:,:]\n",
    "    print(X_test.shape)\n",
    "    print(y_test.shape)\n",
    "                          \n",
    "    #prediction\n",
    "    pred =seq.predict(X_test)\n",
    "    pred*=m_max ###########inverse scailing\n",
    "    print(pred.shape)\n",
    "    pred=pred.reshape(n_step,rs,rs, channel)\n",
    "                          \n",
    "    real_vv=[]\n",
    "    pre_vv=[]\n",
    "    for t in range(n_step):\n",
    "        tmp=y_test[t].reshape((rs,rs, channel))\n",
    "        xx=np.argwhere(False==np.isnan(tmp))[:,0]\n",
    "        yy=np.argwhere(False==np.isnan(tmp))[:,1]\n",
    "        real_vv.append(tmp[xx,yy])\n",
    "        pre_vv.append(pred[t,xx,yy])\n",
    "\n",
    "    real_vv=np.array(real_vv)\n",
    "    pre_vv=np.array(pre_vv)\n",
    "    print(real_vv.shape)\n",
    "    print(pre_vv.shape)\n",
    "\n",
    "    for i in range(14):\n",
    "        rmse=np.sqrt(mean_squared_error(real_vv[i],pre_vv[i]))\n",
    "        print(i+1,\" : \",'Test RMSE: %.3f'%rmse)"
   ]
  },
  {
   "cell_type": "code",
   "execution_count": null,
   "metadata": {},
   "outputs": [],
   "source": [
    "---"
   ]
  },
  {
   "cell_type": "code",
   "execution_count": null,
   "metadata": {},
   "outputs": [],
   "source": [
    "model = seq\n",
    "m_max=300\n",
    "\n",
    "X_test=test[-n_step:,:,:]\n",
    "X_test=X_test.reshape((1,12, rs, rs, 1))\n",
    "y_test=cimdata[-n_step:,:,:]\n",
    "print(X_test.shape)\n",
    "print(y_test.shape)\n",
    "\n",
    "#prediction\n",
    "pred =model.predict(X_test)\n",
    "pred*=m_max ###########inverse scailing\n",
    "print(pred.shape)\n",
    "pred=pred.reshape(n_step,rs,rs)\n",
    "\n",
    "real_vv=[]\n",
    "pre_vv=[]\n",
    "for t in range(n_step):\n",
    "    tmp=y_test[t].reshape((rs,rs))\n",
    "    xx=np.argwhere(False==np.isnan(tmp))[:,0]\n",
    "    yy=np.argwhere(False==np.isnan(tmp))[:,1]\n",
    "    real_vv.append(tmp[xx,yy])\n",
    "    pre_vv.append(pred[t,xx,yy])\n",
    "\n",
    "real_vv=np.array(real_vv)\n",
    "pre_vv=np.array(pre_vv)\n",
    "print(real_vv.shape)\n",
    "print(pre_vv.shape)\n",
    "\n",
    "for i in range(12):\n",
    "    rmse=np.sqrt(mean_squared_error(real_vv[i],pre_vv[i]))\n",
    "    print(i+1,\" : \",'Test RMSE: %.3f'%rmse)"
   ]
  },
  {
   "cell_type": "code",
   "execution_count": null,
   "metadata": {},
   "outputs": [],
   "source": [
    "image10.shape"
   ]
  },
  {
   "cell_type": "code",
   "execution_count": null,
   "metadata": {},
   "outputs": [],
   "source": [
    "n = image10.shape[0]\n",
    "rs = 32\n",
    "n_step = 14\n",
    "\n",
    "n_test = n_step * 2\n",
    "n_train = n - n_test\n",
    "\n",
    "train = image10[:n_train,:,:]\n",
    "test = image10[n_train:,:,:]\n",
    "\n",
    "print(train.shape)\n",
    "print(test.shape)"
   ]
  },
  {
   "cell_type": "code",
   "execution_count": null,
   "metadata": {},
   "outputs": [],
   "source": [
    "X_train = []\n",
    "y_train = []\n",
    "for i in range(n_step,n_train-n_step):\n",
    "    X_train.append(train[i-n_step:i, :,:])\n",
    "    y_train.append(train[i:i+n_step, :,:])\n",
    "X_train, y_train = np.array(X_train), np.array(y_train)\n",
    "\n",
    "print(X_train.shape)\n",
    "print(y_train.shape)"
   ]
  },
  {
   "cell_type": "code",
   "execution_count": null,
   "metadata": {},
   "outputs": [],
   "source": [
    "channel = image10.shape[3]"
   ]
  },
  {
   "cell_type": "code",
   "execution_count": null,
   "metadata": {},
   "outputs": [],
   "source": [
    "seq = get_model(0, channel)"
   ]
  },
  {
   "cell_type": "code",
   "execution_count": null,
   "metadata": {},
   "outputs": [],
   "source": [
    "seq.fit(X_train, y_train, epochs = 50, batch_size = 32)"
   ]
  },
  {
   "cell_type": "code",
   "execution_count": null,
   "metadata": {},
   "outputs": [],
   "source": [
    "seq.save('seq_image10.h5')"
   ]
  },
  {
   "cell_type": "markdown",
   "metadata": {},
   "source": [
    "#### Result"
   ]
  },
  {
   "cell_type": "code",
   "execution_count": null,
   "metadata": {},
   "outputs": [],
   "source": [
    "model = seq\n",
    "m_max=300\n",
    "\n",
    "X_test=test[-n_step:,:,:]\n",
    "X_test=X_test.reshape((1, 14, rs, rs, channel))\n",
    "# y_test=cimdata[-n_step:,:,:]\n",
    "print(X_test.shape)\n",
    "# print(y_test.shape)\n",
    "\n",
    "#prediction\n",
    "pred =model.predict(X_test)\n",
    "pred*=m_max ###########inverse scailing\n",
    "print(pred.shape)\n",
    "pred=pred.reshape(n_step, rs, rs, channel)\n",
    "\n",
    "real_vv=[]\n",
    "pre_vv=[]\n",
    "for t in range(n_step):\n",
    "    tmp=y_test[t].reshape((rs, rs, channel))\n",
    "    xx=np.argwhere(False==np.isnan(tmp))[:,0]\n",
    "    yy=np.argwhere(False==np.isnan(tmp))[:,1]\n",
    "    real_vv.append(tmp[xx,yy])\n",
    "    pre_vv.append(pred[t,xx,yy])\n",
    "\n",
    "real_vv=np.array(real_vv)\n",
    "pre_vv=np.array(pre_vv)\n",
    "print(real_vv.shape)\n",
    "print(pre_vv.shape)\n",
    "\n",
    "for i in range(12):\n",
    "    rmse=np.sqrt(mean_squared_error(real_vv[i],pre_vv[i]))\n",
    "    print(i+1,\" : \",'Test RMSE: %.3f'%rmse)"
   ]
  },
  {
   "cell_type": "code",
   "execution_count": null,
   "metadata": {},
   "outputs": [],
   "source": [
    "train=train.reshape((train.shape[0],n_step,rs,rs,45))\n",
    "print(train.shape)\n",
    "test=test.reshape((test.shape[0],rs,rs,1))\n",
    "print(test.shape)"
   ]
  },
  {
   "cell_type": "code",
   "execution_count": null,
   "metadata": {},
   "outputs": [],
   "source": [
    "---\n",
    "# (n_frames, width, height, channels) and returns a movie"
   ]
  },
  {
   "cell_type": "markdown",
   "metadata": {},
   "source": [
    "(17484, 12, 50, 50)\n",
    "(17484, 1, 50, 50)\n",
    "\n",
    "(17484, 12, 50, 50, 1)\n",
    "(17484, 50, 50, 1)"
   ]
  },
  {
   "cell_type": "code",
   "execution_count": null,
   "metadata": {},
   "outputs": [],
   "source": [
    "X_train=X_train.reshape((X_train.shape[0],14,256,256,45))\n",
    "print(X_train.shape)\n",
    "y_train=y_train3.reshape((y_train.shape[0],256,256,45))\n",
    "print(y_train.shape)"
   ]
  },
  {
   "cell_type": "code",
   "execution_count": null,
   "metadata": {},
   "outputs": [],
   "source": [
    "seq = get_model(0, image1.shape[2])"
   ]
  },
  {
   "cell_type": "code",
   "execution_count": null,
   "metadata": {},
   "outputs": [],
   "source": [
    "seq.summary()"
   ]
  },
  {
   "cell_type": "code",
   "execution_count": null,
   "metadata": {},
   "outputs": [],
   "source": [
    "history = seq.fit(noisy_movies[:1000], shifted_movies[:1000], batch_size=10,\n",
    "        epochs=50, validation_split=0.05)"
   ]
  },
  {
   "cell_type": "code",
   "execution_count": null,
   "metadata": {},
   "outputs": [],
   "source": [
    "model_dir = './model'\n",
    "if not os.path.exists(model_dir):\n",
    "    os.mkdir(model_dir)\n",
    "\n",
    "model_path = model_dir + '/covid%d.h5' % number\n",
    "seq.save(model_path)"
   ]
  },
  {
   "cell_type": "code",
   "execution_count": null,
   "metadata": {},
   "outputs": [],
   "source": [
    "print(\"정확도 : %.4f\" % (model.evaluate()[1]))\n",
    "print(\"손실 : %.4f\" % (model.evaluate()[0]))"
   ]
  }
 ],
 "metadata": {
  "kernelspec": {
   "display_name": "Python 3",
   "language": "python",
   "name": "python3"
  },
  "language_info": {
   "codemirror_mode": {
    "name": "ipython",
    "version": 3
   },
   "file_extension": ".py",
   "mimetype": "text/x-python",
   "name": "python",
   "nbconvert_exporter": "python",
   "pygments_lexer": "ipython3",
   "version": "3.7.7"
  }
 },
 "nbformat": 4,
 "nbformat_minor": 4
}
