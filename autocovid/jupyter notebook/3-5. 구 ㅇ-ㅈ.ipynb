{
 "cells": [
  {
   "cell_type": "markdown",
   "metadata": {},
   "source": [
    "## 양천 - 중랑"
   ]
  },
  {
   "cell_type": "code",
   "execution_count": 1,
   "metadata": {},
   "outputs": [],
   "source": [
    "import sys\n",
    "import os\n",
    "from pathlib import Path\n",
    "from os import listdir\n",
    "from os.path import isfile, join\n",
    "\n",
    "root = Path(os.getcwd()).parent\n",
    "sys.path.append(str(Path(os.getcwd()).parent))"
   ]
  },
  {
   "cell_type": "code",
   "execution_count": 2,
   "metadata": {},
   "outputs": [],
   "source": [
    "from bs4 import BeautifulSoup\n",
    "from src.parser import YeongdeungpoParser1\n",
    "from src.parser import YongsanParser1\n",
    "from src.parser import EunpyeongParser1\n",
    "from src.parser import JongnoParser1\n",
    "from src.parser import JungParser1\n",
    "from src.parser import JungnangParser1, JungnangParser2\n",
    "import requests\n",
    "import pandas as pd"
   ]
  },
  {
   "cell_type": "code",
   "execution_count": 3,
   "metadata": {},
   "outputs": [],
   "source": [
    "pd.set_option('display.max_columns', None)\n",
    "pd.set_option('display.width', None)\n",
    "pd.set_option('display.max_colwidth', -1)\n",
    "pd.set_option('display.max_rows', None)"
   ]
  },
  {
   "cell_type": "markdown",
   "metadata": {},
   "source": [
    "### 양천\n",
    "html 없음"
   ]
  },
  {
   "cell_type": "markdown",
   "metadata": {},
   "source": [
    "### 영등포\n",
    "html 전부 영등포구 홈페이지"
   ]
  },
  {
   "cell_type": "code",
   "execution_count": 10,
   "metadata": {
    "scrolled": false
   },
   "outputs": [
    {
     "name": "stdout",
     "output_type": "stream",
     "text": [
      "0528영등포.html\n",
      "0827영등포.html\n",
      "0831영등포.html\n",
      "0903영등포.html\n"
     ]
    }
   ],
   "source": [
    "'''\n",
    "url = ''\n",
    "\n",
    "files1 = ['0528영등포.html', '0827영등포.html', '0831영등포.html', '0903영등포.html']\n",
    "\n",
    "yeongdeungpo_path1 = join(root, 'new_dataset', 'yeongdeungpo')\n",
    "\n",
    "saving_path1 = join(root, 'new_dataset', 'extracted', 'yeongdeungpo1.csv')\n",
    "\n",
    "yeongdeungpo_parser1 = YeongdeungpoParser1(url, 'notice')\n",
    "\n",
    "yeongdeungpo_parser1.parse_and_save(files1, yeongdeungpo_path1, saving_path1)\n",
    "'''"
   ]
  },
  {
   "cell_type": "markdown",
   "metadata": {},
   "source": [
    "### 용산\n",
    "html 전부 용산구 홈페이지"
   ]
  },
  {
   "cell_type": "code",
   "execution_count": 5,
   "metadata": {
    "scrolled": true
   },
   "outputs": [
    {
     "data": {
      "text/plain": [
       "\"\\nurl = ''\\n\\nfiles1 = ['0827용산.html', '0831용산.html', '0903용산.html']\\n\\nyongsan_path1 = join(root, 'new_dataset', 'yongsan')\\n\\nsaving_path1 = join(root, 'new_dataset', 'extracted', 'yongsan1.csv')\\n\\nyongsan_parser1 = YongsanParser1(url, 'coronaV-state-table')\\n\\nyongsan_parser1.parse_and_save(files1, yongsan_path1, saving_path1)\\n\""
      ]
     },
     "execution_count": 5,
     "metadata": {},
     "output_type": "execute_result"
    }
   ],
   "source": [
    "'''\n",
    "url = ''\n",
    "\n",
    "files1 = ['0827용산.html', '0831용산.html', '0903용산.html']\n",
    "\n",
    "yongsan_path1 = join(root, 'new_dataset', 'yongsan')\n",
    "\n",
    "saving_path1 = join(root, 'new_dataset', 'extracted', 'yongsan1.csv')\n",
    "\n",
    "yongsan_parser1 = YongsanParser1(url, 'coronaV-state-table')\n",
    "\n",
    "yongsan_parser1.parse_and_save(files1, yongsan_path1, saving_path1)\n",
    "'''"
   ]
  },
  {
   "cell_type": "markdown",
   "metadata": {},
   "source": [
    "### 은평\n",
    "html 전부 은평구 홈페이지"
   ]
  },
  {
   "cell_type": "code",
   "execution_count": 6,
   "metadata": {
    "scrolled": true
   },
   "outputs": [
    {
     "data": {
      "text/plain": [
       "\"\\nurl = ''\\n\\nfiles1 = ['0827은평.html', '0831은평.html', '0903은평.html', '0903은평타지역.html']\\n\\neunpyeong_path1 = join(root, 'new_dataset', 'eunpyeong')\\n\\nsaving_path1 = join(root, 'new_dataset', 'extracted', 'eunpyeong1.csv')\\n\\neunpyeong_parser1 = EunpyeongParser1(url, 'a14_group')\\n\\neunpyeong_parser1.parse_and_save(files1, eunpyeong_path1, saving_path1)\\n\""
      ]
     },
     "execution_count": 6,
     "metadata": {},
     "output_type": "execute_result"
    }
   ],
   "source": [
    "'''\n",
    "url = ''\n",
    "\n",
    "files1 = ['0827은평.html', '0831은평.html', '0903은평.html', '0903은평타지역.html']\n",
    "\n",
    "eunpyeong_path1 = join(root, 'new_dataset', 'eunpyeong')\n",
    "\n",
    "saving_path1 = join(root, 'new_dataset', 'extracted', 'eunpyeong1.csv')\n",
    "\n",
    "eunpyeong_parser1 = EunpyeongParser1(url, 'a14_group')\n",
    "\n",
    "eunpyeong_parser1.parse_and_save(files1, eunpyeong_path1, saving_path1)\n",
    "'''"
   ]
  },
  {
   "cell_type": "markdown",
   "metadata": {},
   "source": [
    "### 종로\n",
    "html 전부 종로구 홈페이지"
   ]
  },
  {
   "cell_type": "code",
   "execution_count": 7,
   "metadata": {},
   "outputs": [
    {
     "data": {
      "text/plain": [
       "\"\\nurl = ''\\n\\nfiles1 = ['0827종로.html', '0827종로타지역.html', '0831종로.html', '0903종로.html']\\n\\njongno_path1 = join(root, 'new_dataset', 'jongno')\\n\\nsaving_path1 = join(root, 'new_dataset', 'extracted', 'jongno1.csv')\\n\\njongno_parser1 = JongnoParser1(url, 'coronal-popup-table')\\n\\njongno_parser1.parse_and_save(files1, jongno_path1, saving_path1)\\n\""
      ]
     },
     "execution_count": 7,
     "metadata": {},
     "output_type": "execute_result"
    }
   ],
   "source": [
    "'''\n",
    "url = ''\n",
    "\n",
    "files1 = ['0827종로.html', '0827종로타지역.html', '0831종로.html', '0903종로.html']\n",
    "\n",
    "jongno_path1 = join(root, 'new_dataset', 'jongno')\n",
    "\n",
    "saving_path1 = join(root, 'new_dataset', 'extracted', 'jongno1.csv')\n",
    "\n",
    "jongno_parser1 = JongnoParser1(url, 'coronal-popup-table')\n",
    "\n",
    "jongno_parser1.parse_and_save(files1, jongno_path1, saving_path1)\n",
    "'''"
   ]
  },
  {
   "cell_type": "markdown",
   "metadata": {},
   "source": [
    "### 중\n",
    "html 전부 중구 홈페이지"
   ]
  },
  {
   "cell_type": "code",
   "execution_count": 8,
   "metadata": {},
   "outputs": [
    {
     "data": {
      "text/plain": [
       "\"\\nurl = ''\\n\\nfiles1 = ['0827중1.html', '0827중2.html', '0827중타지역.html', '0831중.html', '0903중.html']\\n\\njung_path1 = join(root, 'new_dataset', 'jung')\\n\\nsaving_path1 = join(root, 'new_dataset', 'extracted', 'jung1.csv')\\n\\njung_parser1 = JungParser1(url, 'board_welfare')\\n\\njung_parser1.parse_and_save(files1, jung_path1, saving_path1)\\n\""
      ]
     },
     "execution_count": 8,
     "metadata": {},
     "output_type": "execute_result"
    }
   ],
   "source": [
    "'''\n",
    "url = ''\n",
    "\n",
    "files1 = ['0827중1.html', '0827중2.html', '0827중타지역.html', '0831중.html', '0903중.html']\n",
    "\n",
    "jung_path1 = join(root, 'new_dataset', 'jung')\n",
    "\n",
    "saving_path1 = join(root, 'new_dataset', 'extracted', 'jung1.csv')\n",
    "\n",
    "jung_parser1 = JungParser1(url, 'board_welfare')\n",
    "\n",
    "jung_parser1.parse_and_save(files1, jung_path1, saving_path1)\n",
    "'''"
   ]
  },
  {
   "cell_type": "markdown",
   "metadata": {},
   "source": [
    "### 중랑\n",
    "html 전부 중랑구 홈페이지"
   ]
  },
  {
   "cell_type": "code",
   "execution_count": 9,
   "metadata": {
    "scrolled": false
   },
   "outputs": [
    {
     "data": {
      "text/plain": [
       "\"\\nurl = ''\\n\\nfiles1 = ['0827성북245번_서울중랑동선.html', '0827성북58번_서울중랑동선.html']\\nfiles2 = ['0827중랑104번~108번.html', '0827중랑109번~114번.html',\\n         '0827중랑115번~120번_역학조사중.html', '0827중랑121번~125번.html',\\n         '0827중랑60번~68번.html', '0827중랑67번~68번.html',\\n         '0827중랑69번~77번.html', '0827중랑78번~81번.html',\\n         '0827중랑89번~90번.html', '0831중랑129번~133번.html', \\n         '0827중랑91번~93번.html', '0827중랑94번~95번.html',\\n         '0827중랑96번~103번.html', '0827중랑99번~100번.html',\\n         '0831중랑115번120번.html', '0831중랑126번~128번.html',\\n         '0831중랑139번~141번_역학조사중.html', '0903중랑139번~141번.html',\\n         '0903중랑142번~147번.html', '0903중랑148번~153번.html',\\n         '0827중랑51번~54번.html', '0827중랑55번~59번.html',\\n         '0827중랑46번.html','0903중랑154번~156번.html',\\n          '0827중랑47번~50번.html', '0827중랑82번~88번.html',\\n          '0831중랑134번~138번.html']\\nfiles3 = ['0827_2.html', '0827광진31번_서울중랑동선.html',\\n          '0827광진33번35번_서울중랑동선.html', '0827노원57번_서울중랑동선.html',\\n          '0827노원n번_서울중랑동선.html', '0827도봉79번_서울중랑동선.html',\\n          '0827성북245번_서울중랑동선.html', '0827성북58번_서울중랑동선.html',\\n          '0827은평74번_서울중랑동선.html', '0831_4.html',\\n          '0831광진78번_서울중랑동선.html', '0831노원185번_서울중랑동선.html',\\n          '0831노원n번_서울중랑동선.html', '0831도봉114번_서울중랑동선.html',\\n          '0831동대문110번_서울중랑동선.html', '0831종로63번_서울중랑동선.html',\\n          '0831종로n번_서울중랑동선.html']\\n\\njungnang_path1 = join(root, 'new_dataset', 'jungnang')\\njungnang_path2 = join(root, 'new_dataset', 'jungnang', 'others')\\n\\nsaving_path1 = join(root, 'new_dataset', 'extracted', 'jungnang1.csv')\\nsaving_path2 = join(root, 'new_dataset', 'extracted', 'jungnang2.csv')\\nsaving_path3 = join(root, 'new_dataset', 'extracted', 'jungnang3.csv')\\n\\njungnang_parser1 = JungnangParser1(url, 'dbdata')\\njungnang_parser2 = JungnangParser2(url, 'dbdata')\\n\\njungnang_parser1.parse_and_save(files1, jungnang_path1, saving_path1)\\njungnang_parser2.parse_and_save(files2, jungnang_path1, saving_path2)\\njungnang_parser2.parse_and_save(files3, jungnang_path2, saving_path3)\\n\\n# for i, file in enumerate(files3):\\n#     print(file)\\n#     file_path = join(jungnang_path2, file)\\n#     content = jungnang_parser2.read_html(file_path)\\n#     table = jungnang_parser2.extract_table(content)\\n#     patients = jungnang_parser2.extract_info(table)\\n# #     break\\n    \\n# patients\\n\""
      ]
     },
     "execution_count": 9,
     "metadata": {},
     "output_type": "execute_result"
    }
   ],
   "source": [
    "'''\n",
    "url = ''\n",
    "\n",
    "files1 = ['0827성북245번_서울중랑동선.html', '0827성북58번_서울중랑동선.html']\n",
    "files2 = ['0827중랑104번~108번.html', '0827중랑109번~114번.html',\n",
    "         '0827중랑115번~120번_역학조사중.html', '0827중랑121번~125번.html',\n",
    "         '0827중랑60번~68번.html', '0827중랑67번~68번.html',\n",
    "         '0827중랑69번~77번.html', '0827중랑78번~81번.html',\n",
    "         '0827중랑89번~90번.html', '0831중랑129번~133번.html', \n",
    "         '0827중랑91번~93번.html', '0827중랑94번~95번.html',\n",
    "         '0827중랑96번~103번.html', '0827중랑99번~100번.html',\n",
    "         '0831중랑115번120번.html', '0831중랑126번~128번.html',\n",
    "         '0831중랑139번~141번_역학조사중.html', '0903중랑139번~141번.html',\n",
    "         '0903중랑142번~147번.html', '0903중랑148번~153번.html',\n",
    "         '0827중랑51번~54번.html', '0827중랑55번~59번.html',\n",
    "         '0827중랑46번.html','0903중랑154번~156번.html',\n",
    "          '0827중랑47번~50번.html', '0827중랑82번~88번.html',\n",
    "          '0831중랑134번~138번.html']\n",
    "files3 = ['0827_2.html', '0827광진31번_서울중랑동선.html',\n",
    "          '0827광진33번35번_서울중랑동선.html', '0827노원57번_서울중랑동선.html',\n",
    "          '0827노원n번_서울중랑동선.html', '0827도봉79번_서울중랑동선.html',\n",
    "          '0827성북245번_서울중랑동선.html', '0827성북58번_서울중랑동선.html',\n",
    "          '0827은평74번_서울중랑동선.html', '0831_4.html',\n",
    "          '0831광진78번_서울중랑동선.html', '0831노원185번_서울중랑동선.html',\n",
    "          '0831노원n번_서울중랑동선.html', '0831도봉114번_서울중랑동선.html',\n",
    "          '0831동대문110번_서울중랑동선.html', '0831종로63번_서울중랑동선.html',\n",
    "          '0831종로n번_서울중랑동선.html']\n",
    "\n",
    "jungnang_path1 = join(root, 'new_dataset', 'jungnang')\n",
    "jungnang_path2 = join(root, 'new_dataset', 'jungnang', 'others')\n",
    "\n",
    "saving_path1 = join(root, 'new_dataset', 'extracted', 'jungnang1.csv')\n",
    "saving_path2 = join(root, 'new_dataset', 'extracted', 'jungnang2.csv')\n",
    "saving_path3 = join(root, 'new_dataset', 'extracted', 'jungnang3.csv')\n",
    "\n",
    "jungnang_parser1 = JungnangParser1(url, 'dbdata')\n",
    "jungnang_parser2 = JungnangParser2(url, 'dbdata')\n",
    "\n",
    "jungnang_parser1.parse_and_save(files1, jungnang_path1, saving_path1)\n",
    "jungnang_parser2.parse_and_save(files2, jungnang_path1, saving_path2)\n",
    "jungnang_parser2.parse_and_save(files3, jungnang_path2, saving_path3)\n",
    "\n",
    "# for i, file in enumerate(files3):\n",
    "#     print(file)\n",
    "#     file_path = join(jungnang_path2, file)\n",
    "#     content = jungnang_parser2.read_html(file_path)\n",
    "#     table = jungnang_parser2.extract_table(content)\n",
    "#     patients = jungnang_parser2.extract_info(table)\n",
    "# #     break\n",
    "    \n",
    "# patients\n",
    "'''"
   ]
  },
  {
   "cell_type": "code",
   "execution_count": null,
   "metadata": {},
   "outputs": [],
   "source": []
  }
 ],
 "metadata": {
  "kernelspec": {
   "display_name": "Python 3",
   "language": "python",
   "name": "python3"
  },
  "language_info": {
   "codemirror_mode": {
    "name": "ipython",
    "version": 3
   },
   "file_extension": ".py",
   "mimetype": "text/x-python",
   "name": "python",
   "nbconvert_exporter": "python",
   "pygments_lexer": "ipython3",
   "version": "3.7.4"
  }
 },
 "nbformat": 4,
 "nbformat_minor": 2
}
