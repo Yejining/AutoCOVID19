{
 "cells": [
  {
   "cell_type": "markdown",
   "metadata": {},
   "source": [
    "## 강남-금천"
   ]
  },
  {
   "cell_type": "code",
   "execution_count": 1,
   "metadata": {},
   "outputs": [],
   "source": [
    "import sys\n",
    "import os\n",
    "from pathlib import Path\n",
    "from os import listdir\n",
    "from os.path import isfile, join\n",
    "\n",
    "root = Path(os.getcwd()).parent\n",
    "sys.path.append(str(Path(os.getcwd()).parent))"
   ]
  },
  {
   "cell_type": "code",
   "execution_count": 2,
   "metadata": {},
   "outputs": [],
   "source": [
    "from bs4 import BeautifulSoup\n",
    "from src.parser import GangnamParser1, GangnamParser2\n",
    "from src.parser import GangdongParser1, GangdongParser2\n",
    "from src.parser import GangbukParser1\n",
    "from src.parser import GangseoParser1, GangseoParser2, GangseoParser3, GangseoParser4, GangseoParser5\n",
    "from src.parser import GwanakParser1\n",
    "from src.parser import GuroParser1\n",
    "import requests\n",
    "import pandas as pd"
   ]
  },
  {
   "cell_type": "markdown",
   "metadata": {},
   "source": [
    "### 강남"
   ]
  },
  {
   "cell_type": "code",
   "execution_count": 3,
   "metadata": {
    "scrolled": false
   },
   "outputs": [
    {
     "data": {
      "text/plain": [
       "\"\\nurl = ''\\n\\ngangnam_path = os.path.join(root, 'new_dataset', 'gangnam')\\n\\nsaving_path1 = os.path.join(root, 'new_dataset', 'extracted', 'gangnam1.csv')\\nsaving_path2 = os.path.join(root, 'new_dataset', 'extracted', 'gangnam2.csv')\\nsaving_path3 = os.path.join(root, 'new_dataset', 'extracted', 'gangnam3.csv')\\n\\ngangnam_parser1 = GangnamParser1(url, 'tab-3')\\ngangnam_parser2 = GangnamParser2(url, 'tab-3')\\ngangnam_parser3 = GangnamParser2(url, 'tab-1')\\n\\nfiles1 = ['0512.html', '0528.html']\\nfiles2 = ['0827.html']\\nfiles3 = ['0831.html', '0903.html', '0903else.html']\\n\\ngangnam_parser1.parse_and_save(files1, gangnam_path, saving_path1)\\ngangnam_parser2.parse_and_save(files2, gangnam_path, saving_path2)\\ngangnam_parser3.parse_and_save(files3, gangnam_path, saving_path3)\\n\""
      ]
     },
     "execution_count": 3,
     "metadata": {},
     "output_type": "execute_result"
    }
   ],
   "source": [
    "'''\n",
    "url = ''\n",
    "\n",
    "gangnam_path = os.path.join(root, 'new_dataset', 'gangnam')\n",
    "\n",
    "saving_path1 = os.path.join(root, 'new_dataset', 'extracted', 'gangnam1.csv')\n",
    "saving_path2 = os.path.join(root, 'new_dataset', 'extracted', 'gangnam2.csv')\n",
    "saving_path3 = os.path.join(root, 'new_dataset', 'extracted', 'gangnam3.csv')\n",
    "\n",
    "gangnam_parser1 = GangnamParser1(url, 'tab-3')\n",
    "gangnam_parser2 = GangnamParser2(url, 'tab-3')\n",
    "gangnam_parser3 = GangnamParser2(url, 'tab-1')\n",
    "\n",
    "files1 = ['0512.html', '0528.html']\n",
    "files2 = ['0827.html']\n",
    "files3 = ['0831.html', '0903.html', '0903else.html']\n",
    "\n",
    "gangnam_parser1.parse_and_save(files1, gangnam_path, saving_path1)\n",
    "gangnam_parser2.parse_and_save(files2, gangnam_path, saving_path2)\n",
    "gangnam_parser3.parse_and_save(files3, gangnam_path, saving_path3)\n",
    "'''"
   ]
  },
  {
   "cell_type": "markdown",
   "metadata": {},
   "source": [
    "### 강동"
   ]
  },
  {
   "cell_type": "code",
   "execution_count": 4,
   "metadata": {},
   "outputs": [],
   "source": [
    "n_0816_1 = [14993, 14990, 15012, 15022]\n",
    "n_0817 = [14991, 15318]\n",
    "n_0818 = [15299, 15508]\n",
    "n_0819 = [15515, 15515, 15845, 15704]\n",
    "n_0820 = [15691, 15670, 15884, 15869, 16353]\n",
    "n_0821 = [15656]\n",
    "n_0822_1 = [16034, 16045, 16343, 16355]\n",
    "n_0822_2 = [15506, 15662, 16037, 16047]\n",
    "n_0823 = [16346, 16337, 16414, 0, 0, 0, 0]\n",
    "n_0824 = [15940, 16030, 16300, 16353]\n",
    "n_0825 = [16340, 16776]\n",
    "n_0826 = [16334, 16345, 16336, 16344, 16656, 16991, 17272, 17242]\n",
    "n_0827 = [17257, 17218, 17265, 17267, 17292, 17296, 19889, 17762, 0]\n",
    "\n",
    "numbers = [n_0816_1, n_0817, n_0818, n_0819, n_0820,\n",
    "          n_0821, n_0822_1, n_0822_2, n_0823,\n",
    "          n_0824, n_0825, n_0826, n_0827]"
   ]
  },
  {
   "cell_type": "code",
   "execution_count": 5,
   "metadata": {
    "scrolled": false
   },
   "outputs": [
    {
     "data": {
      "text/plain": [
       "\"\\nurl = ''\\n\\ngangdong_path1 = os.path.join(root, 'new_dataset', 'gangdong')\\ngangdong_path2 = os.path.join(gangdong_path1, 'blog')\\n\\nsaving_path1 = os.path.join(root, 'new_dataset', 'extracted', 'gangdong1.csv')\\nsaving_path2 = os.path.join(root, 'new_dataset', 'extracted', 'gangdong2.csv')\\n\\ngangdong_parser1 = GangdongParser1(url, 'responsive_table')\\ngangdong_parser2 = GangdongParser2(url, 'se-table-content')\\n\\nfiles1 = ['0512.html']\\nfiles2 = ['0816_1.html', '0817.html', '0818.html', '0819.html', '0820.html',\\n          '0821.html', '0822_1.html', '0822_2.html', '0823.html',\\n          '0824.html', '0825.html', '0826.html', '0827.html']\\nfiles3 = ['0831.html', '0903.html']\\n\\ngangdong_parser1.parse_and_save(files1, gangdong_path1, saving_path1)\\ngangdong_parser2.pass_ids(numbers)\\ngangdong_parser2.parse_and_save(files2, gangdong_path2, saving_path2)\\n\""
      ]
     },
     "execution_count": 5,
     "metadata": {},
     "output_type": "execute_result"
    }
   ],
   "source": [
    "'''\n",
    "url = ''\n",
    "\n",
    "gangdong_path1 = os.path.join(root, 'new_dataset', 'gangdong')\n",
    "gangdong_path2 = os.path.join(gangdong_path1, 'blog')\n",
    "\n",
    "saving_path1 = os.path.join(root, 'new_dataset', 'extracted', 'gangdong1.csv')\n",
    "saving_path2 = os.path.join(root, 'new_dataset', 'extracted', 'gangdong2.csv')\n",
    "\n",
    "gangdong_parser1 = GangdongParser1(url, 'responsive_table')\n",
    "gangdong_parser2 = GangdongParser2(url, 'se-table-content')\n",
    "\n",
    "files1 = ['0512.html']\n",
    "files2 = ['0816_1.html', '0817.html', '0818.html', '0819.html', '0820.html',\n",
    "          '0821.html', '0822_1.html', '0822_2.html', '0823.html',\n",
    "          '0824.html', '0825.html', '0826.html', '0827.html']\n",
    "files3 = ['0831.html', '0903.html']\n",
    "\n",
    "gangdong_parser1.parse_and_save(files1, gangdong_path1, saving_path1)\n",
    "gangdong_parser2.pass_ids(numbers)\n",
    "gangdong_parser2.parse_and_save(files2, gangdong_path2, saving_path2)\n",
    "'''"
   ]
  },
  {
   "cell_type": "markdown",
   "metadata": {},
   "source": [
    "### 강북"
   ]
  },
  {
   "cell_type": "code",
   "execution_count": 6,
   "metadata": {
    "scrolled": false
   },
   "outputs": [
    {
     "data": {
      "text/plain": [
       "\"\\nurl = ''\\n\\ngangbuk_path1 = join(root, 'new_dataset', 'gangbuk')\\nsaving_path1 = join(root, 'new_dataset', 'extracted', 'gangbuk1.csv')\\ngangbuk_parser1 = GangbukParser1(url, 'routebox')\\n\\nfile_list = [name for name in listdir(gangbuk_path1) if isfile(join(gangbuk_path1, name))]\\ngangbuk_parser1.parse_and_save(file_list, gangbuk_path1, saving_path1)\\n\""
      ]
     },
     "execution_count": 6,
     "metadata": {},
     "output_type": "execute_result"
    }
   ],
   "source": [
    "'''\n",
    "url = ''\n",
    "\n",
    "gangbuk_path1 = join(root, 'new_dataset', 'gangbuk')\n",
    "saving_path1 = join(root, 'new_dataset', 'extracted', 'gangbuk1.csv')\n",
    "gangbuk_parser1 = GangbukParser1(url, 'routebox')\n",
    "\n",
    "file_list = [name for name in listdir(gangbuk_path1) if isfile(join(gangbuk_path1, name))]\n",
    "gangbuk_parser1.parse_and_save(file_list, gangbuk_path1, saving_path1)\n",
    "'''"
   ]
  },
  {
   "cell_type": "markdown",
   "metadata": {},
   "source": [
    "### 강서"
   ]
  },
  {
   "cell_type": "code",
   "execution_count": 7,
   "metadata": {
    "scrolled": false
   },
   "outputs": [
    {
     "data": {
      "text/plain": [
       "\"\\nurl = ''\\n\\nfiles1 = ['0512.html']\\nfiles2 = ['0827_113-114.html', '0827_115.html', '0827_116.html', '0827_117.html',\\n          '0827_118.html', '0827_119.html', '0831_213-217.html']\\nfiles3 = ['0827_120-125.html', '0827_126-127.html', '0827_128-129.html', '0827_130-131.html', \\n          '0827_132.html', '0827_133.html', '0827_134.html', '0827_135.html', '0827_136.html',\\n          '0827_137-138.html', '0827_139-140.html', '0827_141-143.html', '0827_144-145.html', \\n          '0827_146-150.html', '0827_151-154.html', '0827_155-160.html', '0827_161-165.html', \\n          '0827_166-167.html', '0827_168.html', '0827_169-174.html', '0827_175.html',\\n          '0827_176.html', '0827_177-178.html', '0827_179-187.html']\\nfiles4 = ['0827_188-196.html', '0827_197-199.html', '0827_200-202.html', '0831_203-205.html', \\n          '0831_207-210.html', '0831_211-212.html', '0903_218-224.html', '0903_225.html', \\n          '0903_226-228.html', '0903_229-232.html']\\n\\nfiles5 = ['0831_206.html']\\n\\ngangseo_path1 = join(root, 'new_dataset', 'gangseo')\\n\\nsaving_path1 = join(root, 'new_dataset', 'extracted', 'gangseo1.csv')\\nsaving_path2 = join(root, 'new_dataset', 'extracted', 'gangseo2.csv')\\nsaving_path3 = join(root, 'new_dataset', 'extracted', 'gangseo3.csv')\\nsaving_path4 = join(root, 'new_dataset', 'extracted', 'gangseo4.csv')\\nsaving_path5 = join(root, 'new_dataset', 'extracted', 'gangseo5.csv')\\n\\ngangseo_parser1 = GangseoParser1(url, 'tb1')\\ngangseo_parser2 = GangseoParser2(url, 'bbsview bbsdesign-living')\\ngangseo_parser3 = GangseoParser3(url, 'bbsview bbsdesign-living')\\ngangseo_parser4 = GangseoParser4(url, 'bbsview bbsdesign-living')\\ngangseo_parser5 = GangseoParser5(url, 'bbsview bbsdesign-living')\\n\\ngangseo_parser1.parse_and_save(files1, gangseo_path1, saving_path1)\\ngangseo_parser2.parse_and_save(files2, gangseo_path1, saving_path2)\\ngangseo_parser3.parse_and_save(files3, gangseo_path1, saving_path3)\\ngangseo_parser4.parse_and_save(files4, gangseo_path1, saving_path4)\\ngangseo_parser5.parse_and_save(files5, gangseo_path1, saving_path5)\\n\""
      ]
     },
     "execution_count": 7,
     "metadata": {},
     "output_type": "execute_result"
    }
   ],
   "source": [
    "'''\n",
    "url = ''\n",
    "\n",
    "files1 = ['0512.html']\n",
    "files2 = ['0827_113-114.html', '0827_115.html', '0827_116.html', '0827_117.html',\n",
    "          '0827_118.html', '0827_119.html', '0831_213-217.html']\n",
    "files3 = ['0827_120-125.html', '0827_126-127.html', '0827_128-129.html', '0827_130-131.html', \n",
    "          '0827_132.html', '0827_133.html', '0827_134.html', '0827_135.html', '0827_136.html',\n",
    "          '0827_137-138.html', '0827_139-140.html', '0827_141-143.html', '0827_144-145.html', \n",
    "          '0827_146-150.html', '0827_151-154.html', '0827_155-160.html', '0827_161-165.html', \n",
    "          '0827_166-167.html', '0827_168.html', '0827_169-174.html', '0827_175.html',\n",
    "          '0827_176.html', '0827_177-178.html', '0827_179-187.html']\n",
    "files4 = ['0827_188-196.html', '0827_197-199.html', '0827_200-202.html', '0831_203-205.html', \n",
    "          '0831_207-210.html', '0831_211-212.html', '0903_218-224.html', '0903_225.html', \n",
    "          '0903_226-228.html', '0903_229-232.html']\n",
    "\n",
    "files5 = ['0831_206.html']\n",
    "\n",
    "gangseo_path1 = join(root, 'new_dataset', 'gangseo')\n",
    "\n",
    "saving_path1 = join(root, 'new_dataset', 'extracted', 'gangseo1.csv')\n",
    "saving_path2 = join(root, 'new_dataset', 'extracted', 'gangseo2.csv')\n",
    "saving_path3 = join(root, 'new_dataset', 'extracted', 'gangseo3.csv')\n",
    "saving_path4 = join(root, 'new_dataset', 'extracted', 'gangseo4.csv')\n",
    "saving_path5 = join(root, 'new_dataset', 'extracted', 'gangseo5.csv')\n",
    "\n",
    "gangseo_parser1 = GangseoParser1(url, 'tb1')\n",
    "gangseo_parser2 = GangseoParser2(url, 'bbsview bbsdesign-living')\n",
    "gangseo_parser3 = GangseoParser3(url, 'bbsview bbsdesign-living')\n",
    "gangseo_parser4 = GangseoParser4(url, 'bbsview bbsdesign-living')\n",
    "gangseo_parser5 = GangseoParser5(url, 'bbsview bbsdesign-living')\n",
    "\n",
    "gangseo_parser1.parse_and_save(files1, gangseo_path1, saving_path1)\n",
    "gangseo_parser2.parse_and_save(files2, gangseo_path1, saving_path2)\n",
    "gangseo_parser3.parse_and_save(files3, gangseo_path1, saving_path3)\n",
    "gangseo_parser4.parse_and_save(files4, gangseo_path1, saving_path4)\n",
    "gangseo_parser5.parse_and_save(files5, gangseo_path1, saving_path5)\n",
    "'''"
   ]
  },
  {
   "cell_type": "markdown",
   "metadata": {},
   "source": [
    "### 관악\n",
    "- 전체 다 블로그\n",
    "- 동선 이미지 밑에 표 형식으로 동선 제공\n",
    "- 확진자 global id 알 수 없음\n",
    "- 저장 후 수정 작업 함"
   ]
  },
  {
   "cell_type": "code",
   "execution_count": 8,
   "metadata": {},
   "outputs": [
    {
     "data": {
      "text/plain": [
       "\"\\nurl = ''\\n\\nfiles1 = ['0827관악159', '0827관악162', '0827관악163']\\nfiles2 = ['0831관악172', '0903관악175', '0903관악178']\\n\\ngwanak_path1 = join(root, 'new_dataset', 'gwanak')\\n\\nsaving_path1 = join(root, 'new_dataset', 'extracted', 'gwanak1.csv')\\nsaving_path2 = join(root, 'new_dataset', 'extracted', 'gwanak2.csv')\\n\\ngwanak_parser1 = GwanakParser1(url, 'printPost1')\\n\\ngwanak_parser1.parse_and_save(files1, gwanak_path1, saving_path1)\\ngwanak_parser1.parse_and_save(files2, gwanak_path1, saving_path2)\\n\""
      ]
     },
     "execution_count": 8,
     "metadata": {},
     "output_type": "execute_result"
    }
   ],
   "source": [
    "'''\n",
    "url = ''\n",
    "\n",
    "files1 = ['0827관악159', '0827관악162', '0827관악163']\n",
    "files2 = ['0831관악172', '0903관악175', '0903관악178']\n",
    "\n",
    "gwanak_path1 = join(root, 'new_dataset', 'gwanak')\n",
    "\n",
    "saving_path1 = join(root, 'new_dataset', 'extracted', 'gwanak1.csv')\n",
    "saving_path2 = join(root, 'new_dataset', 'extracted', 'gwanak2.csv')\n",
    "\n",
    "gwanak_parser1 = GwanakParser1(url, 'printPost1')\n",
    "\n",
    "gwanak_parser1.parse_and_save(files1, gwanak_path1, saving_path1)\n",
    "gwanak_parser1.parse_and_save(files2, gwanak_path1, saving_path2)\n",
    "'''"
   ]
  },
  {
   "cell_type": "markdown",
   "metadata": {},
   "source": [
    "### 광진\n",
    "html 없음"
   ]
  },
  {
   "cell_type": "markdown",
   "metadata": {},
   "source": [
    "### 구로"
   ]
  },
  {
   "cell_type": "code",
   "execution_count": 9,
   "metadata": {},
   "outputs": [
    {
     "name": "stdout",
     "output_type": "stream",
     "text": [
      "0827구로.html\n",
      "0831구로.html\n",
      "0903구로.html\n"
     ]
    }
   ],
   "source": [
    "url = ''\n",
    "\n",
    "files1 = ['0827구로.html', '0831구로.html', '0903구로.html']\n",
    "\n",
    "guro_path1 = join(root, 'new_dataset', 'guro')\n",
    "\n",
    "saving_path1 = join(root, 'new_dataset', 'extracted', 'guro1.csv')\n",
    "\n",
    "guro_parser1 = GuroParser1(url, 'recruit')\n",
    "\n",
    "guro_parser1.parse_and_save(files1, guro_path1, saving_path1)"
   ]
  },
  {
   "cell_type": "markdown",
   "metadata": {},
   "source": [
    "### 금천\n",
    "html 없음"
   ]
  }
 ],
 "metadata": {
  "kernelspec": {
   "display_name": "Python 3",
   "language": "python",
   "name": "python3"
  },
  "language_info": {
   "codemirror_mode": {
    "name": "ipython",
    "version": 3
   },
   "file_extension": ".py",
   "mimetype": "text/x-python",
   "name": "python",
   "nbconvert_exporter": "python",
   "pygments_lexer": "ipython3",
   "version": "3.7.4"
  }
 },
 "nbformat": 4,
 "nbformat_minor": 2
}
