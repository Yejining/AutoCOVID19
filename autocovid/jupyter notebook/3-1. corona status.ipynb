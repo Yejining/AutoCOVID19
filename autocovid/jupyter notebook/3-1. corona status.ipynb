{
 "cells": [
  {
   "cell_type": "markdown",
   "metadata": {},
   "source": [
    "## 서울특별시 코로나19 현황\n",
    "https://www.seoul.go.kr/coronaV/coronaStatus.do"
   ]
  },
  {
   "cell_type": "code",
   "execution_count": 1,
   "metadata": {},
   "outputs": [],
   "source": [
    "import sys\n",
    "import os\n",
    "from pathlib import Path\n",
    "\n",
    "root = Path(os.getcwd()).parent.parent\n",
    "sys.path.append(str(root))"
   ]
  },
  {
   "cell_type": "code",
   "execution_count": 2,
   "metadata": {},
   "outputs": [],
   "source": [
    "from bs4 import BeautifulSoup\n",
    "from src.preprocess.parser import StatusParser\n",
    "import requests\n",
    "import pandas as pd"
   ]
  },
  {
   "cell_type": "code",
   "execution_count": 3,
   "metadata": {},
   "outputs": [],
   "source": [
    "url = 'https://www.seoul.go.kr/coronaV/coronaStatus.do'\n",
    "table_class = 'tstyle05 tstyleP status-datatable datatable-multi-row'"
   ]
  },
  {
   "cell_type": "markdown",
   "metadata": {},
   "source": [
    "### 사이트에서 현황 가져오고 저장"
   ]
  },
  {
   "cell_type": "code",
   "execution_count": 4,
   "metadata": {},
   "outputs": [],
   "source": [
    "parser = StatusParser(url, table_class)\n",
    "html_path = os.path.join(root, 'data', 'raw', 'status', 'corona_status.html')\n",
    "\n",
    "content = parser.request_status()\n",
    "parser.save_html(html_path, content)"
   ]
  },
  {
   "cell_type": "markdown",
   "metadata": {},
   "source": [
    "### 파일에 저장된 현황 가져와서 파싱 후 저장"
   ]
  },
  {
   "cell_type": "code",
   "execution_count": 5,
   "metadata": {},
   "outputs": [],
   "source": [
    "parser = StatusParser(url, table_class)\n",
    "content_path = os.path.join(root, 'data', 'raw', 'status', 'corona_status.html')\n",
    "content = parser.read_html(content_path)"
   ]
  },
  {
   "cell_type": "code",
   "execution_count": 6,
   "metadata": {},
   "outputs": [],
   "source": [
    "table = parser.extract_table(content)\n",
    "patient_info = parser.extract_info(table)\n",
    "info_path = os.path.join(root, 'data', 'extracted', 'corona_status.csv')\n",
    "parser.save_info(info_path, patient_info)"
   ]
  }
 ],
 "metadata": {
  "kernelspec": {
   "display_name": "Python 3",
   "language": "python",
   "name": "python3"
  },
  "language_info": {
   "codemirror_mode": {
    "name": "ipython",
    "version": 3
   },
   "file_extension": ".py",
   "mimetype": "text/x-python",
   "name": "python",
   "nbconvert_exporter": "python",
   "pygments_lexer": "ipython3",
   "version": "3.8.5"
  }
 },
 "nbformat": 4,
 "nbformat_minor": 2
}
