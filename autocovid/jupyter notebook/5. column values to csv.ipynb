{
 "cells": [
  {
   "cell_type": "markdown",
   "metadata": {},
   "source": [
    "## Column values to csv\n",
    "- `data\\extracted\\merged_route_final`에서 city, infection_case. type column values 파일로 따로 저장\n",
    "- 저장 목록\n",
    "  - `data\\checklist\\city_column.csv\n",
    "  - `data\\checklist\\infection_case_column.csv\n",
    "  - `data\\checklist\\type_case_column.csv"
   ]
  },
  {
   "cell_type": "code",
   "execution_count": 1,
   "metadata": {},
   "outputs": [],
   "source": [
    "import sys\n",
    "import os\n",
    "\n",
    "from os import listdir\n",
    "from os.path import isfile, join\n",
    "from pathlib import Path\n",
    "\n",
    "root = Path(os.getcwd()).parent.parent\n",
    "sys.path.append(str(root))"
   ]
  },
  {
   "cell_type": "code",
   "execution_count": 2,
   "metadata": {},
   "outputs": [],
   "source": [
    "import pandas as pd"
   ]
  },
  {
   "cell_type": "code",
   "execution_count": 3,
   "metadata": {},
   "outputs": [
    {
     "data": {
      "text/html": [
       "<div>\n",
       "<style scoped>\n",
       "    .dataframe tbody tr th:only-of-type {\n",
       "        vertical-align: middle;\n",
       "    }\n",
       "\n",
       "    .dataframe tbody tr th {\n",
       "        vertical-align: top;\n",
       "    }\n",
       "\n",
       "    .dataframe thead th {\n",
       "        text-align: right;\n",
       "    }\n",
       "</style>\n",
       "<table border=\"1\" class=\"dataframe\">\n",
       "  <thead>\n",
       "    <tr style=\"text-align: right;\">\n",
       "      <th></th>\n",
       "      <th>patient_id</th>\n",
       "      <th>city</th>\n",
       "      <th>infection_case</th>\n",
       "      <th>date</th>\n",
       "      <th>type</th>\n",
       "      <th>latitude</th>\n",
       "      <th>longitude</th>\n",
       "      <th>row</th>\n",
       "      <th>col</th>\n",
       "    </tr>\n",
       "  </thead>\n",
       "  <tbody>\n",
       "    <tr>\n",
       "      <th>0</th>\n",
       "      <td>1000000001</td>\n",
       "      <td>jung</td>\n",
       "      <td>overseas inflow</td>\n",
       "      <td>2020-01-24</td>\n",
       "      <td>hospital</td>\n",
       "      <td>37.567241</td>\n",
       "      <td>127.005659</td>\n",
       "      <td>147.0</td>\n",
       "      <td>152.0</td>\n",
       "    </tr>\n",
       "    <tr>\n",
       "      <th>1</th>\n",
       "      <td>1000000002</td>\n",
       "      <td>seongbuk</td>\n",
       "      <td>overseas inflow</td>\n",
       "      <td>2020-01-25</td>\n",
       "      <td>etc</td>\n",
       "      <td>37.592560</td>\n",
       "      <td>127.017048</td>\n",
       "      <td>119.0</td>\n",
       "      <td>161.0</td>\n",
       "    </tr>\n",
       "    <tr>\n",
       "      <th>2</th>\n",
       "      <td>1000000002</td>\n",
       "      <td>seongbuk</td>\n",
       "      <td>overseas inflow</td>\n",
       "      <td>2020-01-26</td>\n",
       "      <td>store</td>\n",
       "      <td>37.591810</td>\n",
       "      <td>127.016822</td>\n",
       "      <td>120.0</td>\n",
       "      <td>161.0</td>\n",
       "    </tr>\n",
       "    <tr>\n",
       "      <th>3</th>\n",
       "      <td>1000000002</td>\n",
       "      <td>seongdong</td>\n",
       "      <td>overseas inflow</td>\n",
       "      <td>2020-01-26</td>\n",
       "      <td>public_transportation</td>\n",
       "      <td>37.563992</td>\n",
       "      <td>127.029534</td>\n",
       "      <td>151.0</td>\n",
       "      <td>170.0</td>\n",
       "    </tr>\n",
       "    <tr>\n",
       "      <th>4</th>\n",
       "      <td>1000000002</td>\n",
       "      <td>seongbuk</td>\n",
       "      <td>overseas inflow</td>\n",
       "      <td>2020-01-26</td>\n",
       "      <td>public_transportation</td>\n",
       "      <td>37.590330</td>\n",
       "      <td>127.015221</td>\n",
       "      <td>121.0</td>\n",
       "      <td>160.0</td>\n",
       "    </tr>\n",
       "  </tbody>\n",
       "</table>\n",
       "</div>"
      ],
      "text/plain": [
       "   patient_id       city   infection_case        date                   type  \\\n",
       "0  1000000001       jung  overseas inflow  2020-01-24               hospital   \n",
       "1  1000000002   seongbuk  overseas inflow  2020-01-25                    etc   \n",
       "2  1000000002   seongbuk  overseas inflow  2020-01-26                  store   \n",
       "3  1000000002  seongdong  overseas inflow  2020-01-26  public_transportation   \n",
       "4  1000000002   seongbuk  overseas inflow  2020-01-26  public_transportation   \n",
       "\n",
       "    latitude   longitude    row    col  \n",
       "0  37.567241  127.005659  147.0  152.0  \n",
       "1  37.592560  127.017048  119.0  161.0  \n",
       "2  37.591810  127.016822  120.0  161.0  \n",
       "3  37.563992  127.029534  151.0  170.0  \n",
       "4  37.590330  127.015221  121.0  160.0  "
      ]
     },
     "execution_count": 3,
     "metadata": {},
     "output_type": "execute_result"
    }
   ],
   "source": [
    "final_path = join(root, 'data', 'extracted', 'merged_route_final.csv')\n",
    "final_df = pd.read_csv(final_path)\n",
    "final_df.head()"
   ]
  },
  {
   "cell_type": "code",
   "execution_count": 4,
   "metadata": {},
   "outputs": [
    {
     "data": {
      "text/plain": [
       "Index(['patient_id', 'city', 'infection_case', 'date', 'type', 'latitude',\n",
       "       'longitude', 'row', 'col'],\n",
       "      dtype='object')"
      ]
     },
     "execution_count": 4,
     "metadata": {},
     "output_type": "execute_result"
    }
   ],
   "source": [
    "final_df.columns"
   ]
  },
  {
   "cell_type": "code",
   "execution_count": 5,
   "metadata": {},
   "outputs": [
    {
     "data": {
      "text/plain": [
       "29"
      ]
     },
     "execution_count": 5,
     "metadata": {},
     "output_type": "execute_result"
    }
   ],
   "source": [
    "city_list = final_df['city'].drop_duplicates().tolist()\n",
    "len(city_list)"
   ]
  },
  {
   "cell_type": "code",
   "execution_count": 6,
   "metadata": {},
   "outputs": [
    {
     "data": {
      "text/plain": [
       "63"
      ]
     },
     "execution_count": 6,
     "metadata": {},
     "output_type": "execute_result"
    }
   ],
   "source": [
    "case_list = final_df['infection_case'].drop_duplicates().tolist()\n",
    "len(case_list)"
   ]
  },
  {
   "cell_type": "code",
   "execution_count": 7,
   "metadata": {},
   "outputs": [
    {
     "data": {
      "text/plain": [
       "70"
      ]
     },
     "execution_count": 7,
     "metadata": {},
     "output_type": "execute_result"
    }
   ],
   "source": [
    "type_list = final_df['type'].drop_duplicates().tolist()\n",
    "len(type_list)"
   ]
  },
  {
   "cell_type": "code",
   "execution_count": 9,
   "metadata": {},
   "outputs": [],
   "source": [
    "city_path = join(root, 'data', 'checklist', 'city_column.csv')\n",
    "city_df = pd.DataFrame(data={'city': city_list})\n",
    "city_df.to_csv(city_path, encoding='utf-8-sig',index=False)\n",
    "\n",
    "case_path = join(root, 'data', 'checklist', 'infection_case_column.csv')\n",
    "case_df = pd.DataFrame(data={'infection_case': case_list})\n",
    "case_df.to_csv(case_path, encoding='utf-8-sig',index=False)\n",
    "\n",
    "type_path = join(root, 'data', 'checklist', 'type_column.csv')\n",
    "type_df = pd.DataFrame(data={'type': type_list})\n",
    "type_df.to_csv(type_path, encoding='utf-8-sig',index=False)"
   ]
  },
  {
   "cell_type": "code",
   "execution_count": null,
   "metadata": {},
   "outputs": [],
   "source": []
  }
 ],
 "metadata": {
  "kernelspec": {
   "display_name": "Python 3",
   "language": "python",
   "name": "python3"
  },
  "language_info": {
   "codemirror_mode": {
    "name": "ipython",
    "version": 3
   },
   "file_extension": ".py",
   "mimetype": "text/x-python",
   "name": "python",
   "nbconvert_exporter": "python",
   "pygments_lexer": "ipython3",
   "version": "3.8.5"
  }
 },
 "nbformat": 4,
 "nbformat_minor": 4
}
